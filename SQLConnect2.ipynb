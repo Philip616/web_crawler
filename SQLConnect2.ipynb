{
 "cells": [
  {
   "cell_type": "code",
   "execution_count": 1,
   "metadata": {
    "collapsed": true
   },
   "outputs": [],
   "source": [
    "import pandas as pd\n",
    "import numpy as np\n",
    "import MySQLdb"
   ]
  },
  {
   "cell_type": "code",
   "execution_count": 24,
   "metadata": {
    "collapsed": true,
    "scrolled": true
   },
   "outputs": [],
   "source": [
    "#date = pd.read_excel('中国交易所资料/大商所所有品种换约资料/交易日期/ioeh14 comdty.xlsx',encoding='utf-8')\n",
    "company_order = pd.read_csv('myTempCompanyAll20170915_004.csv',encoding='utf-8-sig',header=None,index_col=None)"
   ]
  },
  {
   "cell_type": "code",
   "execution_count": 157,
   "metadata": {
    "collapsed": true
   },
   "outputs": [],
   "source": [
    "db = MySQLdb.connect(\"localhost\",\"root\",\"0136\",\"iron_ore\" )\n",
    "db.set_character_set('utf8')"
   ]
  },
  {
   "cell_type": "code",
   "execution_count": 63,
   "metadata": {
    "collapsed": true
   },
   "outputs": [],
   "source": [
    "V_info_create()\n",
    "B_info_create()\n",
    "S_info_create()"
   ]
  },
  {
   "cell_type": "code",
   "execution_count": 96,
   "metadata": {
    "collapsed": true
   },
   "outputs": [
    {
     "name": "stdout",
     "output_type": "stream",
     "text": [
      "[Errno 2] No such file or directory: '../铁矿石/20170530.csv'\n",
      "[Errno 2] No such file or directory: '../铁矿石/20170529.csv'\n",
      "[Errno 2] No such file or directory: '../铁矿石/20170501.csv'\n",
      "[Errno 2] No such file or directory: '../铁矿石/20170404.csv'\n",
      "[Errno 2] No such file or directory: '../铁矿石/20170403.csv'\n",
      "[Errno 2] No such file or directory: '../铁矿石/20170202.csv'\n",
      "[Errno 2] No such file or directory: '../铁矿石/20170201.csv'\n",
      "[Errno 2] No such file or directory: '../铁矿石/20170131.csv'\n",
      "[Errno 2] No such file or directory: '../铁矿石/20170130.csv'\n",
      "[Errno 2] No such file or directory: '../铁矿石/20170127.csv'\n",
      "[Errno 2] No such file or directory: '../铁矿石/20170102.csv'\n",
      "[Errno 2] No such file or directory: '../铁矿石/20161007.csv'\n",
      "[Errno 2] No such file or directory: '../铁矿石/20161006.csv'\n",
      "[Errno 2] No such file or directory: '../铁矿石/20161005.csv'\n",
      "[Errno 2] No such file or directory: '../铁矿石/20161004.csv'\n",
      "[Errno 2] No such file or directory: '../铁矿石/20161003.csv'\n",
      "[Errno 2] No such file or directory: '../铁矿石/20160916.csv'\n",
      "[Errno 2] No such file or directory: '../铁矿石/20160915.csv'\n",
      "[Errno 2] No such file or directory: '../铁矿石/20160610.csv'\n",
      "[Errno 2] No such file or directory: '../铁矿石/20160609.csv'\n",
      "[Errno 2] No such file or directory: '../铁矿石/20160502.csv'\n",
      "[Errno 2] No such file or directory: '../铁矿石/20160404.csv'\n",
      "[Errno 2] No such file or directory: '../铁矿石/20160212.csv'\n",
      "[Errno 2] No such file or directory: '../铁矿石/20160211.csv'\n",
      "[Errno 2] No such file or directory: '../铁矿石/20160210.csv'\n",
      "[Errno 2] No such file or directory: '../铁矿石/20160209.csv'\n",
      "[Errno 2] No such file or directory: '../铁矿石/20160208.csv'\n",
      "[Errno 2] No such file or directory: '../铁矿石/20160101.csv'\n",
      "[Errno 2] No such file or directory: '../铁矿石/20151007.csv'\n",
      "[Errno 2] No such file or directory: '../铁矿石/20151006.csv'\n",
      "[Errno 2] No such file or directory: '../铁矿石/20151005.csv'\n",
      "[Errno 2] No such file or directory: '../铁矿石/20151002.csv'\n",
      "[Errno 2] No such file or directory: '../铁矿石/20151001.csv'\n",
      "[Errno 2] No such file or directory: '../铁矿石/20150904.csv'\n",
      "[Errno 2] No such file or directory: '../铁矿石/20150903.csv'\n",
      "[Errno 2] No such file or directory: '../铁矿石/20150622.csv'\n",
      "[Errno 2] No such file or directory: '../铁矿石/20150501.csv'\n",
      "[Errno 2] No such file or directory: '../铁矿石/20150406.csv'\n",
      "[Errno 2] No such file or directory: '../铁矿石/20150224.csv'\n",
      "[Errno 2] No such file or directory: '../铁矿石/20150223.csv'\n",
      "[Errno 2] No such file or directory: '../铁矿石/20150220.csv'\n",
      "[Errno 2] No such file or directory: '../铁矿石/20150219.csv'\n",
      "[Errno 2] No such file or directory: '../铁矿石/20150218.csv'\n",
      "[Errno 2] No such file or directory: '../铁矿石/20150102.csv'\n",
      "[Errno 2] No such file or directory: '../铁矿石/20150101.csv'\n",
      "[Errno 2] No such file or directory: '../铁矿石/20141007.csv'\n",
      "[Errno 2] No such file or directory: '../铁矿石/20141006.csv'\n",
      "[Errno 2] No such file or directory: '../铁矿石/20141003.csv'\n",
      "[Errno 2] No such file or directory: '../铁矿石/20141002.csv'\n",
      "[Errno 2] No such file or directory: '../铁矿石/20141001.csv'\n",
      "[Errno 2] No such file or directory: '../铁矿石/20140908.csv'\n",
      "[Errno 2] No such file or directory: '../铁矿石/20140602.csv'\n",
      "[Errno 2] No such file or directory: '../铁矿石/20140502.csv'\n",
      "[Errno 2] No such file or directory: '../铁矿石/20140501.csv'\n",
      "[Errno 2] No such file or directory: '../铁矿石/20140407.csv'\n",
      "[Errno 2] No such file or directory: '../铁矿石/20140206.csv'\n",
      "[Errno 2] No such file or directory: '../铁矿石/20140205.csv'\n",
      "[Errno 2] No such file or directory: '../铁矿石/20140204.csv'\n",
      "[Errno 2] No such file or directory: '../铁矿石/20140203.csv'\n",
      "[Errno 2] No such file or directory: '../铁矿石/20140131.csv'\n",
      "[Errno 2] No such file or directory: '../铁矿石/20140101.csv'\n"
     ]
    }
   ],
   "source": [
    "for x in range(43,len(date.dropna())): \n",
    "    split_date = date['Date'][x].strftime('%Y-%m-%d').split('-')\n",
    "    table_date = split_date[0]+split_date[1]+split_date[2]\n",
    "    try:\n",
    "        data = pd.read_csv('../铁矿石/'+table_date+'.csv',encoding='utf-8-sig',engine='python')\n",
    "    except Exception as e:\n",
    "        print(e)\n",
    "        continue\n",
    "        \n",
    "    for i in range(3,len(data)-1):\n",
    "        for j in range(12):\n",
    "            if(data.loc[i][j] == \"-\"):\n",
    "                data.loc[i][j] = \"NULL\"                \n",
    "            elif( (j==2 or j==3 or j==6 or j==7 or j==10 or j==11) and data.loc[i][j] != \"NULL\"):\n",
    "                data.loc[i][j] = data.loc[i][j].replace(',','')\n",
    "  \n",
    "    tmp = x\n",
    "\n",
    "    #total_insert(data,table_date)\n",
    "    #futures_member_insert(data,table_date)\n",
    "    #non_futures_member_insert(data,table_date)\n",
    "    #total_volume_insert(data,table_date)\n",
    "        \n",
    "    V_info_insert(data,table_date,date['Date'][x].strftime('%Y-%m-%d'))\n",
    "    B_info_insert(data,table_date,date['Date'][x].strftime('%Y-%m-%d'))\n",
    "    S_info_insert(data,table_date,date['Date'][x].strftime('%Y-%m-%d'))\n",
    "    \n",
    "db.close()"
   ]
  },
  {
   "cell_type": "code",
   "execution_count": 94,
   "metadata": {},
   "outputs": [
    {
     "data": {
      "text/plain": [
       "43"
      ]
     },
     "execution_count": 94,
     "metadata": {},
     "output_type": "execute_result"
    }
   ],
   "source": [
    "tmp"
   ]
  },
  {
   "cell_type": "markdown",
   "metadata": {},
   "source": [
    "# 總表輸入"
   ]
  },
  {
   "cell_type": "code",
   "execution_count": 265,
   "metadata": {
    "collapsed": true,
    "scrolled": true
   },
   "outputs": [],
   "source": [
    "def total_insert(data,table_date):       \n",
    "    cursor = db.cursor()\n",
    "\n",
    "    sql = \"CREATE TABLE IF NOT EXISTS i_\" + table_date+ \"(\\\n",
    "    Rank INT(5),\\\n",
    "    Member CHAR(20),\\\n",
    "    Volume INT,\\\n",
    "    Increment INT,\\\n",
    "    Rank_1 INT(5),\\\n",
    "    Member1 CHAR(20),\\\n",
    "    Buy_Volume INT,\\\n",
    "    Increment_1 INT,\\\n",
    "    Rank_2 INT(5),\\\n",
    "    Member2 CHAR(20),\\\n",
    "    Sales_Volume INT,\\\n",
    "    Increment_2 INT )\"\n",
    "\n",
    "    cursor.execute(sql)\n",
    "\n",
    "    for i in range(3,len(data)-1):\n",
    "        \n",
    "        No = data.loc[i][0]\n",
    "        Member = data.loc[i][1]\n",
    "        Volume = data.loc[i][2]\n",
    "        Increase_or_decrease = data.loc[i][3]\n",
    "        No1 = data.loc[i][4]\n",
    "        Member1 = data.loc[i][5]\n",
    "        Buy_Volume = data.loc[i][6]\n",
    "        Increase_or_decrease1 = data.loc[i][7]\n",
    "        No2 = data.loc[i][8]\n",
    "        Member2 = data.loc[i][9]\n",
    "        Sales_Volume = data.loc[i][10]\n",
    "        Increase_or_decrease2 = data.loc[i][11]\n",
    "\n",
    "        sql = \"INSERT INTO i_\" + table_date +\"(Rank,Member,Volume,Increment,Rank_1,Member1,Buy_Volume,Increment_1 \\\n",
    "        ,Rank_2,Member2,Sales_Volume,Increment_2) VALUES(\" \\\n",
    "        + No + \",'\" + Member + \"',\" + Volume + \",\" + Increase_or_decrease + \",\"\\\n",
    "        + No1 + \",'\" + Member1 + \"',\" + Buy_Volume + \",\" + Increase_or_decrease1 + \",\"\\\n",
    "        + No2 + \",'\" + Member2 + \"',\" + Sales_Volume + \",\" + Increase_or_decrease2 + \")\"\n",
    "\n",
    "        cursor.execute(sql)\n",
    "        db.commit()\n",
    "    cursor.close()"
   ]
  },
  {
   "cell_type": "markdown",
   "metadata": {},
   "source": [
    "# 期貨公司成員輸入"
   ]
  },
  {
   "cell_type": "code",
   "execution_count": 5,
   "metadata": {
    "collapsed": true
   },
   "outputs": [],
   "source": [
    "def futures_member_insert(data,table_date):\n",
    "    cursor = db.cursor()\n",
    "    sql = \"\"\"CREATE TABLE IF NOT EXISTS futures_member (\\\n",
    "    Date DATE PRIMARY KEY,\\\n",
    "    Total_volume INT,\\\n",
    "    Increment INT,\\\n",
    "    Total_buy_volume INT,\\\n",
    "    Increment_1 INT,\\\n",
    "    Total_sales_volume INT,\\\n",
    "    Increment_2 INT ) \"\"\"\n",
    "\n",
    "    cursor.execute(sql)\n",
    "    \n",
    "    sql = \"INSERT INTO futures_member (Date,Total_volume,Increment,Total_buy_volume,Increment_1,Total_sales_volume,Increment_2) VALUES( \"\\\n",
    "    + table_date +\",\"\\\n",
    "    + data.loc[0][1].replace(',','') +\",\"\\\n",
    "    + data.loc[0][2].replace(',','') +\",\"\\\n",
    "    + data.loc[0][3].replace(',','') +\",\"\\\n",
    "    + data.loc[0][4].replace(',','') +\",\"\\\n",
    "    + data.loc[0][5].replace(',','') +\",\"\\\n",
    "    + data.loc[0][6].replace(',','') + \")\"\n",
    "\n",
    "    cursor.execute(sql)\n",
    "    db.commit()\n",
    "    cursor.close()"
   ]
  },
  {
   "cell_type": "markdown",
   "metadata": {},
   "source": [
    "# 非期貨公司成員輸入"
   ]
  },
  {
   "cell_type": "code",
   "execution_count": 243,
   "metadata": {},
   "outputs": [
    {
     "data": {
      "text/plain": [
       "0"
      ]
     },
     "execution_count": 243,
     "metadata": {},
     "output_type": "execute_result"
    }
   ],
   "source": [
    "cursor = db.cursor()\n",
    "sql = \"\"\"CREATE TABLE IF NOT EXISTS none_futures_member (\\\n",
    "Date DATE PRIMARY KEY,\\\n",
    "Total_volume INT,\\\n",
    "Increment INT,\\\n",
    "Total_buy_volume INT,\\\n",
    "Increment_1 INT,\\\n",
    "Total_sales_volume INT,\\\n",
    "Increment_2 INT ) \"\"\"\n",
    "\n",
    "cursor.execute(sql)"
   ]
  },
  {
   "cell_type": "code",
   "execution_count": 21,
   "metadata": {
    "collapsed": true
   },
   "outputs": [],
   "source": [
    "def non_futures_member_insert(data,table_date):\n",
    "    cursor = db.cursor()\n",
    "    sql = \"INSERT INTO none_futures_member (Date,Total_volume,Increment,Total_buy_volume,Increment_1,Total_sales_volume,Increment_2) VALUES(\"\\\n",
    "    + table_date + \",\"\\\n",
    "    + data.loc[1][1].replace(',','') +\",\"\\\n",
    "    + data.loc[1][2].replace(',','') +\",\"\\\n",
    "    + data.loc[1][3].replace(',','') +\",\"\\\n",
    "    + data.loc[1][4].replace(',','') +\",\"\\\n",
    "    + data.loc[1][5].replace(',','') +\",\"\\\n",
    "    + data.loc[1][6].replace(',','') + \")\"\n",
    "\n",
    "    cursor.execute(sql)\n",
    "    db.commit()\n",
    "    cursor.close()"
   ]
  },
  {
   "cell_type": "markdown",
   "metadata": {},
   "source": [
    "# 總計"
   ]
  },
  {
   "cell_type": "code",
   "execution_count": 247,
   "metadata": {},
   "outputs": [
    {
     "data": {
      "text/plain": [
       "0"
      ]
     },
     "execution_count": 247,
     "metadata": {},
     "output_type": "execute_result"
    }
   ],
   "source": [
    "cursor = db.cursor()\n",
    "sql = \"CREATE TABLE IF NOT EXISTS total_volume ( Date DATE PRIMARY KEY, \\\n",
    "V_Valume INT,V_Increment INT,\\\n",
    "B_Valume INT,B_Increment INT,\\\n",
    "S_Valume INT,S_Increment INT)\"\n",
    "\n",
    "cursor.execute(sql)"
   ]
  },
  {
   "cell_type": "code",
   "execution_count": 25,
   "metadata": {
    "collapsed": true
   },
   "outputs": [],
   "source": [
    "def total_volume_insert(data,table_date):\n",
    "    cursor = db.cursor()\n",
    "    total_len = len(data)-1\n",
    "    sql = \"INSERT INTO total_volume (Date,V_Valume,V_Increment,B_Valume,B_Increment,S_Valume,S_Increment) VALUES(\"\\\n",
    "    + table_date + \",\"\\\n",
    "    + data.loc[total_len][2].replace(',','') +\",\"\\\n",
    "    + data.loc[total_len][3].replace(',','') +\",\"\\\n",
    "    + data.loc[total_len][6].replace(',','') +\",\"\\\n",
    "    + data.loc[total_len][7].replace(',','') +\",\"\\\n",
    "    + data.loc[total_len][10].replace(',','') +\",\"\\\n",
    "    + data.loc[total_len][11].replace(',','') + \")\"\n",
    "\n",
    "    cursor.execute(sql)\n",
    "    db.commit()"
   ]
  },
  {
   "cell_type": "markdown",
   "metadata": {},
   "source": [
    "# 各公司資訊"
   ]
  },
  {
   "cell_type": "markdown",
   "metadata": {},
   "source": [
    "## V名次、成交量、增減"
   ]
  },
  {
   "cell_type": "code",
   "execution_count": 45,
   "metadata": {
    "collapsed": true
   },
   "outputs": [],
   "source": [
    "def V_info_create():\n",
    "    cursor = db.cursor()\n",
    "    name=\"\"\n",
    "    for i in range(len(company_order)-1):\n",
    "        name = name + company_order.loc[i][0] + ' CHAR(10),'\n",
    "    name = name + company_order.loc[len(company_order)-1][0] + \" CHAR(10)\"\n",
    "\n",
    "    sql = \"CREATE TABLE IF NOT EXISTS v_rank ( Date DATE PRIMARY KEY, \" + name + \")\"\n",
    "    cursor.execute(sql)\n",
    "\n",
    "    sql = \"CREATE TABLE IF NOT EXISTS v_volume ( Date DATE PRIMARY KEY, \" + name + \")\"\n",
    "    cursor.execute(sql)\n",
    "\n",
    "    sql = \"CREATE TABLE IF NOT EXISTS v_increment ( Date DATE PRIMARY KEY, \" + name + \")\"\n",
    "    cursor.execute(sql)\n",
    "    cursor.close()"
   ]
  },
  {
   "cell_type": "code",
   "execution_count": 92,
   "metadata": {
    "collapsed": true
   },
   "outputs": [],
   "source": [
    "def V_info_insert(data,table_date,list_date):\n",
    "    cursor = db.cursor()\n",
    "    name=\"\"\n",
    "    for i in range(len(company_order)-1):\n",
    "        name = name + company_order.loc[i][0] + ','\n",
    "    name = name + company_order.loc[len(company_order)-1][0]\n",
    "\n",
    "    empty = \"\"\n",
    "    empty = empty + table_date + \",\"\n",
    "    for i in range(len(company_order)-1):\n",
    "        empty = empty + \"NULL\" + ','\n",
    "    empty = empty + \"NULL\"\n",
    "\n",
    "    sql = \"INSERT INTO v_rank (Date,\" + name + \") VALUES (\" + empty + \")\"\n",
    "    cursor.execute(sql)\n",
    "    db.commit()\n",
    "\n",
    "    sql = \"INSERT INTO v_volume (Date,\" + name + \") VALUES (\" + empty + \")\"\n",
    "    cursor.execute(sql)\n",
    "    db.commit()\n",
    "\n",
    "    sql = \"INSERT INTO v_increment (Date,\" + name + \") VALUES (\" + empty + \")\"\n",
    "    cursor.execute(sql)\n",
    "    db.commit()\n",
    "    \n",
    "    for i in range(3,len(data)-1):\n",
    "        if(data.loc[i][1] == \"NULL\"):\n",
    "            continue\n",
    "        \n",
    "        else:\n",
    "            sql = \"UPDATE v_rank SET \" + str(data.loc[i][1]) + \"=\" + data.loc[i][0] + \" WHERE Date='\" + list_date + \"'\"\n",
    "            cursor.execute(sql)\n",
    "            db.commit()    \n",
    "\n",
    "    for i in range(3,len(data)-1):\n",
    "        if(data.loc[i][5] == \"NULL\"):\n",
    "            continue\n",
    "            \n",
    "        else:\n",
    "            sql = \"UPDATE v_volume SET \" + str(data.loc[i][1]) + \"=\" + data.loc[i][2] + \" WHERE Date='\" + list_date + \"'\"\n",
    "            cursor.execute(sql)\n",
    "            db.commit()\n",
    "\n",
    "    for i in range(3,len(data)-1):\n",
    "        if(data.loc[i][9] == \"NULL\"):\n",
    "            continue\n",
    "            \n",
    "        else:\n",
    "            sql = \"UPDATE v_increment SET \" + data.loc[i][1] + \"=\" + data.loc[i][3] + \" WHERE Date='\" + list_date + \"'\"\n",
    "            cursor.execute(sql)\n",
    "            db.commit()\n",
    "    \n",
    "    cursor.close()"
   ]
  },
  {
   "cell_type": "markdown",
   "metadata": {},
   "source": [
    "## B名次、買單量、增減"
   ]
  },
  {
   "cell_type": "code",
   "execution_count": 198,
   "metadata": {},
   "outputs": [
    {
     "data": {
      "text/plain": [
       "0"
      ]
     },
     "execution_count": 198,
     "metadata": {},
     "output_type": "execute_result"
    }
   ],
   "source": [
    "def B_info_create():\n",
    "    name=\"\"\n",
    "    for i in range(len(company_order)-1):\n",
    "        name = name + company_order.loc[i][0] + ' CHAR(10),'\n",
    "    name = name + company_order.loc[len(company_order)-1][0] + \" CHAR(10)\"\n",
    "\n",
    "    sql = \"CREATE TABLE IF NOT EXISTS b_rank ( Date DATE PRIMARY KEY, \" + name + \")\"\n",
    "    cursor.execute(sql)\n",
    "\n",
    "    sql = \"CREATE TABLE IF NOT EXISTS b_oi ( Date DATE PRIMARY KEY, \" + name + \")\"\n",
    "    cursor.execute(sql)\n",
    "\n",
    "    sql = \"CREATE TABLE IF NOT EXISTS b_increment ( Date DATE PRIMARY KEY, \" + name + \")\"\n",
    "    cursor.execute(sql)"
   ]
  },
  {
   "cell_type": "code",
   "execution_count": 199,
   "metadata": {
    "collapsed": true
   },
   "outputs": [],
   "source": [
    "def B_info_insert(data,table_date,list_date)\n",
    "    name=\"\"\n",
    "    for i in range(len(company_order)-1):\n",
    "        name = name + company_order.loc[i][0] + ','\n",
    "    name = name + company_order.loc[len(company_order)-1][0]\n",
    "\n",
    "    empty = \"\"\n",
    "    empty = empty + table_date + \",\"\n",
    "    for i in range(len(company_order)-1):\n",
    "        empty = empty + \"NULL\" + ','\n",
    "    empty = empty + \"NULL\"\n",
    "    \n",
    "    sql = \"INSERT INTO b_rank (Date,\" + name + \") VALUES (\" + empty + \")\"\n",
    "    cursor.execute(sql)\n",
    "    db.commit()\n",
    "\n",
    "    sql = \"INSERT INTO b_oi (Date,\" + name + \") VALUES (\" + empty + \")\"\n",
    "    cursor.execute(sql)\n",
    "    db.commit()\n",
    "\n",
    "    sql = \"INSERT INTO b_increment (Date,\" + name + \") VALUES (\" + empty + \")\"\n",
    "    cursor.execute(sql)\n",
    "    db.commit()\n",
    "    \n",
    "    for i in range(3,len(data)-1):\n",
    "    if(data.loc[i][1] == \"NULL\"):\n",
    "        continue  \n",
    "        \n",
    "    sql = \"UPDATE b_rank SET \" + str(data.loc[i][5]) + \"=\" + data.loc[i][4] + \" WHERE Date='\" + list_date + \"'\"\n",
    "    cursor.execute(sql)\n",
    "    db.commit()    \n",
    "\n",
    "    for i in range(3,len(data)-1):\n",
    "        if(data.loc[i][5] == \"NULL\"):\n",
    "            continue\n",
    "        sql = \"UPDATE b_oi SET \" + str(data.loc[i][5]) + \"=\" + data.loc[i][6] + \" WHERE Date='\" + list_date + \"'\"\n",
    "        cursor.execute(sql)\n",
    "        db.commit()\n",
    "\n",
    "    for i in range(3,len(data)-1):\n",
    "        if(data.loc[i][9] == \"NULL\"):\n",
    "            continue\n",
    "        sql = \"UPDATE b_increment SET \" + data.loc[i][5] + \"=\" + data.loc[i][7] + \" WHERE Date='\" + list_date + \"'\"\n",
    "        cursor.execute(sql)\n",
    "        db.commit()\n",
    "\n",
    "    cursor.close()"
   ]
  },
  {
   "cell_type": "markdown",
   "metadata": {
    "scrolled": true
   },
   "source": [
    "## S名次、賣單量、增減"
   ]
  },
  {
   "cell_type": "code",
   "execution_count": 203,
   "metadata": {},
   "outputs": [
    {
     "data": {
      "text/plain": [
       "0"
      ]
     },
     "execution_count": 203,
     "metadata": {},
     "output_type": "execute_result"
    }
   ],
   "source": [
    "def S_info_create():\n",
    "    name=\"\"\n",
    "    for i in range(len(company_order)-1):\n",
    "        name = name + company_order.loc[i][0] + ' CHAR(10),'\n",
    "    name = name + company_order.loc[len(company_order)-1][0] + \" CHAR(10)\"\n",
    "\n",
    "    sql = \"CREATE TABLE IF NOT EXISTS s_rank ( Date DATE PRIMARY KEY, \" + name + \")\"\n",
    "    cursor.execute(sql)\n",
    "\n",
    "    sql = \"CREATE TABLE IF NOT EXISTS s_oi ( Date DATE PRIMARY KEY, \" + name + \")\"\n",
    "    cursor.execute(sql)\n",
    "\n",
    "    sql = \"CREATE TABLE IF NOT EXISTS s_increment ( Date DATE PRIMARY KEY, \" + name + \")\"\n",
    "    cursor.execute(sql)"
   ]
  },
  {
   "cell_type": "code",
   "execution_count": 204,
   "metadata": {
    "collapsed": true
   },
   "outputs": [],
   "source": [
    "def S_info_insert(data,table_date,list_date):\n",
    "    name=\"\"\n",
    "    for i in range(len(company_order)-1):\n",
    "        name = name + company_order.loc[i][0] + ','\n",
    "    name = name + company_order.loc[len(company_order)-1][0]\n",
    "\n",
    "    empty = \"\"\n",
    "    empty = empty + table_date + \",\"\n",
    "    for i in range(len(company_order)-1):\n",
    "        empty = empty + \"NULL\" + ','\n",
    "    empty = empty + \"NULL\"\n",
    "    \n",
    "    sql = \"INSERT INTO s_rank (Date,\" + name + \") VALUES (\" + empty + \")\"\n",
    "    cursor.execute(sql)\n",
    "    db.commit()\n",
    "\n",
    "    sql = \"INSERT INTO s_oi (Date,\" + name + \") VALUES (\" + empty + \")\"\n",
    "    cursor.execute(sql)\n",
    "    db.commit()\n",
    "\n",
    "    sql = \"INSERT INTO s_increment (Date,\" + name + \") VALUES (\" + empty + \")\"\n",
    "    cursor.execute(sql)\n",
    "    db.commit()\n",
    "    \n",
    "    for i in range(3,len(data)-1):\n",
    "    if(data.loc[i][1] == \"NULL\"):\n",
    "        continue  \n",
    "        \n",
    "    sql = \"UPDATE s_rank SET \" + str(data.loc[i][1]) + \"=\" + data.loc[i][0] + \" WHERE Date='\" + list_date + \"'\"\n",
    "    cursor.execute(sql)\n",
    "    db.commit()    \n",
    "\n",
    "    for i in range(3,len(data)-1):\n",
    "        if(data.loc[i][5] == \"NULL\"):\n",
    "            continue\n",
    "        sql = \"UPDATE s_oi SET \" + str(data.loc[i][1]) + \"=\" + data.loc[i][2] + \" WHERE Date='\" + list_date + \"'\"\n",
    "        cursor.execute(sql)\n",
    "        db.commit()\n",
    "\n",
    "    for i in range(3,len(data)-1):\n",
    "        if(data.loc[i][9] == \"NULL\"):\n",
    "            continue\n",
    "        sql = \"UPDATE s_increment SET \" + data.loc[i][9] + \"=\" + data.loc[i][3] + \" WHERE Date='\" + list_date + \"'\"\n",
    "        cursor.execute(sql)\n",
    "        db.commit()\n",
    "\n",
    "    cursor.close()"
   ]
  }
 ],
 "metadata": {
  "kernelspec": {
   "display_name": "Python [conda env:py36]",
   "language": "python",
   "name": "conda-env-py36-py"
  },
  "language_info": {
   "codemirror_mode": {
    "name": "ipython",
    "version": 3
   },
   "file_extension": ".py",
   "mimetype": "text/x-python",
   "name": "python",
   "nbconvert_exporter": "python",
   "pygments_lexer": "ipython3",
   "version": "3.6.2"
  }
 },
 "nbformat": 4,
 "nbformat_minor": 2
}
