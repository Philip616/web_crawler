{
 "cells": [
  {
   "cell_type": "code",
   "execution_count": 1,
   "metadata": {},
   "outputs": [],
   "source": [
    "import pandas as pd\n",
    "import MySQLdb\n",
    "import datetime\n",
    "import os;"
   ]
  },
  {
   "cell_type": "code",
   "execution_count": 2,
   "metadata": {},
   "outputs": [],
   "source": [
    "db = MySQLdb.connect(\"localhost\",\"root\",\"123456\",\"i_day_data\")\n",
    "db.set_character_set(\"gbk\")"
   ]
  },
  {
   "cell_type": "code",
   "execution_count": 104,
   "metadata": {
    "collapsed": true
   },
   "outputs": [],
   "source": [
    "db = MySQLdb.connect(\"47.100.14.137\",\"hyps44413\",\"Nanhua\")\n",
    "db.set_character_set('gbk')"
   ]
  },
  {
   "cell_type": "code",
   "execution_count": 3,
   "metadata": {},
   "outputs": [],
   "source": [
    "B1_list = [['K','U'],['U','F'],['F','K']] #鐵礦石 2013-10-18 / 2017-11-18 \n",
    "# B1_list = [['F','K'],['K','U'],['U','F']] #玉米2004-10-29\n",
    "# B1_list = [['U','F'],['F','K'],['K','U']] #焦炭 2011-04-15 / 焦煤 2013-03-22 / 豆粕2000-7-17 \n",
    "# B1_list = [['M','Z'],['Z','M']] #黃金 2008-01-09 NO B2\n",
    "# B1_list = [['Z','M'],['M','Z']] #白銀 2012-05-10 NO B2"
   ]
  },
  {
   "cell_type": "code",
   "execution_count": 4,
   "metadata": {},
   "outputs": [],
   "source": [
    "B2_list = ['U','F','K'] #鐵礦石\n",
    "# B2_list = ['K','U','F'] #玉米\n",
    "# B2_list = ['F','K','U'] #焦炭/焦煤/豆粕"
   ]
  },
  {
   "cell_type": "code",
   "execution_count": 8,
   "metadata": {
    "scrolled": true
   },
   "outputs": [
    {
     "name": "stdout",
     "output_type": "stream",
     "text": [
      "2014-02-26\n",
      "tbname_1: IOEK14 start_date: 2013-10-18 end_date: 2014-02-26\n",
      "2014-07-22\n",
      "tbname_1: IOEU14 start_date: 2014-02-27 end_date: 2014-07-22\n",
      "2014-10-22\n",
      "tbname_1: IOEF15 start_date: 2014-07-23 end_date: 2014-10-22\n",
      "2015-03-06\n",
      "tbname_1: IOEK15 start_date: 2014-10-23 end_date: 2015-03-06\n",
      "2015-07-20\n",
      "tbname_1: IOEU15 start_date: 2015-03-07 end_date: 2015-07-20\n",
      "2015-11-20\n",
      "tbname_1: IOEF16 start_date: 2015-07-21 end_date: 2015-11-20\n",
      "2016-03-18\n",
      "tbname_1: IOEK16 start_date: 2015-11-21 end_date: 2016-03-18\n",
      "2016-08-10\n",
      "tbname_1: IOEU16 start_date: 2016-03-19 end_date: 2016-08-10\n",
      "2016-11-24\n",
      "tbname_1: IOEF17 start_date: 2016-08-11 end_date: 2016-11-24\n",
      "2017-03-21\n",
      "tbname_1: IOEK17 start_date: 2016-11-25 end_date: 2017-03-21\n",
      "2017-07-31\n",
      "tbname_1: IOEU17 start_date: 2017-03-22 end_date: 2017-07-31\n",
      "2017-11-22\n",
      "tbname_1: IOEF8 start_date: 2017-08-01 end_date: 2017-11-22\n",
      "1\n",
      "tbname_1: IOEK8 start_date: 2017-11-23 end_date: 2018-02-01\n"
     ]
    }
   ],
   "source": [
    "start_date = '2013-10-18'\n",
    "contract_id = \"IOE\"\n",
    "\n",
    "change_date = conti_contract_B1(start_date,contract_id,B1_list,\"i_B1.csv\",14,19)\n",
    "conti_contract_B2(start_date,contract_id,change_date,B2_list,\"i_B2.csv\",14,19)"
   ]
  },
  {
   "cell_type": "markdown",
   "metadata": {},
   "source": [
    "# 主力合約 (B)"
   ]
  },
  {
   "cell_type": "code",
   "execution_count": 5,
   "metadata": {
    "scrolled": true
   },
   "outputs": [],
   "source": [
    "def conti_contract_B1(start_date,contract_id,B_list,filename,start_year,end_year):\n",
    "    contract = pd.DataFrame()\n",
    "    contract_name = []\n",
    "    change = [1]\n",
    "    change_date = []\n",
    "\n",
    "    for year in range(start_year,end_year):\n",
    "        #修改合約順序\n",
    "        \n",
    "        if(year<10):\n",
    "            str_year = \"0\" + str(year)\n",
    "        elif(year==18):\n",
    "            str_year = \"8\"\n",
    "        else:\n",
    "            str_year = str(year)\n",
    "            \n",
    "        for month in B_list:\n",
    "            cursor = db.cursor()\n",
    "     \n",
    "            tbname_1 = contract_id + month[0] + str_year\n",
    "            \n",
    "            if(month[0]==\"Z\"):\n",
    "                year+=1             \n",
    "                str_year = str(year)\n",
    "                \n",
    "                #因為目前資料只到17年\n",
    "                if(year==19):\n",
    "                    break;\n",
    "                    \n",
    "                if(len(str_year)<2):\n",
    "                    str_year = \"0\" + str_year \n",
    "            \n",
    "            if(month[1]==\"F\"):\n",
    "                year+=1\n",
    "                str_year = str(year)\n",
    "                \n",
    "                if(year==19):\n",
    "                    break;\n",
    "                \n",
    "                if(len(str_year)<2):\n",
    "                    str_year = \"0\" + str_year  \n",
    "                    \n",
    "            if(str_year==\"18\"):\n",
    "                str_year = \"8\"\n",
    "\n",
    "            tbname_2 = contract_id + month[1] + str_year\n",
    "\n",
    "                                \n",
    "            #print(tbname_2)\n",
    "            #找換約日期\n",
    "            sql = \"SELECT table1.Date FROM \" + tbname_1 + \" table1,\" + tbname_2 + \" table2\" +\\\n",
    "                  \" WHERE table2.OI > table1.OI AND table1.Date = table2.Date AND table2.Date > '\" + start_date + \"' limit 1\"\n",
    "            cursor.execute(sql)\n",
    "            date = cursor.fetchone()\n",
    "\n",
    "            if(start_date >= '2018-01-09' ):\n",
    "                continue\n",
    "                \n",
    "            elif(date == None):\n",
    "                print(1)\n",
    "                sql = \"SELECT Date FROM \" + tbname_1 +\" order by Date desc limit 1\"\n",
    "                cursor.execute(sql)\n",
    "                date = cursor.fetchone()\n",
    "                end_date = date[0].strftime('%Y-%m-%d')\n",
    "            \n",
    "            else:\n",
    "                end_date = date[0].strftime('%Y-%m-%d')\n",
    "                print(end_date)\n",
    "            \n",
    "            print(\"tbname_1: \" + tbname_1,\"start_date: \" + start_date,\"end_date: \" + end_date)\n",
    "            change_date.append(end_date)\n",
    "            \n",
    "            #資料讀取\n",
    "            sql = \"SELECT * FROM \" + tbname_1 + \" WHERE Date <= '\" + end_date + \"' and Date>='\" + start_date + \"'\"\n",
    "\n",
    "            cursor.execute(sql)\n",
    "            db.commit()\n",
    "            data = cursor.fetchall()\n",
    "\n",
    "            for i in range(len(list(data))):\n",
    "                contract_name.append(tbname_1)\n",
    "                change.append(0)\n",
    "\n",
    "            contract = contract.append(pd.DataFrame(list(data)))\n",
    "            change.pop()\n",
    "            change.append(1)\n",
    "\n",
    "            start_date = (datetime.datetime.strptime(end_date,'%Y-%m-%d') + datetime.timedelta(days=1)).strftime('%Y-%m-%d')\n",
    "            \n",
    "            \n",
    "    change.pop()\n",
    "    contract['contract_name'] = contract_name\n",
    "    contract['change'] = change\n",
    "    \n",
    "    #存檔\n",
    "    columns = ['Date','open','high','low','last','settle','volume','open_int','contract_name','change']\n",
    "    contract.to_csv('../日資料/conti/B/' + filename,index=None,header=columns)\n",
    "    \n",
    "    return change_date"
   ]
  },
  {
   "cell_type": "markdown",
   "metadata": {},
   "source": [
    "# 其他合約 (B)"
   ]
  },
  {
   "cell_type": "code",
   "execution_count": 6,
   "metadata": {
    "scrolled": true
   },
   "outputs": [],
   "source": [
    "def conti_contract_B2(start_date,contract_id,change_date,B_list,filename,start_year,end_year):\n",
    "    contract = pd.DataFrame()\n",
    "    contract_name = []\n",
    "    change = [1]\n",
    "    date_count = 0\n",
    "\n",
    "    for year in range(start_year,end_year):\n",
    "            #修改合約順序\n",
    "            \n",
    "        if(year<10):\n",
    "            str_year = \"0\" + str(year)\n",
    "        else:\n",
    "            str_year = str(year)\n",
    "            \n",
    "        for month in B_list:\n",
    "            cursor = db.cursor()\n",
    "\n",
    "            if(month==\"F\"):\n",
    "                year+=1\n",
    "                str_year = str(year)\n",
    "                \n",
    "                if(year==19):\n",
    "                    break;\n",
    "                    \n",
    "                if(len(str_year)<2):\n",
    "                    str_year = \"0\" + str_year  \n",
    "                    \n",
    "            if(str_year==\"18\"):\n",
    "                str_year = \"8\"\n",
    "                \n",
    "            tbname = contract_id + month[0] + str_year\n",
    "\n",
    "            if(date_count < len(change_date)):\n",
    "                end_date = change_date[date_count]\n",
    "            else:\n",
    "                end_date = \"2018-01-09\"\n",
    "\n",
    "                #資料讀取\n",
    "            sql = \"SELECT * FROM \" + tbname + \" WHERE Date <= '\" + end_date + \"' and Date>='\" + start_date + \"'\"\n",
    "\n",
    "            cursor.execute(sql)\n",
    "            db.commit()\n",
    "            table1_data = cursor.fetchall()\n",
    "\n",
    "\n",
    "            for i in range(len(list(table1_data))):\n",
    "                contract_name.append(tbname)\n",
    "                change.append(0)\n",
    "\n",
    "            contract = contract.append(pd.DataFrame(list(table1_data)))\n",
    "            change.pop()\n",
    "            change.append(1)\n",
    "            \n",
    "\n",
    "            #讀取下一個合約的資料\n",
    "            date_count += 1\n",
    "\n",
    "            start_date = (datetime.datetime.strptime(end_date,'%Y-%m-%d') + datetime.timedelta(days=1)).strftime('%Y-%m-%d')\n",
    "\n",
    "    change.pop()\n",
    "    contract['contract_name'] = contract_name\n",
    "    contract['change'] = change\n",
    "    \n",
    "    \n",
    "\n",
    "    #存檔\n",
    "    columns = ['Date','open','high','low','last','settle','volume','open_int','contract_name','change']\n",
    "    contract.to_csv('../日資料/conti/B/' + filename,index=None,header=columns)"
   ]
  },
  {
   "cell_type": "markdown",
   "metadata": {},
   "source": [
    "# 螺紋鋼"
   ]
  },
  {
   "cell_type": "code",
   "execution_count": 2,
   "metadata": {},
   "outputs": [],
   "source": [
    "db = MySQLdb.connect(\"localhost\",\"root\",\"123456\",\"rb_day_data\")\n",
    "db.set_character_set(\"gbk\")"
   ]
  },
  {
   "cell_type": "code",
   "execution_count": 57,
   "metadata": {
    "collapsed": true
   },
   "outputs": [],
   "source": [
    "# B1_list = [['U','V'],['V','X'],['X','Z'],['Z','F']] #螺紋鋼 2009-03-27 (2009 9 10 11 12 1)\n",
    "# B1_list = [['F','G'],['G','H'],['H','K']] #螺紋鋼 2009-10-10 (2010 1 2 3 5)\n",
    "B1_list = [['K','V'],['V','F'],['F','K']] #螺紋鋼 2009-12-23 2010以後"
   ]
  },
  {
   "cell_type": "code",
   "execution_count": 30,
   "metadata": {},
   "outputs": [],
   "source": [
    "# A1_list = ['U','V','X','Z','F']   #9-10\n",
    "# A1_list = ['F','G','H','K']     #10-11\n",
    "# A1_list = ['K','V','F','K']     #11-19\n",
    "\n",
    "# A2_list = ['V','X','Z','F']\n",
    "# A2_list = ['G','H','K']\n",
    "# A2_list = ['V','F','K']"
   ]
  },
  {
   "cell_type": "code",
   "execution_count": 33,
   "metadata": {},
   "outputs": [
    {
     "data": {
      "text/plain": [
       "[]"
      ]
     },
     "execution_count": 33,
     "metadata": {},
     "output_type": "execute_result"
    }
   ],
   "source": [
    "change_date"
   ]
  },
  {
   "cell_type": "code",
   "execution_count": 31,
   "metadata": {
    "scrolled": true
   },
   "outputs": [
    {
     "ename": "ValueError",
     "evalue": "Writing 2 cols but got 10 aliases",
     "output_type": "error",
     "traceback": [
      "\u001b[1;31m---------------------------------------------------------------------------\u001b[0m",
      "\u001b[1;31mValueError\u001b[0m                                Traceback (most recent call last)",
      "\u001b[1;32m<ipython-input-31-ff59e22248fb>\u001b[0m in \u001b[0;36m<module>\u001b[1;34m()\u001b[0m\n\u001b[0;32m     74\u001b[0m \u001b[1;31m#存檔\u001b[0m\u001b[1;33m\u001b[0m\u001b[1;33m\u001b[0m\u001b[0m\n\u001b[0;32m     75\u001b[0m \u001b[0mcolumns\u001b[0m \u001b[1;33m=\u001b[0m \u001b[1;33m[\u001b[0m\u001b[1;34m'Date'\u001b[0m\u001b[1;33m,\u001b[0m\u001b[1;34m'open'\u001b[0m\u001b[1;33m,\u001b[0m\u001b[1;34m'high'\u001b[0m\u001b[1;33m,\u001b[0m\u001b[1;34m'low'\u001b[0m\u001b[1;33m,\u001b[0m\u001b[1;34m'last'\u001b[0m\u001b[1;33m,\u001b[0m\u001b[1;34m'settle'\u001b[0m\u001b[1;33m,\u001b[0m\u001b[1;34m'volume'\u001b[0m\u001b[1;33m,\u001b[0m\u001b[1;34m'open_int'\u001b[0m\u001b[1;33m,\u001b[0m\u001b[1;34m'contract_name'\u001b[0m\u001b[1;33m,\u001b[0m\u001b[1;34m'change'\u001b[0m\u001b[1;33m]\u001b[0m\u001b[1;33m\u001b[0m\u001b[0m\n\u001b[1;32m---> 76\u001b[1;33m \u001b[0mcontract\u001b[0m\u001b[1;33m.\u001b[0m\u001b[0mto_csv\u001b[0m\u001b[1;33m(\u001b[0m\u001b[1;34m'../日資料/conti/A/rb_A2.csv'\u001b[0m\u001b[1;33m,\u001b[0m\u001b[0mindex\u001b[0m\u001b[1;33m=\u001b[0m\u001b[1;32mNone\u001b[0m\u001b[1;33m,\u001b[0m\u001b[0mheader\u001b[0m\u001b[1;33m=\u001b[0m\u001b[0mcolumns\u001b[0m\u001b[1;33m)\u001b[0m\u001b[1;33m\u001b[0m\u001b[0m\n\u001b[0m",
      "\u001b[1;32m~\\Anaconda3\\lib\\site-packages\\pandas\\core\\frame.py\u001b[0m in \u001b[0;36mto_csv\u001b[1;34m(self, path_or_buf, sep, na_rep, float_format, columns, header, index, index_label, mode, encoding, compression, quoting, quotechar, line_terminator, chunksize, tupleize_cols, date_format, doublequote, escapechar, decimal)\u001b[0m\n\u001b[0;32m   1522\u001b[0m                                      \u001b[0mdoublequote\u001b[0m\u001b[1;33m=\u001b[0m\u001b[0mdoublequote\u001b[0m\u001b[1;33m,\u001b[0m\u001b[1;33m\u001b[0m\u001b[0m\n\u001b[0;32m   1523\u001b[0m                                      escapechar=escapechar, decimal=decimal)\n\u001b[1;32m-> 1524\u001b[1;33m         \u001b[0mformatter\u001b[0m\u001b[1;33m.\u001b[0m\u001b[0msave\u001b[0m\u001b[1;33m(\u001b[0m\u001b[1;33m)\u001b[0m\u001b[1;33m\u001b[0m\u001b[0m\n\u001b[0m\u001b[0;32m   1525\u001b[0m \u001b[1;33m\u001b[0m\u001b[0m\n\u001b[0;32m   1526\u001b[0m         \u001b[1;32mif\u001b[0m \u001b[0mpath_or_buf\u001b[0m \u001b[1;32mis\u001b[0m \u001b[1;32mNone\u001b[0m\u001b[1;33m:\u001b[0m\u001b[1;33m\u001b[0m\u001b[0m\n",
      "\u001b[1;32m~\\Anaconda3\\lib\\site-packages\\pandas\\io\\formats\\format.py\u001b[0m in \u001b[0;36msave\u001b[1;34m(self)\u001b[0m\n\u001b[0;32m   1650\u001b[0m                 \u001b[0mself\u001b[0m\u001b[1;33m.\u001b[0m\u001b[0mwriter\u001b[0m \u001b[1;33m=\u001b[0m \u001b[0mUnicodeWriter\u001b[0m\u001b[1;33m(\u001b[0m\u001b[0mf\u001b[0m\u001b[1;33m,\u001b[0m \u001b[1;33m**\u001b[0m\u001b[0mwriter_kwargs\u001b[0m\u001b[1;33m)\u001b[0m\u001b[1;33m\u001b[0m\u001b[0m\n\u001b[0;32m   1651\u001b[0m \u001b[1;33m\u001b[0m\u001b[0m\n\u001b[1;32m-> 1652\u001b[1;33m             \u001b[0mself\u001b[0m\u001b[1;33m.\u001b[0m\u001b[0m_save\u001b[0m\u001b[1;33m(\u001b[0m\u001b[1;33m)\u001b[0m\u001b[1;33m\u001b[0m\u001b[0m\n\u001b[0m\u001b[0;32m   1653\u001b[0m \u001b[1;33m\u001b[0m\u001b[0m\n\u001b[0;32m   1654\u001b[0m         \u001b[1;32mfinally\u001b[0m\u001b[1;33m:\u001b[0m\u001b[1;33m\u001b[0m\u001b[0m\n",
      "\u001b[1;32m~\\Anaconda3\\lib\\site-packages\\pandas\\io\\formats\\format.py\u001b[0m in \u001b[0;36m_save\u001b[1;34m(self)\u001b[0m\n\u001b[0;32m   1738\u001b[0m     \u001b[1;32mdef\u001b[0m \u001b[0m_save\u001b[0m\u001b[1;33m(\u001b[0m\u001b[0mself\u001b[0m\u001b[1;33m)\u001b[0m\u001b[1;33m:\u001b[0m\u001b[1;33m\u001b[0m\u001b[0m\n\u001b[0;32m   1739\u001b[0m \u001b[1;33m\u001b[0m\u001b[0m\n\u001b[1;32m-> 1740\u001b[1;33m         \u001b[0mself\u001b[0m\u001b[1;33m.\u001b[0m\u001b[0m_save_header\u001b[0m\u001b[1;33m(\u001b[0m\u001b[1;33m)\u001b[0m\u001b[1;33m\u001b[0m\u001b[0m\n\u001b[0m\u001b[0;32m   1741\u001b[0m \u001b[1;33m\u001b[0m\u001b[0m\n\u001b[0;32m   1742\u001b[0m         \u001b[0mnrows\u001b[0m \u001b[1;33m=\u001b[0m \u001b[0mlen\u001b[0m\u001b[1;33m(\u001b[0m\u001b[0mself\u001b[0m\u001b[1;33m.\u001b[0m\u001b[0mdata_index\u001b[0m\u001b[1;33m)\u001b[0m\u001b[1;33m\u001b[0m\u001b[0m\n",
      "\u001b[1;32m~\\Anaconda3\\lib\\site-packages\\pandas\\io\\formats\\format.py\u001b[0m in \u001b[0;36m_save_header\u001b[1;34m(self)\u001b[0m\n\u001b[0;32m   1673\u001b[0m                 raise ValueError(('Writing {ncols} cols but got {nalias} '\n\u001b[0;32m   1674\u001b[0m                                  'aliases'.format(ncols=len(cols),\n\u001b[1;32m-> 1675\u001b[1;33m                                                   nalias=len(header))))\n\u001b[0m\u001b[0;32m   1676\u001b[0m             \u001b[1;32melse\u001b[0m\u001b[1;33m:\u001b[0m\u001b[1;33m\u001b[0m\u001b[0m\n\u001b[0;32m   1677\u001b[0m                 \u001b[0mwrite_cols\u001b[0m \u001b[1;33m=\u001b[0m \u001b[0mheader\u001b[0m\u001b[1;33m\u001b[0m\u001b[0m\n",
      "\u001b[1;31mValueError\u001b[0m: Writing 2 cols but got 10 aliases"
     ]
    }
   ],
   "source": [
    "# contract = pd.DataFrame()\n",
    "# contract_name = []\n",
    "# change = [1]\n",
    "# change_date = []\n",
    "# date_count = 0\n",
    "\n",
    "for year in range(11,11):\n",
    "        \n",
    "        if(year<10):\n",
    "            str_year = \"0\" + str(year)\n",
    "        elif(year==18):\n",
    "            str_year = \"8\"\n",
    "        else:\n",
    "            str_year = str(year)\n",
    "            \n",
    "        for month in A2_list:\n",
    "            cursor = db.cursor()\n",
    "\n",
    "        #有包含Z的話以下要註解掉   \n",
    "            if(month==\"F\"):\n",
    "                year+=1\n",
    "\n",
    "                if(year < 10):\n",
    "                    str_year = \"0\" + str(year) \n",
    "                else:\n",
    "                    str_year = str(year)\n",
    "                    \n",
    "                if(str_year==\"18\"):\n",
    "                    str_year = \"8\"\n",
    "            \n",
    "            #之後須砍掉\n",
    "            if(year > 18):\n",
    "                break\n",
    "                \n",
    "            tbname = 'rbt' + month + str_year\n",
    "            \n",
    "            if(month==\"Z\"):\n",
    "                year += 1\n",
    "                \n",
    "                if(year < 10):\n",
    "                    str_year = \"0\" + str(year)\n",
    "                else:\n",
    "                    str_year = str(year)\n",
    "                \n",
    "                if(str_year==\"18\"):\n",
    "                    str_year = \"8\"\n",
    "\n",
    "            if(date_count < len(change_date)):\n",
    "                end_date = change_date[date_count]\n",
    "                date_count += 1\n",
    "            else:\n",
    "                end_date = \"2018-01-09\"      \n",
    "\n",
    "            #獲取資料\n",
    "            sql = \"SELECT * FROM \" + tbname + \" WHERE Date >= '\" + start_date + \"' and Date <= '\" + end_date + \"'\"\n",
    "            cursor.execute(sql)\n",
    "            data = cursor.fetchall()\n",
    "            start_date = (datetime.datetime.strptime(end_date,'%Y-%m-%d') + datetime.timedelta(days=1)).strftime('%Y-%m-%d')\n",
    "\n",
    "            \n",
    "            \n",
    "            for i in range(len(data)):\n",
    "                contract_name.append(tbname)\n",
    "                change.append(0)\n",
    "            \n",
    "            contract = contract.append(pd.DataFrame(list(data)))\n",
    "            change.pop()\n",
    "            change.append(1)\n",
    "\n",
    "# change.pop()\n",
    "# contract['contract_name'] = contract_name\n",
    "# contract['change'] = change\n",
    "\n",
    "# #存檔\n",
    "# columns = ['Date','open','high','low','last','settle','volume','open_int','contract_name','change']\n",
    "# contract.to_csv('../日資料/conti/A/' + filename ,index=None,header=columns)"
   ]
  },
  {
   "cell_type": "code",
   "execution_count": null,
   "metadata": {
    "scrolled": true
   },
   "outputs": [],
   "source": [
    "start_date = '2009-12-23'\n",
    "contract_id = \"RBT\"\n",
    "\n",
    "# contract = pd.DataFrame()\n",
    "# contract_name = []\n",
    "# change = [1]\n",
    "# change_date = []\n",
    "\n",
    "for year in range(10,18):\n",
    "    #合約順序\n",
    "    for month in B1_list:\n",
    "        cursor = db.cursor()\n",
    "        \n",
    "        if(year==9):\n",
    "            tbname_1 = contract_id + month[0] + \"09\"\n",
    "        else:\n",
    "            tbname_1 = contract_id + month[0] + str(year)\n",
    "\n",
    "        if(month[1] == 'F'):\n",
    "#             year = 10   #2009\n",
    "            year += 1\n",
    "            if(year==18):\n",
    "                year = 8\n",
    "                \n",
    "        if(year==9):\n",
    "            tbname_2 = contract_id + month[1] + \"09\"\n",
    "        else:\n",
    "            tbname_2 = contract_id + month[1] + str(year)\n",
    "            \n",
    "        \n",
    "        #找換約日期\n",
    "        sql = \"SELECT table1.Date FROM \" + tbname_1 + \" table1,\" + tbname_2 + \" table2\" +\\\n",
    "                \" WHERE table2.OI > table1.OI AND table1.Date = table2.Date AND table2.Date >= '\" + start_date + \"' limit 1\"\n",
    "        cursor.execute(sql)\n",
    "        date = cursor.fetchone()        \n",
    "\n",
    "        if(start_date >= '2017-11-17' ):\n",
    "                continue\n",
    "                \n",
    "        elif(date == None):\n",
    "            print(1)\n",
    "            sql = \"SELECT Date FROM \" + tbname_1 +\" order by Date desc limit 1\"\n",
    "            cursor.execute(sql)\n",
    "            date = cursor.fetchone()\n",
    "            end_date = date[0].strftime('%Y-%m-%d')\n",
    "            \n",
    "        else:\n",
    "            end_date = date[0].strftime('%Y-%m-%d')\n",
    "            \n",
    "        change_date.append(end_date)\n",
    "        \n",
    "        print(\"tbname_1: \" + tbname_1,\"start_date: \" + start_date,\"end_date: \" + end_date)\n",
    "\n",
    "        #資料讀取\n",
    "        sql = \"SELECT * FROM \" + tbname_1 + \" WHERE Date <= '\" + end_date + \"' and Date>='\" + start_date + \"'\"\n",
    "\n",
    "        cursor.execute(sql)\n",
    "        data = cursor.fetchall()\n",
    "\n",
    "        for i in range(len(list(data))):\n",
    "            contract_name.append(tbname_1)\n",
    "            change.append(0)\n",
    "\n",
    "        contract = contract.append(pd.DataFrame(list(data)))\n",
    "        change.pop()\n",
    "        change.append(1)\n",
    "\n",
    "        start_date = (datetime.datetime.strptime(end_date,'%Y-%m-%d') + datetime.timedelta(days=1)).strftime('%Y-%m-%d')\n",
    "                   \n",
    "        \n",
    "        \n",
    "change.pop()\n",
    "contract['contract_name'] = contract_name\n",
    "contract['change'] = change\n",
    "\n",
    "#存檔\n",
    "columns = ['Date','open','high','low','last','settle','volume','open_int','contract_name','change']\n",
    "contract.to_csv('../日資料/conti/rb_B1.csv',index=None,header=columns)"
   ]
  },
  {
   "cell_type": "code",
   "execution_count": 62,
   "metadata": {
    "collapsed": true
   },
   "outputs": [],
   "source": [
    "# B2_list = ['V','X','Z','F'] #螺紋鋼 2009-03-27\n",
    "# B2_list = ['G','H','K'] #螺紋鋼 2009-10-10 (2010 1 2 3 5)\n",
    "B2_list = ['V','F','K'] #螺紋鋼 2009-12-23 2010以後"
   ]
  },
  {
   "cell_type": "code",
   "execution_count": 63,
   "metadata": {
    "scrolled": true
   },
   "outputs": [],
   "source": [
    "start_date = '2009-12-23'\n",
    "contract_id = \"RBT\"\n",
    "len_count = 31\n",
    "\n",
    "# contract_B2 = pd.DataFrame()\n",
    "# contract_name_B2 = []\n",
    "# change_B2 = [1]\n",
    "date_count = 7\n",
    "\n",
    "for year in range(10,18):\n",
    "            #修改合約順序\n",
    "            \n",
    "    if(year<10):\n",
    "            str_year = \"0\" + str(year)\n",
    "    else:\n",
    "        str_year = str(year)\n",
    "            \n",
    "    for month in B2_list:\n",
    "        cursor = db.cursor()\n",
    "\n",
    "        if(month==\"F\"):\n",
    "            year+=1\n",
    "            str_year = str(year)\n",
    "            if(len(str_year)<2):\n",
    "                str_year = \"0\" + str_year  \n",
    "                    \n",
    "        if(str_year==\"18\"):\n",
    "            str_year = \"8\"\n",
    "                \n",
    "        tbname = contract_id + month[0] + str_year\n",
    "\n",
    "        if(date_count < len_count):\n",
    "            end_date = change_date[date_count]\n",
    "        else:\n",
    "#             continue\n",
    "            end_date = \"2017-11-17\"\n",
    "\n",
    "        #資料讀取\n",
    "        sql = \"SELECT * FROM \" + tbname + \" WHERE Date <= '\" + end_date + \"' and Date>='\" + start_date + \"'\"\n",
    "\n",
    "        cursor.execute(sql)\n",
    "        db.commit()\n",
    "        table1_data = cursor.fetchall()\n",
    "\n",
    "\n",
    "        for i in range(len(list(table1_data))):\n",
    "            contract_name_B2.append(tbname)\n",
    "            change_B2.append(0)\n",
    "\n",
    "        contract_B2 = contract_B2.append(pd.DataFrame(list(table1_data)))\n",
    "        change_B2.pop()\n",
    "        change_B2.append(1)\n",
    "            \n",
    "\n",
    "        #讀取下一個合約的資料\n",
    "        date_count += 1\n",
    "\n",
    "        start_date = (datetime.datetime.strptime(end_date,'%Y-%m-%d') + datetime.timedelta(days=1)).strftime('%Y-%m-%d')\n",
    "\n",
    "change_B2.pop()\n",
    "contract_B2['contract_name'] = contract_name_B2\n",
    "contract_B2['change'] = change_B2\n",
    "\n",
    "#存檔\n",
    "columns = ['Date','open','high','low','last','settle','volume','open_int','contract_name','change']\n",
    "contract_B2.to_csv('../日資料/conti/rb_B2.csv',index=None,header=columns)"
   ]
  },
  {
   "cell_type": "markdown",
   "metadata": {},
   "source": [
    "# 主力合約 (A)"
   ]
  },
  {
   "cell_type": "code",
   "execution_count": 9,
   "metadata": {},
   "outputs": [],
   "source": [
    "A1_list = ['K','U','F'] #鐵礦石 2013-10-18 /\n",
    "# A1_list = ['F','K','U'] #玉米2004-10-29\n",
    "# A1_list = ['U','F','K'] #焦炭 2011-04-15 / 焦煤 2013-03-22 /豆粕2000-7-17 \n",
    "# A1_list = ['M','Z'] #黃金 2008-01-09\n",
    "# A1_list = ['Z','M'] #白銀 2012-05-10\n",
    "# A1_list = ['F','G','H','J','K','M','N','Q','U','V','X','Z'] #銅 2003-01-01 / 鋁2002-01-01\n",
    "# A1_list = ['G','H','J','K','M','N','Q','U','V','X','Z','F'] #鋅2007-3-26\n",
    "# A1_list = ['U','V','X','Z','F','G','H','J','K','M','N','Q'] #鉛2011-3-24"
   ]
  },
  {
   "cell_type": "code",
   "execution_count": 10,
   "metadata": {},
   "outputs": [],
   "source": [
    "A_O2_list = ['U','F','K'] # 鐵礦石A2\n",
    "A_O3_list = ['F','K','U'] # 鐵礦石A3\n",
    "\n",
    "# A_O2_list = ['F','K','U'] #焦煤/焦炭A2 \n",
    "# A_O3_list = ['K','U','F'] #焦煤/焦炭A3\n",
    "\n",
    "# A_O2_list = ['K','U','F'] #玉米A2 \n",
    "# A_O3_list = ['U','F','K'] #玉米A3\n",
    "\n",
    "# A_O2_list = ['Z','M'] #黃金A2\n",
    "# A_O2_list = ['M','Z'] #白銀A2\n",
    "\n",
    "#銅 /鋁 1-12\n",
    "# A_O2_list = ['G','H','J','K','M','N','Q','U','V','X','Z','F'] \n",
    "# A_O3_list = ['H','J','K','M','N','Q','U','V','X','Z','F','G']  \n",
    "# A_O4_list = ['J','K','M','N','Q','U','V','X','Z','F','G','H']  \n",
    "# A_O5_list = ['K','M','N','Q','U','V','X','Z','F','G','H','J']  \n",
    "# A_O6_list = ['M','N','Q','U','V','X','Z','F','G','H','J','K'] \n",
    "# A_O7_list = ['N','Q','U','V','X','Z','F','G','H','J','K','M']  \n",
    "# A_O8_list = ['Q','U','V','X','Z','F','G','H','J','K','M','N']  \n",
    "# A_O9_list = ['U','V','X','Z','F','G','H','J','K','M','N','Q']  \n",
    "# A_O10_list = ['V','X','Z','F','G','H','J','K','M','N','Q','U']  \n",
    "# A_O11_list = ['X','Z','F','G','H','J','K','M','N','Q','U','V']  \n",
    "# A_O12_list = ['Z','F','G','H','J','K','M','N','Q','U','V','X']\n",
    "\n",
    "#鋅\n",
    "# A_O2_list = ['H','J','K','M','N','Q','U','V','X','Z','F','G'] \n",
    "# A_O3_list = ['J','K','M','N','Q','U','V','X','Z','F','G','H']  \n",
    "# A_O4_list = ['K','M','N','Q','U','V','X','Z','F','G','H','J']  \n",
    "# A_O5_list = ['M','N','Q','U','V','X','Z','F','G','H','J','K']  \n",
    "# A_O6_list = ['N','Q','U','V','X','Z','F','G','H','J','K','M'] \n",
    "# A_O7_list = ['Q','U','V','X','Z','F','G','H','J','K','M','N']  \n",
    "# A_O8_list = ['U','V','X','Z','F','G','H','J','K','M','N','Q']  \n",
    "# A_O9_list = ['V','X','Z','F','G','H','J','K','M','N','Q','U']  \n",
    "# A_O10_list = ['X','Z','F','G','H','J','K','M','N','Q','U','V']  \n",
    "# A_O11_list = ['Z','F','G','H','J','K','M','N','Q','U','V','X']  \n",
    "# A_O12_list = ['F','G','H','J','K','M','N','Q','U','V','X','Z']\n",
    "\n",
    "#鉛\n",
    "# A_O2_list = ['V','X','Z','F','G','H','J','K','M','N','Q','U']\n",
    "# A_O3_list = ['X','Z','F','G','H','J','K','M','N','Q','U','V']\n",
    "# A_O4_list = ['Z','F','G','H','J','K','M','N','Q','U','V','X']  \n",
    "# A_O5_list = ['F','G','H','J','K','M','N','Q','U','V','X','Z'] \n",
    "# A_O6_list = ['G','H','J','K','M','N','Q','U','V','X','Z','F']\n",
    "# A_O7_list = ['H','J','K','M','N','Q','U','V','X','Z','F','G']\n",
    "# A_O8_list = ['J','K','M','N','Q','U','V','X','Z','F','G','H']\n",
    "# A_O9_list = ['K','M','N','Q','U','V','X','Z','F','G','H','J']\n",
    "# A_O10_list = ['M','N','Q','U','V','X','Z','F','G','H','J','K']\n",
    "# A_O11_list = ['N','Q','U','V','X','Z','F','G','H','J','K','M']\n",
    "# A_O12_list = ['Q','U','V','X','Z','F','G','H','J','K','M','N']"
   ]
  },
  {
   "cell_type": "code",
   "execution_count": 33,
   "metadata": {},
   "outputs": [],
   "source": [
    "db = MySQLdb.connect(\"localhost\",\"root\",\"123456\",\"i_day_data\")\n",
    "db.set_character_set(\"gbk\")"
   ]
  },
  {
   "cell_type": "code",
   "execution_count": 13,
   "metadata": {
    "scrolled": true
   },
   "outputs": [
    {
     "name": "stdout",
     "output_type": "stream",
     "text": [
      "2014-05-15\n",
      "IOEK14\n",
      "2014-09-12\n",
      "IOEU14\n",
      "2015-01-13\n",
      "IOEF15\n",
      "2015-05-14\n",
      "IOEK15\n",
      "2015-09-15\n",
      "IOEU15\n",
      "2016-01-14\n",
      "IOEF16\n",
      "2016-05-13\n",
      "IOEK16\n",
      "2016-09-13\n",
      "IOEU16\n",
      "2017-01-13\n",
      "IOEF17\n",
      "2017-05-12\n",
      "IOEK17\n",
      "2017-09-13\n",
      "IOEU17\n",
      "18\n",
      "2018-01-12\n",
      "IOEF8\n",
      "2018-02-01\n",
      "IOEK8\n"
     ]
    }
   ],
   "source": [
    "start_date = \"2013-10-18\"\n",
    "contract_id = \"IOE\"\n",
    "\n",
    "change_date = conti_contract_A1(start_date,contract_id,A1_list,'i_A1.csv',14,19)\n",
    "conti_contract_A_O(start_date,contract_id,change_date,A_O2_list,'i_A2.csv',14,19)\n",
    "conti_contract_A_O(start_date,contract_id,change_date,A_O3_list,'i_A3.csv',14,19)\n",
    "# conti_contract_A_O(start_date,contract_id,change_date,A_O4_list,'pb_A4.csv',11,19)\n",
    "# conti_contract_A_O(start_date,contract_id,change_date,A_O5_list,'pb_A5.csv',12,19)\n",
    "# conti_contract_A_O(start_date,contract_id,change_date,A_O6_list,'pb_A6.csv',12,19)\n",
    "# conti_contract_A_O(start_date,contract_id,change_date,A_O7_list,'pb_A7.csv',12,19)\n",
    "# conti_contract_A_O(start_date,contract_id,change_date,A_O8_list,'pb_A8.csv',12,19)\n",
    "# conti_contract_A_O(start_date,contract_id,change_date,A_O9_list,'pb_A9.csv',12,19)\n",
    "# conti_contract_A_O(start_date,contract_id,change_date,A_O10_list,'pb_A10.csv',12,19)\n",
    "# conti_contract_A_O(start_date,contract_id,change_date,A_O11_list,'pb_A11.csv',12,19)\n",
    "# conti_contract_A_O(start_date,contract_id,change_date,A_O12_list,'pb_A12.csv',12,19)"
   ]
  },
  {
   "cell_type": "code",
   "execution_count": 23,
   "metadata": {},
   "outputs": [
    {
     "data": {
      "text/plain": [
       "['', '8']"
      ]
     },
     "execution_count": 23,
     "metadata": {},
     "output_type": "execute_result"
    }
   ],
   "source": [
    "str(18).split('1')"
   ]
  },
  {
   "cell_type": "code",
   "execution_count": 11,
   "metadata": {
    "scrolled": true
   },
   "outputs": [],
   "source": [
    "def conti_contract_A1(start_date,contract_id,A_list,filename,start_year,end_year):\n",
    "\n",
    "    contract = pd.DataFrame()\n",
    "    contract_name = []\n",
    "    change = [1]\n",
    "    change_date = []\n",
    "\n",
    "    for year in range(start_year,end_year):\n",
    "        #修改合約順序\n",
    "            \n",
    "        if(year<10):\n",
    "            str_year = \"0\" + str(year)\n",
    "            \n",
    "        elif(year>=18):\n",
    "            str_year = str(year).split('1')[1]\n",
    "            \n",
    "        else:\n",
    "            str_year = str(year)\n",
    "            \n",
    "        for month in A_list:\n",
    "            cursor = db.cursor()\n",
    "            \n",
    "        #有包含Z的話以下要註解掉    \n",
    "            if(month==\"F\"):\n",
    "                year += 1\n",
    "                \n",
    "                if(year < 10):\n",
    "                    str_year = \"0\" + str(year)\n",
    "                else:\n",
    "                    str_year = str(year)\n",
    "                    \n",
    "                if(year>=18):\n",
    "                    print(str_year)\n",
    "                    str_year = str(year).split('1')[1]\n",
    "\n",
    "            tbname = contract_id + month + str_year\n",
    "            \n",
    "            if(month==\"Z\"):\n",
    "                year += 1\n",
    "                \n",
    "                if(year < 10):\n",
    "                    str_year = \"0\" + str(year)\n",
    "                else:\n",
    "                    str_year = str(year)\n",
    "                \n",
    "                if(year>=18):\n",
    "                    str_year = str(year).split('1')[1]\n",
    "            \n",
    "            if(year > 18):\n",
    "                break;\n",
    "\n",
    "\n",
    "            #獲取資料\n",
    "            sql = \"SELECT * FROM \" + tbname + \" WHERE Date >= '\" + start_date + \"'\"\n",
    "            cursor.execute(sql)\n",
    "            data = cursor.fetchall()\n",
    "\n",
    "            if(len(data) == 0):\n",
    "                continue   \n",
    "\n",
    "            start_date = (data[len(data) - 1][0] + datetime.timedelta(days=1)).strftime('%Y-%m-%d')\n",
    "            \n",
    "            change_date.append(data[len(data) - 1][0].strftime('%Y-%m-%d'))\n",
    "            \n",
    "            print(data[len(data) - 1][0])\n",
    "            print(tbname)\n",
    "\n",
    "            for i in range(len(data)):\n",
    "                contract_name.append(tbname)\n",
    "                change.append(0)\n",
    "\n",
    "            contract = contract.append(pd.DataFrame(list(data)))\n",
    "            change.pop()\n",
    "            change.append(1)\n",
    "            \n",
    "            if(start_date >= '2018-02-02'):\n",
    "                break;\n",
    "\n",
    "    change.pop()\n",
    "    contract['contract_name'] = contract_name\n",
    "    contract['change'] = change\n",
    "\n",
    "    #存檔\n",
    "    columns = ['Date','open','high','low','last','settle','volume','open_int','contract_name','change']\n",
    "    contract.to_csv('../日資料/conti/A/' + filename,index=None,header=columns)\n",
    "    \n",
    "    return change_date"
   ]
  },
  {
   "cell_type": "markdown",
   "metadata": {},
   "source": [
    "# 其他合約(A)"
   ]
  },
  {
   "cell_type": "code",
   "execution_count": 12,
   "metadata": {},
   "outputs": [],
   "source": [
    "def conti_contract_A_O(start_date,contract_id,change_date,A_list,filename,start_year,end_year):\n",
    "\n",
    "    contract = pd.DataFrame()\n",
    "    contract_name = []\n",
    "    change = [1]\n",
    "    date_count = 0\n",
    "\n",
    "    for year in range(start_year,end_year):\n",
    "        \n",
    "        if(year<10):\n",
    "            str_year = \"0\" + str(year)\n",
    "        elif(year>=18):\n",
    "            str_year = str(year).split('1')[1]\n",
    "        else:\n",
    "            str_year = str(year)\n",
    "            \n",
    "        for month in A_list:\n",
    "            cursor = db.cursor()\n",
    "\n",
    "        #有包含Z的話以下要註解掉   \n",
    "            if(month==\"F\"):\n",
    "                year+=1\n",
    "\n",
    "                if(year < 10):\n",
    "                    str_year = \"0\" + str(year) \n",
    "                else:\n",
    "                    str_year = str(year)\n",
    "                    \n",
    "                if(year>=18):\n",
    "                    str_year = str(year).split('1')[1]\n",
    "            \n",
    "            #之後須砍掉\n",
    "            if(year > 18):\n",
    "                break\n",
    "                \n",
    "            tbname = contract_id + month + str_year\n",
    "            \n",
    "            if(month==\"Z\"):\n",
    "                year += 1\n",
    "                \n",
    "                if(year < 10):\n",
    "                    str_year = \"0\" + str(year)\n",
    "                else:\n",
    "                    str_year = str(year)\n",
    "                \n",
    "                if(year>=18):\n",
    "                    str_year = str(year).split('1')[1]\n",
    "\n",
    "            if(date_count < len(change_date)):\n",
    "                end_date = change_date[date_count]\n",
    "                date_count += 1\n",
    "            else:\n",
    "                end_date = \"2018-02-02\"      \n",
    "\n",
    "            #獲取資料\n",
    "            sql = \"SELECT * FROM \" + tbname + \" WHERE Date >= '\" + start_date + \"' and Date <= '\" + end_date + \"'\"\n",
    "            cursor.execute(sql)\n",
    "            data = cursor.fetchall()\n",
    "            start_date = (datetime.datetime.strptime(end_date,'%Y-%m-%d') + datetime.timedelta(days=1)).strftime('%Y-%m-%d')\n",
    "\n",
    "            \n",
    "            \n",
    "            for i in range(len(data)):\n",
    "                contract_name.append(tbname)\n",
    "                change.append(0)\n",
    "            \n",
    "            contract = contract.append(pd.DataFrame(list(data)))\n",
    "            change.pop()\n",
    "            change.append(1)\n",
    "\n",
    "    change.pop()\n",
    "    contract['contract_name'] = contract_name\n",
    "    contract['change'] = change\n",
    "\n",
    "    #存檔\n",
    "    columns = ['Date','open','high','low','last','settle','volume','open_int','contract_name','change']\n",
    "    contract.to_csv('../日資料/conti/A/' + filename ,index=None,header=columns)"
   ]
  },
  {
   "cell_type": "markdown",
   "metadata": {},
   "source": [
    "# 塞入资料库"
   ]
  },
  {
   "cell_type": "code",
   "execution_count": 36,
   "metadata": {},
   "outputs": [],
   "source": [
    "db = MySQLdb.connect(\"localhost\",\"root\",\"123456\")\n",
    "db.set_character_set(\"gbk\")"
   ]
  },
  {
   "cell_type": "code",
   "execution_count": 17,
   "metadata": {},
   "outputs": [],
   "source": [
    "db = MySQLdb.connect(\"47.100.14.137\",\"hyps44413\",\"Nanhua\")\n",
    "db.set_character_set('gbk')"
   ]
  },
  {
   "cell_type": "code",
   "execution_count": 19,
   "metadata": {
    "scrolled": true
   },
   "outputs": [
    {
     "name": "stderr",
     "output_type": "stream",
     "text": [
      "C:\\Users\\Philip\\Anaconda3\\lib\\site-packages\\ipykernel_launcher.py:12: Warning: (1007, \"Can't create database 'i_day_data_conti'; database exists\")\n",
      "  if sys.path[0] == '':\n"
     ]
    }
   ],
   "source": [
    "DATA_DIR = \"../日資料/conti/A/\"\n",
    "for filename in os.listdir(DATA_DIR):\n",
    "    \n",
    "    cursor = db.cursor()\n",
    "    \n",
    "    contract_id = filename.split(\"_\")[0]\n",
    "    \n",
    "    dbname = contract_id + \"_day_data_conti\"\n",
    "    \n",
    "    sql = \"CREATE DATABASE IF NOT EXISTS \" + dbname\n",
    "\n",
    "    cursor.execute(sql)\n",
    "    db.commit()\n",
    "\n",
    "    cursor = db.cursor()\n",
    "    \n",
    "    name = filename.split(\".csv\")[0]\n",
    "    \n",
    "    sql = \"CREATE TABLE IF NOT EXISTS \" + dbname + \".\" + name + \\\n",
    "          \" (Date DATE primary key,\\\n",
    "             Open FLOAT,\\\n",
    "             High FLOAT,\\\n",
    "             Low FLOAT,\\\n",
    "             Last FLOAT,\\\n",
    "             Settle FLOAT,\\\n",
    "             Volume FLOAT,\\\n",
    "             OI FLOAT,\\\n",
    "             Contract_Name VARCHAR(10),\\\n",
    "             New_Contract INT(2))\"\n",
    "\n",
    "    cursor.execute(sql)\n",
    "    db.commit()\n",
    "    \n",
    "    data = pd.read_csv(DATA_DIR+filename,engine=\"python\")\n",
    "    \n",
    "    data = data.where((pd.notnull(data)),None)\n",
    "    \n",
    "    values = []\n",
    "\n",
    "    for i in range(len(data)):\n",
    "#         if(data.loc[i][0] > str(datetime.datetime(2017,11,17))):\n",
    "        values.append(tuple(data.loc[i]))\n",
    "        \n",
    "    sql = \"insert into \" + dbname + \".\" + name + \" values (%s,%s,%s,%s,%s,%s,%s,%s,%s,%s)\"\n",
    "    cursor.executemany(sql,values)\n",
    "    db.commit()\n",
    "cursor.close()"
   ]
  },
  {
   "cell_type": "code",
   "execution_count": 43,
   "metadata": {},
   "outputs": [
    {
     "data": {
      "text/plain": [
       "True"
      ]
     },
     "execution_count": 43,
     "metadata": {},
     "output_type": "execute_result"
    }
   ],
   "source": [
    "data.loc[1000][0] > str(datetime.datetime(2017,11,17))"
   ]
  },
  {
   "cell_type": "code",
   "execution_count": 42,
   "metadata": {},
   "outputs": [
    {
     "data": {
      "text/plain": [
       "'2017-11-22'"
      ]
     },
     "execution_count": 42,
     "metadata": {},
     "output_type": "execute_result"
    }
   ],
   "source": [
    "data.loc[1000][0]"
   ]
  },
  {
   "cell_type": "markdown",
   "metadata": {
    "collapsed": true
   },
   "source": [
    "# 刪除空表格"
   ]
  },
  {
   "cell_type": "code",
   "execution_count": 7,
   "metadata": {
    "collapsed": true
   },
   "outputs": [],
   "source": [
    "DCE = ['a_1_day_data','a_2_day_data','bb_day_data','c_day_data','cs_day_data','fb_day_data','i_day_data',\n",
    "     'j_day_data','jd_day_data','jm_day_data','l_day_data','m_day_data','p_day_data','v_day_data','y_day_data'] \n",
    "\n",
    "SHFE = ['ag_day_data','al_day_data','au_day_data','bu_day_data','cu_day_data','fu_day_data','hc_day_data'\n",
    "        ,'ni_day_data','pb_day_data','rb_day_data','ru_day_data','sn_day_data','wr_day_data','zn_day_data']\n",
    "\n",
    "CCFEX = ['IC_day_data','IF_day_data','IH_day_data','TF_day_data','T_day_data']\n",
    "\n",
    "CZCE = ['CF_day_data','CY_day_data','FG_day_data','JR_day_data','LR_day_data','MA_day_data','OI_day_data','PM_day_data'\n",
    "        ,'RI_day_data','RM_day_data','RS_day_data','SF_day_data','SM_day_data','SR_day_data','TA_day_data'\n",
    "        ,'WH_day_data','ZC_day_data']"
   ]
  },
  {
   "cell_type": "code",
   "execution_count": 11,
   "metadata": {},
   "outputs": [
    {
     "name": "stdout",
     "output_type": "stream",
     "text": [
      "CF_day_data\n",
      "CY_day_data\n",
      "FG_day_data\n",
      "JR_day_data\n",
      "LR_day_data\n",
      "MA_day_data\n",
      "OI_day_data\n",
      "PM_day_data\n",
      "RI_day_data\n",
      "RM_day_data\n",
      "RS_day_data\n",
      "SF_day_data\n",
      "SM_day_data\n",
      "SR_day_data\n",
      "TA_day_data\n",
      "WH_day_data\n",
      "ZC_day_data\n"
     ]
    }
   ],
   "source": [
    "for dbname in CZCE:\n",
    "    print(dbname)\n",
    "    db = MySQLdb.connect(\"47.100.14.137\",\"hyps44413\",\"Nanhua\",dbname)\n",
    "    db.set_character_set(\"gbk\")\n",
    "    cursor = db.cursor()\n",
    "    cursor.execute('SHOW TABLES')\n",
    "    for table in cursor.fetchall():    \n",
    "        cursor.execute('SELECT * FROM %s' % table[0])\n",
    "        if cursor.rowcount == 0:\n",
    "            cursor.execute('DROP TABLE %s' % table[0])"
   ]
  },
  {
   "cell_type": "code",
   "execution_count": null,
   "metadata": {
    "collapsed": true
   },
   "outputs": [],
   "source": [
    "db = MySQLdb.connect(\"47.100.14.137\",\"hyps44413\",\"Nanhua\")\n",
    "db.set_character_set('gbk')"
   ]
  }
 ],
 "metadata": {
  "kernelspec": {
   "display_name": "Python 3",
   "language": "python",
   "name": "python3"
  },
  "language_info": {
   "codemirror_mode": {
    "name": "ipython",
    "version": 3
   },
   "file_extension": ".py",
   "mimetype": "text/x-python",
   "name": "python",
   "nbconvert_exporter": "python",
   "pygments_lexer": "ipython3",
   "version": "3.6.3"
  }
 },
 "nbformat": 4,
 "nbformat_minor": 2
}
