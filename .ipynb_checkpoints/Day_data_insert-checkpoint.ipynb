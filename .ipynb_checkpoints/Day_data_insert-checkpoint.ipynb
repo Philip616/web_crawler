{
 "cells": [
  {
   "cell_type": "code",
   "execution_count": 1,
   "metadata": {},
   "outputs": [],
   "source": [
    "import pandas as pd\n",
    "import MySQLdb\n",
    "import os\n",
    "import time\n",
    "import warnings\n",
    "from datetime import datetime\n",
    "warnings.filterwarnings(\"ignore\")"
   ]
  },
  {
   "cell_type": "code",
   "execution_count": 2,
   "metadata": {},
   "outputs": [],
   "source": [
    "db = MySQLdb.connect(\"47.100.14.137\",\"hyps44413\",\"Nanhua\")\n",
    "db.set_character_set('gbk')"
   ]
  },
  {
   "cell_type": "code",
   "execution_count": 2,
   "metadata": {},
   "outputs": [],
   "source": [
    "db = MySQLdb.connect(\"localhost\",\"root\",\"123456\")\n",
    "db.set_character_set(\"gbk\")"
   ]
  },
  {
   "cell_type": "code",
   "execution_count": 7,
   "metadata": {},
   "outputs": [],
   "source": [
    "db.close()"
   ]
  },
  {
   "cell_type": "markdown",
   "metadata": {},
   "source": [
    "# 單獨品種日資料"
   ]
  },
  {
   "cell_type": "code",
   "execution_count": null,
   "metadata": {},
   "outputs": [],
   "source": [
    "DATA_DIR = \"../CL Daily Data WTI原油期货-所有资料\"\n",
    "DATA_DIR = \"../all IOE\"\n",
    "\n",
    "#SQL_INSERT(\"WTI_Oil_original_data\",DATA_DIR)"
   ]
  },
  {
   "cell_type": "code",
   "execution_count": null,
   "metadata": {},
   "outputs": [],
   "source": [
    "def SQL_INSERT(dbname,DATA_DIR):\n",
    "    for filename in os.listdir(DATA_DIR):      \n",
    "        cursor = db.cursor()\n",
    "        sql = \"CREATE DATABASE IF NOT EXISTS \" + dbname\n",
    "        cursor.execute(sql)\n",
    "\n",
    "        contract = filename.split(\".xlsx\")[0]\n",
    "\n",
    "        sql = \"CREATE TABLE IF NOT EXISTS \" dbname + \".\" + contract + \\\n",
    "              \" (Date DATE PRIMARY KEY,\\\n",
    "                Open FLOAT(5),\\\n",
    "                High FLOAT(5),\\\n",
    "                Low FLOAT(5),\\\n",
    "                Close FLOAT(5),\\\n",
    "                Volume FLOAT(5),\\\n",
    "                OI FLOAT(5))\"\n",
    "        cursor.execute(sql)\n",
    "\n",
    "\n",
    "        data = pd.read_excel(DATA_DIR+\"/\"+filename,header=None)\n",
    "        data = data.fillna(\"NULL\")\n",
    "\n",
    "\n",
    "        for i in range(8,len(data)):\n",
    "            cursor = db.cursor()\n",
    "            sql = \"insert into \" + dbname + \".\" + contract + \" values ('\"+ data.iloc[i][0].strftime(\"%Y-%m-%d\") + \"',\"\\\n",
    "                    + str(data.iloc[i][1]) + \",\"\\\n",
    "                    + str(data.iloc[i][2]) + \",\"\\\n",
    "                    + str(data.iloc[i][3]) + \",\"\\\n",
    "                    + str(data.iloc[i][4]) + \",\"\\\n",
    "                    + str(data.iloc[i][5]) + \",\"\\\n",
    "                    + str(data.iloc[i][6]) + \")\"\n",
    "            cursor.execute(sql)\n",
    "            db.commit()\n",
    "        cursor.close()"
   ]
  },
  {
   "cell_type": "markdown",
   "metadata": {},
   "source": [
    "# 合約分開"
   ]
  },
  {
   "cell_type": "code",
   "execution_count": null,
   "metadata": {
    "scrolled": true
   },
   "outputs": [],
   "source": [
    "DATA_DIR = '../日資料/other/'\n",
    "for filename in os.listdir(DATA_DIR):\n",
    "    \n",
    "    data = pd.read_excel(DATA_DIR + filename,header=None)\n",
    "    \n",
    "#     folderName = filename.split(\".xlsx\")[0]\n",
    "    \n",
    "    name_column = 1\n",
    "    column = 0\n",
    "    next_column = 8\n",
    "    while next_column <= len(data.loc[0]):\n",
    "        name = data.loc[0][name_column]\n",
    "        split_data = data.iloc[8::,column:next_column]\n",
    "\n",
    "        #刪除所有列都是空值的行\n",
    "        split_data = split_data.dropna(how='all')\n",
    "\n",
    "        #strip()刪除字串空白\n",
    "        head=['Date','PX_OPEN','PX_HIGH','PX_LOW','PX_LAST','PX_SETTLE','VOLUME','OPEN_INT']\n",
    "\n",
    "        split_data.to_csv('../日資料/'+name.strip()+'.csv',header=head,index=None)\n",
    "        column += 9\n",
    "        next_column += 9\n",
    "        name_column += 9"
   ]
  },
  {
   "cell_type": "markdown",
   "metadata": {
    "collapsed": true
   },
   "source": [
    "# 所有交易所日資料"
   ]
  },
  {
   "cell_type": "code",
   "execution_count": 18,
   "metadata": {},
   "outputs": [],
   "source": [
    "db = MySQLdb.connect(\"localhost\",\"root\",\"123456\")\n",
    "db.set_character_set(\"gbk\")"
   ]
  },
  {
   "cell_type": "code",
   "execution_count": 20,
   "metadata": {},
   "outputs": [],
   "source": [
    "db = MySQLdb.connect(\"47.100.14.137\",\"hyps44413\",\"Nanhua\")\n",
    "db.set_character_set('gbk')"
   ]
  },
  {
   "cell_type": "code",
   "execution_count": 24,
   "metadata": {},
   "outputs": [],
   "source": [
    "db.close()"
   ]
  },
  {
   "cell_type": "code",
   "execution_count": 16,
   "metadata": {
    "scrolled": true
   },
   "outputs": [
    {
     "name": "stdout",
     "output_type": "stream",
     "text": [
      "ic.xlsx\n",
      "if.xlsx\n",
      "ih.xlsx\n",
      "t.xlsx\n",
      "tf.xlsx\n"
     ]
    }
   ],
   "source": [
    "DATA_DIR = '../日資料/ALL CONCRACT/中金所/'\n",
    "for filename in os.listdir(DATA_DIR):\n",
    "    cursor = db.cursor()\n",
    "    \n",
    "    databaseName = filename.split(\".xlsx\")[0] + \"_day_data\"\n",
    "    \n",
    "    sql = \"create database if not exists \" + databaseName\n",
    "    cursor.execute(sql)\n",
    "\n",
    "    data = pd.read_excel(DATA_DIR + filename,header=None)\n",
    "    data = data.where((pd.notnull(data)), None)\n",
    "    \n",
    "    name_column = 1;\n",
    "    column = 0\n",
    "    print(filename)\n",
    "    \n",
    "    while column < len(data.loc[0]):\n",
    "        table_name = data.loc[0][name_column].strip().split(\" \")[0]\n",
    "       \n",
    "        sql = \"create table if not exists \"+ databaseName + \".\" + table_name + \\\n",
    "              \" (Date DATE PRIMARY KEY,\\\n",
    "                Open FLOAT(5),\\\n",
    "                High  FLOAT(5),\\\n",
    "                Low  FLOAT(5),\\\n",
    "                Close  FLOAT(5),\\\n",
    "                Settle  FLOAT(5),\\\n",
    "                Volume  FLOAT(5),\\\n",
    "                OI  FLOAT(5))\"\n",
    "        cursor.execute(sql)\n",
    "        \n",
    "        values = []\n",
    "        for i in range(8,len(data[column].dropna())-1):\n",
    "            if(data.iloc[i][column] == None):\n",
    "                break;\n",
    "                \n",
    "            if(data.iloc[i][column] > datetime(2018,5,10)):\n",
    "                values.append((str(data.iloc[i][column].strftime(\"%Y-%m-%d\")),data.iloc[i][column+1],data.iloc[i][column+2],data.iloc[i][column+3],\n",
    "                               data.iloc[i][column+4],data.iloc[i][column+5],data.iloc[i][column+6],data.iloc[i][column+7]))\n",
    "        if(len(values)>0):\n",
    "            sql = \"insert into \" + databaseName + \".\" + table_name + \" values (%s,%s,%s,%s,%s,%s,%s,%s)\"\n",
    "            cursor.executemany(sql.format(),values)\n",
    "            db.commit() \n",
    "        \n",
    "        name_column += 9;\n",
    "        column += 9;\n",
    "        \n",
    "cursor.close()"
   ]
  },
  {
   "cell_type": "code",
   "execution_count": 3,
   "metadata": {
    "scrolled": true
   },
   "outputs": [],
   "source": [
    "FOLDER_DIR = \"../日資料/other/\"\n",
    "for foldername in os.listdir(FOLDER_DIR):\n",
    "    cursor = db.cursor()\n",
    "    databaseName = foldername + \"_day_data\"\n",
    "    DATA_DIR = FOLDER_DIR + foldername + \"/\"\n",
    "    \n",
    "    for filename in os.listdir(DATA_DIR):\n",
    "        table_name = filename.split('.xlsx')[0]\n",
    "\n",
    "        data = pd.read_excel(DATA_DIR + filename ,header=0)\n",
    "        data['Date'] = pd.to_datetime(data['Date'])\n",
    "        \n",
    "        data = data.where((pd.notnull(data)), None)\n",
    "\n",
    "        sql = \"create table if not exists \"+ databaseName + \".\" + table_name + \\\n",
    "                \" (Date DATE PRIMARY KEY,\\\n",
    "                Open FLOAT(5),\\\n",
    "                High  FLOAT(5),\\\n",
    "                Low  FLOAT(5),\\\n",
    "                Close  FLOAT(5),\\\n",
    "                Settle  FLOAT(5),\\\n",
    "                Volume  FLOAT(5),\\\n",
    "                OI  FLOAT(5))\"\n",
    "        cursor.execute(sql)\n",
    "\n",
    "        values = []\n",
    "        for i in range(1, len(data)):\n",
    "             values.append((data.iloc[i][0], data.iloc[i][1],data.iloc[i][2],data.iloc[i][3],data.iloc[i][4],\n",
    "                             data.iloc[i][5],data.iloc[i][6],data.iloc[i][7]))\n",
    "                           \n",
    "        sql = \"insert into \" + databaseName + \".\" + table_name + \" values (%s,%s,%s,%s,%s,%s,%s,%s)\"\n",
    "        cursor.executemany(sql,values)\n",
    "        db.commit()   \n",
    "cursor.close()"
   ]
  },
  {
   "cell_type": "markdown",
   "metadata": {},
   "source": [
    "# 石油相關資料"
   ]
  },
  {
   "cell_type": "code",
   "execution_count": 17,
   "metadata": {},
   "outputs": [],
   "source": [
    "db_list = {'LCO':'ICEUK_LCO','HO':'NYMEX_HO','CL':'NYMEX_CL','NG':'NYMEX_NG','XB':'NYMEX_XB','LGO':'ICEUK_LGO'}\n",
    "# db_list = {'XB':'NYMEX_XB'}"
   ]
  },
  {
   "cell_type": "code",
   "execution_count": 21,
   "metadata": {
    "scrolled": true
   },
   "outputs": [
    {
     "name": "stdout",
     "output_type": "stream",
     "text": [
      "NYMEX_CL_W\n",
      "NYMEX_HO_W\n",
      "ICEUK_LCO_W\n",
      "ICEUK_LGO_W\n",
      "NYMEX_NG_W\n",
      "NYMEX_XB_W\n"
     ]
    }
   ],
   "source": [
    "DATA_DIR = '../DOC HO'\n",
    "cursor = db.cursor()\n",
    "\n",
    "for file in os.listdir(DATA_DIR):\n",
    "    name = file.split(\".xlsx\")[0]\n",
    "    data = pd.read_excel(DATA_DIR+\"/\"+file)\n",
    "    data = data.dropna(thresh=2)\n",
    "\n",
    "    dbname = db_list[name] + \"_W\"\n",
    "    \n",
    "    print(dbname)\n",
    "\n",
    "    ##重要!!!!!!!!!!!!!!!!!!!!!!!!\n",
    "    #executemany 空值一定要改成None!!\n",
    "    data = data.where((pd.notnull(data)), None)\n",
    "\n",
    "    date = pd.read_excel(\"../20171120 所有换约日期.xlsx\")\n",
    "    contract_date = pd.to_datetime(date[ name + '期货连续合约换约日期'])\n",
    "    change_contract = pd.DataFrame()\n",
    "\n",
    "    #分開合約\n",
    "    change_contract['Date'] = data.iloc[9::,0]\n",
    "    change_contract = change_contract.dropna()\n",
    "\n",
    "    #增加一列全0\n",
    "    change_contract['change_contract'] = 0  \n",
    "\n",
    "    #升序排序跟重置index\n",
    "    change_contract = change_contract.sort_index(axis=0,ascending=False)\n",
    "    change_contract = change_contract.reset_index(drop=True)\n",
    "\n",
    "    #換約日期的下一次交易日change_contract改為1\n",
    "    for i in range(len(contract_date)):\n",
    "        index = change_contract[change_contract['Date'] == contract_date.loc[i]].index.tolist()\n",
    "        \n",
    "        if(len(index) > 0):\n",
    "            change_contract.iloc[index[0]+1,1] = 1\n",
    "\n",
    "    change_contract['Date'] = change_contract['Date'].apply(lambda x: x.strftime('%Y-%m-%d'))\n",
    "\n",
    "\n",
    "    #標記換約日期\n",
    "    values = []\n",
    "    for i in range(len(change_contract)):\n",
    "        date = datetime.strptime(change_contract.iloc[i][0],'%Y-%m-%d')\n",
    "        \n",
    "        if(date > datetime(2018,5,18)):\n",
    "            values.append(tuple(change_contract.loc[i]))\n",
    "\n",
    "#     sql = \"CREATE table IF NOT EXISTS \" + dbname + \".change_contract (Date DATE,change_day INT(2))\"\n",
    "#     cursor.execute(sql)\n",
    "    \n",
    "    sql = \"insert into \" + dbname + \".change_contract values(%s,%s)\"\n",
    "    cursor.executemany(sql,values)\n",
    "    db.commit()\n",
    "\n",
    "\n",
    "    table_list = ['Open','High','Low','Close','Volume','OI']\n",
    "    index = 1\n",
    "    \n",
    "    #塞原始資料\n",
    "    try:\n",
    "        for table in table_list:\n",
    "            values.clear()\n",
    "            \n",
    "            for i in range(9,len(data)-100):               \n",
    "                if(data.iloc[i][0] > datetime(2018,5,18)):\n",
    "                    values.append([data.iloc[i][0],data.iloc[i][index],data.iloc[i][index+6],data.iloc[i][index+12],data.iloc[i][index+18],\n",
    "                                   data.iloc[i][index+24],data.iloc[i][index+30],data.iloc[i][index+36],data.iloc[i][index+42],\n",
    "                                   data.iloc[i][index+48],data.iloc[i][index+54],data.iloc[i][index+60],data.iloc[i][index+66]])\n",
    "\n",
    "            cursor.executemany(\"INSERT INTO \" + dbname + \".\" + table + \" VALUES(%s,%s,%s,%s,%s,%s,%s,%s,%s,%s,%s,%s,%s)\".format(),values)\n",
    "            db.commit()\n",
    "\n",
    "            index+=1\n",
    "    except Exception as e:\n",
    "        print(e)\n",
    "\n",
    "cursor.close()"
   ]
  },
  {
   "cell_type": "code",
   "execution_count": null,
   "metadata": {},
   "outputs": [],
   "source": []
  }
 ],
 "metadata": {
  "kernelspec": {
   "display_name": "Python 3",
   "language": "python",
   "name": "python3"
  },
  "language_info": {
   "codemirror_mode": {
    "name": "ipython",
    "version": 3
   },
   "file_extension": ".py",
   "mimetype": "text/x-python",
   "name": "python",
   "nbconvert_exporter": "python",
   "pygments_lexer": "ipython3",
   "version": "3.6.4"
  }
 },
 "nbformat": 4,
 "nbformat_minor": 2
}
