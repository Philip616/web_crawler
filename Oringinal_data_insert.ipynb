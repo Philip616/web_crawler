{
 "cells": [
  {
   "cell_type": "code",
   "execution_count": 12,
   "metadata": {
    "collapsed": true
   },
   "outputs": [],
   "source": [
    "import pandas as pd\n",
    "import MySQLdb\n",
    "import os\n",
    "import time"
   ]
  },
  {
   "cell_type": "code",
   "execution_count": 24,
   "metadata": {
    "collapsed": true
   },
   "outputs": [],
   "source": [
    "db = MySQLdb.connect(\"localhost\",\"root\",\"123456\")\n",
    "db.set_character_set(\"gbk\")"
   ]
  },
  {
   "cell_type": "code",
   "execution_count": 25,
   "metadata": {},
   "outputs": [
    {
     "name": "stderr",
     "output_type": "stream",
     "text": [
      "D:\\Users\\WIN\\Anaconda3\\lib\\site-packages\\ipykernel_launcher.py:6: Warning: (1007, \"Can't create database 'oil_original_data'; database exists\")\n",
      "  \n"
     ]
    }
   ],
   "source": [
    "DATA_DIR = \"../CL Daily Data WTI原油期货-所有资料\"\n",
    "for filename in os.listdir(DATA_DIR):\n",
    "      \n",
    "    cursor = db.cursor()\n",
    "    sql = \"CREATE DATABASE IF NOT EXISTS Oil_original_data\"\n",
    "    cursor.execute(sql)\n",
    "    \n",
    "    contract = filename.split(\".xlsx\")[0]\n",
    "    \n",
    "    sql = \"CREATE TABLE IF NOT EXISTS Oil_original_data.\" + contract + \\\n",
    "          \" (Date DATE,\\\n",
    "            Open FLOAT,\\\n",
    "            High FLOAT,\\\n",
    "            Low FLOAT,\\\n",
    "            Close FLOAT,\\\n",
    "            Volume FLOAT,\\\n",
    "            OI FLOAT)\"\n",
    "    cursor.execute(sql)\n",
    "    \n",
    "    \n",
    "    data = pd.read_excel(DATA_DIR+\"/\"+filename,header=None)\n",
    "    data = data.fillna(\"NULL\")\n",
    "    \n",
    "    \n",
    "    for i in range(8,len(data)):\n",
    "        cursor = db.cursor()\n",
    "        sql = \"insert into Oil_original_data.\" + contract + \" values ('\"+ data.iloc[i][0].strftime(\"%Y-%m-%d\") + \"',\"\\\n",
    "                + str(data.iloc[i][1]) + \",\"\\\n",
    "                + str(data.iloc[i][2]) + \",\"\\\n",
    "                + str(data.iloc[i][3]) + \",\"\\\n",
    "                + str(data.iloc[i][4]) + \",\"\\\n",
    "                + str(data.iloc[i][5]) + \",\"\\\n",
    "                + str(data.iloc[i][6]) + \")\"\n",
    "        index = i\n",
    "        cursor.execute(sql)\n",
    "    cursor.close()"
   ]
  },
  {
   "cell_type": "code",
   "execution_count": null,
   "metadata": {
    "collapsed": true
   },
   "outputs": [],
   "source": []
  }
 ],
 "metadata": {
  "kernelspec": {
   "display_name": "Python 3",
   "language": "python",
   "name": "python3"
  },
  "language_info": {
   "codemirror_mode": {
    "name": "ipython",
    "version": 3
   },
   "file_extension": ".py",
   "mimetype": "text/x-python",
   "name": "python",
   "nbconvert_exporter": "python",
   "pygments_lexer": "ipython3",
   "version": "3.6.3"
  }
 },
 "nbformat": 4,
 "nbformat_minor": 2
}
