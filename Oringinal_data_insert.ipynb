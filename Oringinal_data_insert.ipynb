{
 "cells": [
  {
   "cell_type": "code",
   "execution_count": 1,
   "metadata": {
    "collapsed": true
   },
   "outputs": [],
   "source": [
    "import pandas as pd\n",
    "import MySQLdb\n",
    "import os\n",
    "import time"
   ]
  },
  {
   "cell_type": "code",
   "execution_count": 2,
   "metadata": {
    "collapsed": true
   },
   "outputs": [],
   "source": [
    "db = MySQLdb.connect(\"47.100.14.137\",\"hyps44413\",\"Nanhua\")\n",
    "db.set_character_set('gbk')"
   ]
  },
  {
   "cell_type": "code",
   "execution_count": null,
   "metadata": {
    "collapsed": true
   },
   "outputs": [],
   "source": [
    "db = MySQLdb.connect(\"localhost\",\"root\",\"123456\")\n",
    "db.set_character_set(\"utf8\")"
   ]
  },
  {
   "cell_type": "markdown",
   "metadata": {},
   "source": [
    "# 原油"
   ]
  },
  {
   "cell_type": "code",
   "execution_count": 3,
   "metadata": {},
   "outputs": [
    {
     "name": "stderr",
     "output_type": "stream",
     "text": [
      "C:\\Users\\Philip\\Anaconda3\\lib\\site-packages\\ipykernel_launcher.py:6: Warning: (1007, \"Can't create database 'wti_oil_original_data'; database exists\")\n",
      "  \n"
     ]
    }
   ],
   "source": [
    "DATA_DIR = \"../CL Daily Data WTI原油期货-所有资料\"\n",
    "for filename in os.listdir(DATA_DIR):\n",
    "      \n",
    "    cursor = db.cursor()\n",
    "    sql = \"CREATE DATABASE IF NOT EXISTS WTI_Oil_original_data\"\n",
    "    cursor.execute(sql)\n",
    "    \n",
    "    contract = filename.split(\".xlsx\")[0]\n",
    "    \n",
    "    sql = \"CREATE TABLE IF NOT EXISTS WTI_Oil_original_data.\" + contract + \\\n",
    "          \" (Date DATE PRIMARY KEY,\\\n",
    "            Open FLOAT(5),\\\n",
    "            High FLOAT(5),\\\n",
    "            Low FLOAT(5),\\\n",
    "            Close FLOAT(5),\\\n",
    "            Volume FLOAT(5),\\\n",
    "            OI FLOAT(5))\"\n",
    "    cursor.execute(sql)\n",
    "    \n",
    "    \n",
    "    data = pd.read_excel(DATA_DIR+\"/\"+filename,header=None)\n",
    "    data = data.fillna(\"NULL\")\n",
    "    \n",
    "    \n",
    "    for i in range(8,len(data)):\n",
    "        cursor = db.cursor()\n",
    "        sql = \"insert into WTI_Oil_original_data.\" + contract + \" values ('\"+ data.iloc[i][0].strftime(\"%Y-%m-%d\") + \"',\"\\\n",
    "                + str(data.iloc[i][1]) + \",\"\\\n",
    "                + str(data.iloc[i][2]) + \",\"\\\n",
    "                + str(data.iloc[i][3]) + \",\"\\\n",
    "                + str(data.iloc[i][4]) + \",\"\\\n",
    "                + str(data.iloc[i][5]) + \",\"\\\n",
    "                + str(data.iloc[i][6]) + \")\"\n",
    "        index = i\n",
    "        cursor.execute(sql)\n",
    "    cursor.close()"
   ]
  },
  {
   "cell_type": "markdown",
   "metadata": {},
   "source": [
    "# 鐵礦石"
   ]
  },
  {
   "cell_type": "code",
   "execution_count": 4,
   "metadata": {},
   "outputs": [
    {
     "name": "stderr",
     "output_type": "stream",
     "text": [
      "C:\\Users\\Philip\\Anaconda3\\lib\\site-packages\\ipykernel_launcher.py:6: Warning: (1007, \"Can't create database 'iron_original_data'; database exists\")\n",
      "  \n"
     ]
    }
   ],
   "source": [
    "DATA_DIR = \"../all IOE\"\n",
    "for filename in os.listdir(DATA_DIR):\n",
    "      \n",
    "    cursor = db.cursor()\n",
    "    sql = \"CREATE DATABASE IF NOT EXISTS Iron_original_data\"\n",
    "    cursor.execute(sql)\n",
    "    \n",
    "    contract = filename.split(\".xlsx\")[0]\n",
    "    \n",
    "    sql = \"CREATE TABLE IF NOT EXISTS Iron_original_data.\" + contract + \\\n",
    "          \" (Date DATE,\\\n",
    "            Open FLOAT,\\\n",
    "            High FLOAT,\\\n",
    "            Low FLOAT,\\\n",
    "            Close FLOAT,\\\n",
    "            Volume FLOAT,\\\n",
    "            OI FLOAT)\"\n",
    "    cursor.execute(sql)\n",
    "    \n",
    "    \n",
    "    data = pd.read_excel(DATA_DIR+\"/\"+filename,header=None)\n",
    "    data = data.fillna(\"NULL\")\n",
    "    \n",
    "    \n",
    "    for i in range(1,len(data)):\n",
    "        cursor = db.cursor()\n",
    "        sql = \"insert into Iron_original_data.\" + contract + \" values ('\"+ data.iloc[i][0].strftime(\"%Y-%m-%d\") + \"',\"\\\n",
    "                + str(data.iloc[i][1]) + \",\"\\\n",
    "                + str(data.iloc[i][2]) + \",\"\\\n",
    "                + str(data.iloc[i][3]) + \",\"\\\n",
    "                + str(data.iloc[i][4]) + \",\"\\\n",
    "                + str(data.iloc[i][5]) + \",\"\\\n",
    "                + str(data.iloc[i][6]) + \")\"\n",
    "        index = i\n",
    "        cursor.execute(sql)\n",
    "    cursor.close()"
   ]
  },
  {
   "cell_type": "code",
   "execution_count": 3,
   "metadata": {
    "collapsed": true
   },
   "outputs": [],
   "source": [
    "db = MySQLdb.connect(\"localhost\",\"root\",\"123456\")\n",
    "db.set_character_set(\"gbk\")\n",
    "data = pd.read_excel('../all IOE/IOEZ16.xlsx',header=None)\n",
    "data = data.fillna(\"NULL\")\n",
    "cursor = db.cursor()\n",
    "  \n",
    "sql = \"CREATE TABLE IF NOT EXISTS Oil_original_data.IOEZ16 \"\\\n",
    "        \" (Date DATE,\\\n",
    "        Open FLOAT,\\\n",
    "        High FLOAT,\\\n",
    "        Low FLOAT,\\\n",
    "        Close FLOAT,\\\n",
    "        Volume FLOAT,\\\n",
    "        OI FLOAT)\"\n",
    "cursor.execute(sql)\n",
    "    \n",
    "for i in range(1,len(data)):\n",
    "    cursor = db.cursor()\n",
    "    sql = \"insert into Oil_original_data.ioez16 values ('\"+ data.iloc[i][0].strftime(\"%Y-%m-%d\") + \"',\"\\\n",
    "                + str(data.iloc[i][1]) + \",\"\\\n",
    "                + str(data.iloc[i][2]) + \",\"\\\n",
    "                + str(data.iloc[i][3]) + \",\"\\\n",
    "                + str(data.iloc[i][4]) + \",\"\\\n",
    "                + str(data.iloc[i][5]) + \",\"\\\n",
    "                + str(data.iloc[i][6]) + \")\"\n",
    "        \n",
    "    cursor.execute(sql)\n",
    "db.commit()"
   ]
  },
  {
   "cell_type": "markdown",
   "metadata": {},
   "source": [
    "# 合約分開"
   ]
  },
  {
   "cell_type": "code",
   "execution_count": 78,
   "metadata": {
    "collapsed": true
   },
   "outputs": [],
   "source": [
    "name_column = 1\n",
    "column = 0\n",
    "next_column = 8\n",
    "while next_column <= 2068:\n",
    "    name = data.loc[0][name_column]\n",
    "    split_data = data.iloc[5::,column:next_column]\n",
    "    \n",
    "    #刪除所有列都是空值的行\n",
    "    split_data = split_data.dropna(how='all')\n",
    "    \n",
    "    #strip()刪除字串空白\n",
    "    split_data.to_csv('./test/'+name.strip()+'.csv',header=None,index=None)\n",
    "    column += 9\n",
    "    next_column +=9\n",
    "    name_column += 9\n",
    "    "
   ]
  },
  {
   "cell_type": "code",
   "execution_count": null,
   "metadata": {
    "collapsed": true
   },
   "outputs": [],
   "source": []
  }
 ],
 "metadata": {
  "kernelspec": {
   "display_name": "Python 3",
   "language": "python",
   "name": "python3"
  },
  "language_info": {
   "codemirror_mode": {
    "name": "ipython",
    "version": 3
   },
   "file_extension": ".py",
   "mimetype": "text/x-python",
   "name": "python",
   "nbconvert_exporter": "python",
   "pygments_lexer": "ipython3",
   "version": "3.6.3"
  }
 },
 "nbformat": 4,
 "nbformat_minor": 2
}
