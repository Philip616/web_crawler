{
 "cells": [
  {
   "cell_type": "code",
   "execution_count": 4,
   "metadata": {},
   "outputs": [],
   "source": [
    "import pandas as pd\n",
    "import MySQLdb\n",
    "import os\n",
    "import time"
   ]
  },
  {
   "cell_type": "code",
   "execution_count": 199,
   "metadata": {
    "collapsed": true
   },
   "outputs": [],
   "source": [
    "db = MySQLdb.connect(\"47.100.14.137\",\"hyps44413\",\"Nanhua\")\n",
    "db.set_character_set('gbk')"
   ]
  },
  {
   "cell_type": "code",
   "execution_count": 2,
   "metadata": {
    "collapsed": true
   },
   "outputs": [],
   "source": [
    "db = MySQLdb.connect(\"localhost\",\"root\",\"123456\")\n",
    "db.set_character_set(\"gbk\")"
   ]
  },
  {
   "cell_type": "code",
   "execution_count": 156,
   "metadata": {
    "collapsed": true
   },
   "outputs": [],
   "source": [
    "db.close()"
   ]
  },
  {
   "cell_type": "markdown",
   "metadata": {},
   "source": [
    "# 單獨品種日資料"
   ]
  },
  {
   "cell_type": "code",
   "execution_count": null,
   "metadata": {
    "collapsed": true
   },
   "outputs": [],
   "source": [
    "DATA_DIR = \"../CL Daily Data WTI原油期货-所有资料\"\n",
    "DATA_DIR = \"../all IOE\"\n",
    "\n",
    "#SQL_INSERT(\"Iron_original_data\",DATA_DIR)\n",
    "#SQL_INSERT(\"WTI_Oil_original_data\",DATA_DIR)"
   ]
  },
  {
   "cell_type": "code",
   "execution_count": 102,
   "metadata": {},
   "outputs": [
    {
     "ename": "SyntaxError",
     "evalue": "invalid syntax (<ipython-input-102-155356abac9b>, line 9)",
     "output_type": "error",
     "traceback": [
      "\u001b[1;36m  File \u001b[1;32m\"<ipython-input-102-155356abac9b>\"\u001b[1;36m, line \u001b[1;32m9\u001b[0m\n\u001b[1;33m    sql = \"CREATE TABLE IF NOT EXISTS \" dbname + \".\" + contract +               \" (Date DATE PRIMARY KEY,                Open FLOAT(5),                High FLOAT(5),                Low FLOAT(5),                Close FLOAT(5),                Volume FLOAT(5),                OI FLOAT(5))\"\u001b[0m\n\u001b[1;37m                                             ^\u001b[0m\n\u001b[1;31mSyntaxError\u001b[0m\u001b[1;31m:\u001b[0m invalid syntax\n"
     ]
    }
   ],
   "source": [
    "def SQL_INSERT(dbname,DATA_DIR):\n",
    "    for filename in os.listdir(DATA_DIR):      \n",
    "        cursor = db.cursor()\n",
    "        sql = \"CREATE DATABASE IF NOT EXISTS \" + dbname\n",
    "        cursor.execute(sql)\n",
    "\n",
    "        contract = filename.split(\".xlsx\")[0]\n",
    "\n",
    "        sql = \"CREATE TABLE IF NOT EXISTS \" dbname + \".\" + contract + \\\n",
    "              \" (Date DATE PRIMARY KEY,\\\n",
    "                Open FLOAT(5),\\\n",
    "                High FLOAT(5),\\\n",
    "                Low FLOAT(5),\\\n",
    "                Close FLOAT(5),\\\n",
    "                Volume FLOAT(5),\\\n",
    "                OI FLOAT(5))\"\n",
    "        cursor.execute(sql)\n",
    "\n",
    "\n",
    "        data = pd.read_excel(DATA_DIR+\"/\"+filename,header=None)\n",
    "        data = data.fillna(\"NULL\")\n",
    "\n",
    "\n",
    "        for i in range(8,len(data)):\n",
    "            cursor = db.cursor()\n",
    "            sql = \"insert into \" + dbname + \".\" + contract + \" values ('\"+ data.iloc[i][0].strftime(\"%Y-%m-%d\") + \"',\"\\\n",
    "                    + str(data.iloc[i][1]) + \",\"\\\n",
    "                    + str(data.iloc[i][2]) + \",\"\\\n",
    "                    + str(data.iloc[i][3]) + \",\"\\\n",
    "                    + str(data.iloc[i][4]) + \",\"\\\n",
    "                    + str(data.iloc[i][5]) + \",\"\\\n",
    "                    + str(data.iloc[i][6]) + \")\"\n",
    "            cursor.execute(sql)\n",
    "            db.commit()\n",
    "        cursor.close()"
   ]
  },
  {
   "cell_type": "markdown",
   "metadata": {},
   "source": [
    "# 合約分開"
   ]
  },
  {
   "cell_type": "code",
   "execution_count": 153,
   "metadata": {
    "collapsed": true
   },
   "outputs": [],
   "source": [
    "DATA_DIR = '../ALL CONCRACT/鄭商所'\n",
    "for filename in os.listdir(DATA_DIR):\n",
    "    \n",
    "    data = pd.read_excel(DATA_DIR + \"/\" + filename,header=None)\n",
    "    \n",
    "    folderName = filename.split(\".xlsx\")[0]\n",
    "    \n",
    "    name_column = 1\n",
    "    column = 0\n",
    "    next_column = 8\n",
    "    while next_column < len(data.loc[0]):\n",
    "        name = data.loc[0][name_column]\n",
    "        split_data = data.iloc[8::,column:next_column]\n",
    "\n",
    "        #刪除所有列都是空值的行\n",
    "        split_data = split_data.dropna(how='all')\n",
    "\n",
    "        #strip()刪除字串空白\n",
    "        head=['Date','PX_OPEN','PX_HIGH','PX_LOW','PX_LAST','PX_SETTLE','VOLUME','OPEN_INT']\n",
    "\n",
    "        split_data.to_csv('../ALL CONCRACT/CZCE/'+folderName+\"/\"+name.strip()+'.csv',header=head,index=None)\n",
    "        column += 9\n",
    "        next_column += 9\n",
    "        name_column += 9"
   ]
  },
  {
   "cell_type": "code",
   "execution_count": 24,
   "metadata": {
    "collapsed": true
   },
   "outputs": [],
   "source": [
    "data = pd.read_excel('../日資料/123.xlsx',header=None)\n",
    "    \n",
    "name_column = 1\n",
    "column = 0\n",
    "next_column = 8\n",
    "while next_column <= len(data.loc[0]):\n",
    "    name = data.loc[0][name_column]\n",
    "    split_data = data.iloc[8::,column:next_column]\n",
    "\n",
    "    #刪除所有列都是空值的行\n",
    "    split_data = split_data.dropna(how='all')\n",
    "\n",
    "    #strip()刪除字串空白\n",
    "    head=['Date','PX_OPEN','PX_HIGH','PX_LOW','PX_LAST','PX_SETTLE','VOLUME','OPEN_INT']\n",
    "\n",
    "    split_data.to_csv('../日資料/' + name.strip()+'.csv',header=head,index=None)\n",
    "    column += 9\n",
    "    next_column += 9\n",
    "    name_column += 9"
   ]
  },
  {
   "cell_type": "markdown",
   "metadata": {
    "collapsed": true
   },
   "source": [
    "# 所有交易所日資料"
   ]
  },
  {
   "cell_type": "code",
   "execution_count": 157,
   "metadata": {
    "collapsed": true,
    "scrolled": true
   },
   "outputs": [],
   "source": [
    "FOLDER_DIR = '../ALL CONCRACT/CZCE'\n",
    "for foldername in os.listdir(FOLDER_DIR):\n",
    "    cursor = db.cursor()\n",
    "    \n",
    "    databaseName = foldername + \"_day_data\"\n",
    "    \n",
    "    sql = \"create database if not exists \" + databaseName\n",
    "    cursor.execute(sql)\n",
    "    \n",
    "    DATA_DIR = FOLDER_DIR + \"/\" + foldername\n",
    "    for filename in os.listdir(DATA_DIR):\n",
    "        \n",
    "        name = filename.split('.csv')[0]\n",
    "        table_name = name.split(' ')[0]\n",
    "        \n",
    "        data = pd.read_csv(DATA_DIR + \"/\" + filename,header=0)\n",
    "        data['Date'] = pd.to_datetime(data['Date'])\n",
    "\n",
    "        data = data.where((pd.notnull(data)), None)\n",
    "        \n",
    "        sql = \"create table if not exists \"+ databaseName + \".\" + table_name + \\\n",
    "                  \" (Date DATE PRIMARY KEY,\\\n",
    "                    Open FLOAT(5),\\\n",
    "                    High  FLOAT(5),\\\n",
    "                    Low  FLOAT(5),\\\n",
    "                    Close  FLOAT(5),\\\n",
    "                    Settle  FLOAT(5),\\\n",
    "                    Volume  FLOAT(5),\\\n",
    "                    OI  FLOAT(5))\"\n",
    "        cursor.execute(sql)\n",
    "        \n",
    "        if len(data) == 0:\n",
    "            continue\n",
    "        \n",
    "        values = []\n",
    "        for i in range(len(data)):\n",
    "            values.append((data.iloc[i][0],data.iloc[i][1],data.iloc[i][2],data.iloc[i][3],data.iloc[i][4],\n",
    "                           data.iloc[i][5],data.iloc[i][6],data.iloc[i][7]))\n",
    "        sql = \"insert into \" + databaseName + \".\" + table_name + \" values (%s,%s,%s,%s,%s,%s,%s,%s)\"\n",
    "        cursor.executemany(sql,values)\n",
    "        db.commit()   \n",
    "    cursor.close()"
   ]
  },
  {
   "cell_type": "code",
   "execution_count": 10,
   "metadata": {
    "collapsed": true
   },
   "outputs": [],
   "source": [
    "db = MySQLdb.connect(\"47.100.14.137\",\"hyps44413\",\"Nanhua\")\n",
    "db.set_character_set('gbk')"
   ]
  },
  {
   "cell_type": "code",
   "execution_count": 21,
   "metadata": {
    "collapsed": true
   },
   "outputs": [],
   "source": [
    "db = MySQLdb.connect(\"localhost\",\"root\",\"123456\")\n",
    "db.set_character_set(\"gbk\")"
   ]
  },
  {
   "cell_type": "code",
   "execution_count": 11,
   "metadata": {
    "scrolled": true
   },
   "outputs": [],
   "source": [
    "cursor = db.cursor()\n",
    "    \n",
    "databaseName = \"au_day_data\"\n",
    "table_name = \"AUAM08\"\n",
    "        \n",
    "data = pd.read_excel('../日資料/AUAM08.xlsx',header=0)\n",
    "data['Dates'] = pd.to_datetime(data['Dates'])\n",
    "\n",
    "data = data.where((pd.notnull(data)), None)\n",
    "        \n",
    "sql = \"create table if not exists \"+ databaseName + \".\" + table_name + \\\n",
    "        \" (Date DATE PRIMARY KEY,\\\n",
    "        Open FLOAT(5),\\\n",
    "        High  FLOAT(5),\\\n",
    "        Low  FLOAT(5),\\\n",
    "        Close  FLOAT(5),\\\n",
    "        Settle  FLOAT(5),\\\n",
    "        Volume  FLOAT(5),\\\n",
    "        OI  FLOAT(5))\"\n",
    "cursor.execute(sql)\n",
    "\n",
    "values = []\n",
    "for i in range(len(data)):\n",
    "     values.append((data.iloc[i][0],data.iloc[i][1],data.iloc[i][2],data.iloc[i][3],data.iloc[i][4],\n",
    "                     data.iloc[i][5],data.iloc[i][6],data.iloc[i][7]))\n",
    "sql = \"insert into \" + databaseName + \".\" + table_name + \" values (%s,%s,%s,%s,%s,%s,%s,%s)\"\n",
    "cursor.executemany(sql,values)\n",
    "db.commit()   \n",
    "cursor.close()"
   ]
  },
  {
   "cell_type": "markdown",
   "metadata": {},
   "source": [
    "# 石油相關資料"
   ]
  },
  {
   "cell_type": "code",
   "execution_count": 5,
   "metadata": {},
   "outputs": [],
   "source": [
    "db_list = {'XB':'NYMEX_XB','CL':'NYMEX_CL','HO':'NYMEX_HO','NG':'NYMEX_NG','LCO':'ICEUK_LCO','LGO':'ICEUK_LGO'}"
   ]
  },
  {
   "cell_type": "code",
   "execution_count": 15,
   "metadata": {},
   "outputs": [
    {
     "data": {
      "text/plain": [
       "'ICEUK_LCO'"
      ]
     },
     "execution_count": 15,
     "metadata": {},
     "output_type": "execute_result"
    }
   ],
   "source": [
    "db_list['LCO']"
   ]
  },
  {
   "cell_type": "code",
   "execution_count": 29,
   "metadata": {
    "scrolled": true
   },
   "outputs": [
    {
     "name": "stdout",
     "output_type": "stream",
     "text": [
      "Open\n",
      "(1062, \"Duplicate entry '2017-12-26' for key 'PRIMARY'\")\n",
      "Open\n",
      "High\n",
      "Low\n",
      "Close\n",
      "Volume\n",
      "OI\n",
      "Open\n",
      "(1062, \"Duplicate entry '2017-12-26' for key 'PRIMARY'\")\n"
     ]
    }
   ],
   "source": [
    "DATA_DIR = '../DOC HO'\n",
    "cursor = db.cursor()\n",
    "\n",
    "for file in os.listdir(DATA_DIR):\n",
    "    name = file.split(\".xlsx\")[0]\n",
    "    data = pd.read_excel(DATA_DIR+\"/\"+file)\n",
    "    data = data.dropna(thresh=2)\n",
    "\n",
    "    dbname = db_list[name] + \"_W\"\n",
    "\n",
    "\n",
    "    ##重要!!!!!!!!!!!!!!!!!!!!!!!!\n",
    "    #executemany 空值一定要改成None!!\n",
    "    data = data.where((pd.notnull(data)), None)\n",
    "\n",
    "    # date = pd.read_excel(\"../20171120 所有换约日期.xlsx\")\n",
    "    # contract_date = pd.to_datetime(date['XB期货连续合约换约日期'])\n",
    "    # change_contract = pd.DataFrame()\n",
    "\n",
    "    # #分開合約\n",
    "    # change_contract['Date'] = data.iloc[9::,0]        \n",
    "\n",
    "    # #增加一列全0\n",
    "    # change_contract['change_contract'] = 0  \n",
    "\n",
    "    # #升序排序跟重置index\n",
    "    # change_contract = change_contract.sort_index(axis=0,ascending=False)\n",
    "    # change_contract = change_contract.reset_index(drop=True)\n",
    "\n",
    "    # #換約日期的下一次交易日change_contract改為1\n",
    "    # for i in range(len(contract_date)):\n",
    "    #     index = change_contract[change_contract['Date'] == contract_date.loc[i]].index.tolist()\n",
    "    #     if(len(index) > 0):\n",
    "    #         change_contract.iloc[index[0]+1,1] = 1\n",
    "\n",
    "    # change_contract['Date'] = change_contract['Date'].apply(lambda x: x.strftime(\"%Y-%m-%d\"))\n",
    "\n",
    "\n",
    "    # values = []\n",
    "    # for i in range(len(change_contract)):\n",
    "    #     values.append(tuple(change_contract.loc[i]))\n",
    "\n",
    "    # sql = \"insert into \" + dbname + \".change_contract values(%s,%s)\"\n",
    "    # cursor.executemany(sql,values)\n",
    "    # db.commit()\n",
    "\n",
    "\n",
    "    table_list = ['Open','High','Low','Close','Volume','OI']\n",
    "    index = 1\n",
    "    try:\n",
    "        for table in table_list:\n",
    "            print(table)\n",
    "            values=[]\n",
    "            for i in range(8,19):\n",
    "                values.append([data.iloc[i][0],data.iloc[i][index],data.iloc[i][index+6],data.iloc[i][index+12],data.iloc[i][index+18],data.iloc[i][index+24],\n",
    "                                data.iloc[i][index+30],data.iloc[i][index+36],data.iloc[i][index+42],data.iloc[i][index+48],data.iloc[i][index+54],\n",
    "                                data.iloc[i][index+60],data.iloc[i][index+66]])\n",
    "\n",
    "            cursor.executemany(\"INSERT INTO \" + dbname + \".\" + table + \" VALUES(%s,%s,%s,%s,%s,%s,%s,%s,%s,%s,%s,%s,%s)\".format(),values)\n",
    "            db.commit()\n",
    "\n",
    "            index+=1\n",
    "    except Exception as e:\n",
    "        print(e)\n",
    "\n",
    "cursor.close()"
   ]
  },
  {
   "cell_type": "code",
   "execution_count": 26,
   "metadata": {},
   "outputs": [],
   "source": [
    "db = MySQLdb.connect(\"47.100.14.137\",\"hyps44413\",\"Nanhua\")\n",
    "db.set_character_set('gbk')"
   ]
  },
  {
   "cell_type": "code",
   "execution_count": 24,
   "metadata": {},
   "outputs": [],
   "source": [
    "db = MySQLdb.connect(\"localhost\",\"root\",\"123456\")\n",
    "db.set_character_set(\"gbk\")"
   ]
  },
  {
   "cell_type": "code",
   "execution_count": 36,
   "metadata": {
    "collapsed": true
   },
   "outputs": [],
   "source": [
    "table_list = ['Open','High','Low','Close','Volume','OI']\n",
    "\n",
    "cursor = db.cursor()\n",
    "sql = \"CREATE DATABASE IF NOT EXISTS NYMEX_XB_W\"\n",
    "cursor.execute(sql)\n",
    "\n",
    "sql = \"CREATE TABLE IF NOT EXISTS NYMEX_XB_W.change_contract \" +\\\n",
    "      \"(Date DATE,\\\n",
    "        change_day INT(2))\"\n",
    "cursor.execute(sql)\n",
    "\n",
    "for i in table_list:\n",
    "    \n",
    "    sql = \"CREATE TABLE IF NOT EXISTS NYMEX_XB_W.\"+ i + \\\n",
    "        \" (Date DATE PRIMARY KEY,\\\n",
    "        XB1 FLOAT(5) DEFAULT NULL,\\\n",
    "        XB2 FLOAT(5) DEFAULT NULL,\\\n",
    "        XB3 FLOAT(5) DEFAULT NULL,\\\n",
    "        XB4 FLOAT(5) DEFAULT NULL,\\\n",
    "        XB5 FLOAT(5) DEFAULT NULL,\\\n",
    "        XB6 FLOAT(5) DEFAULT NULL,\\\n",
    "        XB7 FLOAT(5) DEFAULT NULL,\\\n",
    "        XB8 FLOAT(5) DEFAULT NULL,\\\n",
    "        XB9 FLOAT(5) DEFAULT NULL,\\\n",
    "        XB10 FLOAT(5) DEFAULT NULL,\\\n",
    "        XB11 FLOAT(5) DEFAULT NULL,\\\n",
    "        XB12 FLOAT(5)) CHARSET=utf8\"        \n",
    "    cursor.execute(sql)"
   ]
  },
  {
   "cell_type": "code",
   "execution_count": null,
   "metadata": {
    "collapsed": true
   },
   "outputs": [],
   "source": []
  }
 ],
 "metadata": {
  "kernelspec": {
   "display_name": "Python 3",
   "language": "python",
   "name": "python3"
  },
  "language_info": {
   "codemirror_mode": {
    "name": "ipython",
    "version": 3
   },
   "file_extension": ".py",
   "mimetype": "text/x-python",
   "name": "python",
   "nbconvert_exporter": "python",
   "pygments_lexer": "ipython3",
   "version": "3.6.3"
  }
 },
 "nbformat": 4,
 "nbformat_minor": 2
}
