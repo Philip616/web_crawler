{
 "cells": [
  {
   "cell_type": "code",
   "execution_count": 1,
   "metadata": {
    "collapsed": true
   },
   "outputs": [],
   "source": [
    "import pandas as pd\n",
    "import MySQLdb\n",
    "import os\n",
    "import time"
   ]
  },
  {
   "cell_type": "code",
   "execution_count": 130,
   "metadata": {
    "collapsed": true
   },
   "outputs": [],
   "source": [
    "db = MySQLdb.connect(\"47.100.14.137\",\"hyps44413\",\"Nanhua\")\n",
    "db.set_character_set('gbk')"
   ]
  },
  {
   "cell_type": "code",
   "execution_count": 128,
   "metadata": {
    "collapsed": true
   },
   "outputs": [],
   "source": [
    "db = MySQLdb.connect(\"localhost\",\"root\",\"123456\")\n",
    "db.set_character_set(\"utf8\")"
   ]
  },
  {
   "cell_type": "markdown",
   "metadata": {},
   "source": [
    "# 原油"
   ]
  },
  {
   "cell_type": "code",
   "execution_count": 3,
   "metadata": {},
   "outputs": [
    {
     "name": "stderr",
     "output_type": "stream",
     "text": [
      "C:\\Users\\Philip\\Anaconda3\\lib\\site-packages\\ipykernel_launcher.py:6: Warning: (1007, \"Can't create database 'wti_oil_original_data'; database exists\")\n",
      "  \n"
     ]
    }
   ],
   "source": [
    "DATA_DIR = \"../CL Daily Data WTI原油期货-所有资料\"\n",
    "for filename in os.listdir(DATA_DIR):\n",
    "      \n",
    "    cursor = db.cursor()\n",
    "    sql = \"CREATE DATABASE IF NOT EXISTS WTI_Oil_original_data\"\n",
    "    cursor.execute(sql)\n",
    "    \n",
    "    contract = filename.split(\".xlsx\")[0]\n",
    "    \n",
    "    sql = \"CREATE TABLE IF NOT EXISTS WTI_Oil_original_data.\" + contract + \\\n",
    "          \" (Date DATE PRIMARY KEY,\\\n",
    "            Open FLOAT(5),\\\n",
    "            High FLOAT(5),\\\n",
    "            Low FLOAT(5),\\\n",
    "            Close FLOAT(5),\\\n",
    "            Volume FLOAT(5),\\\n",
    "            OI FLOAT(5))\"\n",
    "    cursor.execute(sql)\n",
    "    \n",
    "    \n",
    "    data = pd.read_excel(DATA_DIR+\"/\"+filename,header=None)\n",
    "    data = data.fillna(\"NULL\")\n",
    "    \n",
    "    \n",
    "    for i in range(8,len(data)):\n",
    "        cursor = db.cursor()\n",
    "        sql = \"insert into WTI_Oil_original_data.\" + contract + \" values ('\"+ data.iloc[i][0].strftime(\"%Y-%m-%d\") + \"',\"\\\n",
    "                + str(data.iloc[i][1]) + \",\"\\\n",
    "                + str(data.iloc[i][2]) + \",\"\\\n",
    "                + str(data.iloc[i][3]) + \",\"\\\n",
    "                + str(data.iloc[i][4]) + \",\"\\\n",
    "                + str(data.iloc[i][5]) + \",\"\\\n",
    "                + str(data.iloc[i][6]) + \")\"\n",
    "        index = i\n",
    "        cursor.execute(sql)\n",
    "    cursor.close()"
   ]
  },
  {
   "cell_type": "markdown",
   "metadata": {},
   "source": [
    "# 鐵礦石"
   ]
  },
  {
   "cell_type": "code",
   "execution_count": 4,
   "metadata": {},
   "outputs": [
    {
     "name": "stderr",
     "output_type": "stream",
     "text": [
      "C:\\Users\\Philip\\Anaconda3\\lib\\site-packages\\ipykernel_launcher.py:6: Warning: (1007, \"Can't create database 'iron_original_data'; database exists\")\n",
      "  \n"
     ]
    }
   ],
   "source": [
    "DATA_DIR = \"../all IOE\"\n",
    "for filename in os.listdir(DATA_DIR):\n",
    "      \n",
    "    cursor = db.cursor()\n",
    "    sql = \"CREATE DATABASE IF NOT EXISTS Iron_original_data\"\n",
    "    cursor.execute(sql)\n",
    "    \n",
    "    contract = filename.split(\".xlsx\")[0]\n",
    "    \n",
    "    sql = \"CREATE TABLE IF NOT EXISTS Iron_original_data.\" + contract + \\\n",
    "          \" (Date DATE,\\\n",
    "            Open FLOAT,\\\n",
    "            High FLOAT,\\\n",
    "            Low FLOAT,\\\n",
    "            Close FLOAT,\\\n",
    "            Volume FLOAT,\\\n",
    "            OI FLOAT)\"\n",
    "    cursor.execute(sql)\n",
    "    \n",
    "    \n",
    "    data = pd.read_excel(DATA_DIR+\"/\"+filename,header=None)\n",
    "    data = data.fillna(\"NULL\")\n",
    "    \n",
    "    \n",
    "    for i in range(1,len(data)):\n",
    "        cursor = db.cursor()\n",
    "        sql = \"insert into Iron_original_data.\" + contract + \" values ('\"+ data.iloc[i][0].strftime(\"%Y-%m-%d\") + \"',\"\\\n",
    "                + str(data.iloc[i][1]) + \",\"\\\n",
    "                + str(data.iloc[i][2]) + \",\"\\\n",
    "                + str(data.iloc[i][3]) + \",\"\\\n",
    "                + str(data.iloc[i][4]) + \",\"\\\n",
    "                + str(data.iloc[i][5]) + \",\"\\\n",
    "                + str(data.iloc[i][6]) + \")\"\n",
    "        index = i\n",
    "        cursor.execute(sql)\n",
    "    cursor.close()"
   ]
  },
  {
   "cell_type": "code",
   "execution_count": 3,
   "metadata": {
    "collapsed": true
   },
   "outputs": [],
   "source": [
    "db = MySQLdb.connect(\"localhost\",\"root\",\"123456\")\n",
    "db.set_character_set(\"gbk\")\n",
    "data = pd.read_excel('../all IOE/IOEZ16.xlsx',header=None)\n",
    "data = data.fillna(\"NULL\")\n",
    "cursor = db.cursor()\n",
    "  \n",
    "sql = \"CREATE TABLE IF NOT EXISTS Oil_original_data.IOEZ16 \"\\\n",
    "        \" (Date DATE,\\\n",
    "        Open FLOAT,\\\n",
    "        High FLOAT,\\\n",
    "        Low FLOAT,\\\n",
    "        Close FLOAT,\\\n",
    "        Volume FLOAT,\\\n",
    "        OI FLOAT)\"\n",
    "cursor.execute(sql)\n",
    "    \n",
    "for i in range(1,len(data)):\n",
    "    cursor = db.cursor()\n",
    "    sql = \"insert into Oil_original_data.ioez16 values ('\"+ data.iloc[i][0].strftime(\"%Y-%m-%d\") + \"',\"\\\n",
    "                + str(data.iloc[i][1]) + \",\"\\\n",
    "                + str(data.iloc[i][2]) + \",\"\\\n",
    "                + str(data.iloc[i][3]) + \",\"\\\n",
    "                + str(data.iloc[i][4]) + \",\"\\\n",
    "                + str(data.iloc[i][5]) + \",\"\\\n",
    "                + str(data.iloc[i][6]) + \")\"\n",
    "        \n",
    "    cursor.execute(sql)\n",
    "db.commit()"
   ]
  },
  {
   "cell_type": "markdown",
   "metadata": {},
   "source": [
    "# 合約分開"
   ]
  },
  {
   "cell_type": "code",
   "execution_count": 4,
   "metadata": {
    "collapsed": true
   },
   "outputs": [],
   "source": [
    "DATA_DIR = '../ALL CONCRACT/大商所'\n",
    "for filename in os.listdir(DATA_DIR):\n",
    "    \n",
    "    data = pd.read_excel(DATA_DIR + \"/\" + filename,header=None)\n",
    "    \n",
    "    folderName = filename.split(\".xlsx\")[0]\n",
    "    \n",
    "    name_column = 1\n",
    "    column = 0\n",
    "    next_column = 8\n",
    "    while next_column < len(data.loc[0]):\n",
    "        name = data.loc[0][name_column]\n",
    "        split_data = data.iloc[8::,column:next_column]\n",
    "\n",
    "        #刪除所有列都是空值的行\n",
    "        split_data = split_data.dropna(how='all')\n",
    "\n",
    "        #strip()刪除字串空白\n",
    "        head=['Date','PX_OPEN','PX_HIGH','PX_LOW','PX_LAST','PX_SETTLE','VOLUME','OPEN_INT']\n",
    "\n",
    "        split_data.to_csv('../ALL CONCRACT/DCE/'+folderName+\"/\"+name.strip()+'.csv',header=head,index=None)\n",
    "        column += 9\n",
    "        next_column += 9\n",
    "        name_column += 9"
   ]
  },
  {
   "cell_type": "markdown",
   "metadata": {
    "collapsed": true
   },
   "source": [
    "# 大商所合约"
   ]
  },
  {
   "cell_type": "code",
   "execution_count": 131,
   "metadata": {
    "scrolled": true
   },
   "outputs": [
    {
     "ename": "KeyboardInterrupt",
     "evalue": "",
     "output_type": "error",
     "traceback": [
      "\u001b[1;31m---------------------------------------------------------------------------\u001b[0m",
      "\u001b[1;31mKeyboardInterrupt\u001b[0m                         Traceback (most recent call last)",
      "\u001b[1;32m<ipython-input-131-c36e4db6a82f>\u001b[0m in \u001b[0;36m<module>\u001b[1;34m()\u001b[0m\n\u001b[0;32m     28\u001b[0m         \u001b[1;32mfor\u001b[0m \u001b[0mi\u001b[0m \u001b[1;32min\u001b[0m \u001b[0mrange\u001b[0m\u001b[1;33m(\u001b[0m\u001b[0mlen\u001b[0m\u001b[1;33m(\u001b[0m\u001b[0mdata\u001b[0m\u001b[1;33m)\u001b[0m\u001b[1;33m)\u001b[0m\u001b[1;33m:\u001b[0m\u001b[1;33m\u001b[0m\u001b[0m\n\u001b[0;32m     29\u001b[0m             values.append((data.iloc[i][0],data.iloc[i][1],data.iloc[i][2],data.iloc[i][3],data.iloc[i][4],\n\u001b[1;32m---> 30\u001b[1;33m                            data.iloc[i][5],data.iloc[i][6],data.iloc[i][7]))\n\u001b[0m\u001b[0;32m     31\u001b[0m         \u001b[0msql\u001b[0m \u001b[1;33m=\u001b[0m \u001b[1;34m\"insert into \"\u001b[0m \u001b[1;33m+\u001b[0m \u001b[0mdatabaseName\u001b[0m \u001b[1;33m+\u001b[0m \u001b[1;34m\".\"\u001b[0m \u001b[1;33m+\u001b[0m \u001b[0mtable_name\u001b[0m \u001b[1;33m+\u001b[0m \u001b[1;34m\" values (%s,%s,%s,%s,%s,%s,%s,%s)\"\u001b[0m\u001b[1;33m\u001b[0m\u001b[0m\n\u001b[0;32m     32\u001b[0m         \u001b[0mcursor\u001b[0m\u001b[1;33m.\u001b[0m\u001b[0mexecutemany\u001b[0m\u001b[1;33m(\u001b[0m\u001b[0msql\u001b[0m\u001b[1;33m,\u001b[0m\u001b[0mvalues\u001b[0m\u001b[1;33m)\u001b[0m\u001b[1;33m\u001b[0m\u001b[0m\n",
      "\u001b[1;32m~\\Anaconda3\\lib\\site-packages\\pandas\\core\\indexing.py\u001b[0m in \u001b[0;36m__getitem__\u001b[1;34m(self, key)\u001b[0m\n\u001b[0;32m   1326\u001b[0m         \u001b[1;32melse\u001b[0m\u001b[1;33m:\u001b[0m\u001b[1;33m\u001b[0m\u001b[0m\n\u001b[0;32m   1327\u001b[0m             \u001b[0mkey\u001b[0m \u001b[1;33m=\u001b[0m \u001b[0mcom\u001b[0m\u001b[1;33m.\u001b[0m\u001b[0m_apply_if_callable\u001b[0m\u001b[1;33m(\u001b[0m\u001b[0mkey\u001b[0m\u001b[1;33m,\u001b[0m \u001b[0mself\u001b[0m\u001b[1;33m.\u001b[0m\u001b[0mobj\u001b[0m\u001b[1;33m)\u001b[0m\u001b[1;33m\u001b[0m\u001b[0m\n\u001b[1;32m-> 1328\u001b[1;33m             \u001b[1;32mreturn\u001b[0m \u001b[0mself\u001b[0m\u001b[1;33m.\u001b[0m\u001b[0m_getitem_axis\u001b[0m\u001b[1;33m(\u001b[0m\u001b[0mkey\u001b[0m\u001b[1;33m,\u001b[0m \u001b[0maxis\u001b[0m\u001b[1;33m=\u001b[0m\u001b[1;36m0\u001b[0m\u001b[1;33m)\u001b[0m\u001b[1;33m\u001b[0m\u001b[0m\n\u001b[0m\u001b[0;32m   1329\u001b[0m \u001b[1;33m\u001b[0m\u001b[0m\n\u001b[0;32m   1330\u001b[0m     \u001b[1;32mdef\u001b[0m \u001b[0m_is_scalar_access\u001b[0m\u001b[1;33m(\u001b[0m\u001b[0mself\u001b[0m\u001b[1;33m,\u001b[0m \u001b[0mkey\u001b[0m\u001b[1;33m)\u001b[0m\u001b[1;33m:\u001b[0m\u001b[1;33m\u001b[0m\u001b[0m\n",
      "\u001b[1;32m~\\Anaconda3\\lib\\site-packages\\pandas\\core\\indexing.py\u001b[0m in \u001b[0;36m_getitem_axis\u001b[1;34m(self, key, axis)\u001b[0m\n\u001b[0;32m   1749\u001b[0m             \u001b[0mself\u001b[0m\u001b[1;33m.\u001b[0m\u001b[0m_is_valid_integer\u001b[0m\u001b[1;33m(\u001b[0m\u001b[0mkey\u001b[0m\u001b[1;33m,\u001b[0m \u001b[0maxis\u001b[0m\u001b[1;33m)\u001b[0m\u001b[1;33m\u001b[0m\u001b[0m\n\u001b[0;32m   1750\u001b[0m \u001b[1;33m\u001b[0m\u001b[0m\n\u001b[1;32m-> 1751\u001b[1;33m             \u001b[1;32mreturn\u001b[0m \u001b[0mself\u001b[0m\u001b[1;33m.\u001b[0m\u001b[0m_get_loc\u001b[0m\u001b[1;33m(\u001b[0m\u001b[0mkey\u001b[0m\u001b[1;33m,\u001b[0m \u001b[0maxis\u001b[0m\u001b[1;33m=\u001b[0m\u001b[0maxis\u001b[0m\u001b[1;33m)\u001b[0m\u001b[1;33m\u001b[0m\u001b[0m\n\u001b[0m\u001b[0;32m   1752\u001b[0m \u001b[1;33m\u001b[0m\u001b[0m\n\u001b[0;32m   1753\u001b[0m     \u001b[1;32mdef\u001b[0m \u001b[0m_convert_to_indexer\u001b[0m\u001b[1;33m(\u001b[0m\u001b[0mself\u001b[0m\u001b[1;33m,\u001b[0m \u001b[0mobj\u001b[0m\u001b[1;33m,\u001b[0m \u001b[0maxis\u001b[0m\u001b[1;33m=\u001b[0m\u001b[1;36m0\u001b[0m\u001b[1;33m,\u001b[0m \u001b[0mis_setter\u001b[0m\u001b[1;33m=\u001b[0m\u001b[1;32mFalse\u001b[0m\u001b[1;33m)\u001b[0m\u001b[1;33m:\u001b[0m\u001b[1;33m\u001b[0m\u001b[0m\n",
      "\u001b[1;32m~\\Anaconda3\\lib\\site-packages\\pandas\\core\\indexing.py\u001b[0m in \u001b[0;36m_get_loc\u001b[1;34m(self, key, axis)\u001b[0m\n\u001b[0;32m    137\u001b[0m \u001b[1;33m\u001b[0m\u001b[0m\n\u001b[0;32m    138\u001b[0m     \u001b[1;32mdef\u001b[0m \u001b[0m_get_loc\u001b[0m\u001b[1;33m(\u001b[0m\u001b[0mself\u001b[0m\u001b[1;33m,\u001b[0m \u001b[0mkey\u001b[0m\u001b[1;33m,\u001b[0m \u001b[0maxis\u001b[0m\u001b[1;33m=\u001b[0m\u001b[1;36m0\u001b[0m\u001b[1;33m)\u001b[0m\u001b[1;33m:\u001b[0m\u001b[1;33m\u001b[0m\u001b[0m\n\u001b[1;32m--> 139\u001b[1;33m         \u001b[1;32mreturn\u001b[0m \u001b[0mself\u001b[0m\u001b[1;33m.\u001b[0m\u001b[0mobj\u001b[0m\u001b[1;33m.\u001b[0m\u001b[0m_ixs\u001b[0m\u001b[1;33m(\u001b[0m\u001b[0mkey\u001b[0m\u001b[1;33m,\u001b[0m \u001b[0maxis\u001b[0m\u001b[1;33m=\u001b[0m\u001b[0maxis\u001b[0m\u001b[1;33m)\u001b[0m\u001b[1;33m\u001b[0m\u001b[0m\n\u001b[0m\u001b[0;32m    140\u001b[0m \u001b[1;33m\u001b[0m\u001b[0m\n\u001b[0;32m    141\u001b[0m     \u001b[1;32mdef\u001b[0m \u001b[0m_slice\u001b[0m\u001b[1;33m(\u001b[0m\u001b[0mself\u001b[0m\u001b[1;33m,\u001b[0m \u001b[0mobj\u001b[0m\u001b[1;33m,\u001b[0m \u001b[0maxis\u001b[0m\u001b[1;33m=\u001b[0m\u001b[1;36m0\u001b[0m\u001b[1;33m,\u001b[0m \u001b[0mkind\u001b[0m\u001b[1;33m=\u001b[0m\u001b[1;32mNone\u001b[0m\u001b[1;33m)\u001b[0m\u001b[1;33m:\u001b[0m\u001b[1;33m\u001b[0m\u001b[0m\n",
      "\u001b[1;32m~\\Anaconda3\\lib\\site-packages\\pandas\\core\\frame.py\u001b[0m in \u001b[0;36m_ixs\u001b[1;34m(self, i, axis)\u001b[0m\n\u001b[0;32m   1897\u001b[0m                                                       \u001b[0mindex\u001b[0m\u001b[1;33m=\u001b[0m\u001b[0mself\u001b[0m\u001b[1;33m.\u001b[0m\u001b[0mcolumns\u001b[0m\u001b[1;33m,\u001b[0m\u001b[1;33m\u001b[0m\u001b[0m\n\u001b[0;32m   1898\u001b[0m                                                       \u001b[0mname\u001b[0m\u001b[1;33m=\u001b[0m\u001b[0mself\u001b[0m\u001b[1;33m.\u001b[0m\u001b[0mindex\u001b[0m\u001b[1;33m[\u001b[0m\u001b[0mi\u001b[0m\u001b[1;33m]\u001b[0m\u001b[1;33m,\u001b[0m\u001b[1;33m\u001b[0m\u001b[0m\n\u001b[1;32m-> 1899\u001b[1;33m                                                       dtype=new_values.dtype)\n\u001b[0m\u001b[0;32m   1900\u001b[0m                 \u001b[0mresult\u001b[0m\u001b[1;33m.\u001b[0m\u001b[0m_set_is_copy\u001b[0m\u001b[1;33m(\u001b[0m\u001b[0mself\u001b[0m\u001b[1;33m,\u001b[0m \u001b[0mcopy\u001b[0m\u001b[1;33m=\u001b[0m\u001b[0mcopy\u001b[0m\u001b[1;33m)\u001b[0m\u001b[1;33m\u001b[0m\u001b[0m\n\u001b[0;32m   1901\u001b[0m                 \u001b[1;32mreturn\u001b[0m \u001b[0mresult\u001b[0m\u001b[1;33m\u001b[0m\u001b[0m\n",
      "\u001b[1;32m~\\Anaconda3\\lib\\site-packages\\pandas\\core\\series.py\u001b[0m in \u001b[0;36m__init__\u001b[1;34m(self, data, index, dtype, name, copy, fastpath)\u001b[0m\n\u001b[0;32m    159\u001b[0m                 \u001b[0mdata\u001b[0m \u001b[1;33m=\u001b[0m \u001b[1;33m{\u001b[0m\u001b[1;33m}\u001b[0m\u001b[1;33m\u001b[0m\u001b[0m\n\u001b[0;32m    160\u001b[0m             \u001b[1;32mif\u001b[0m \u001b[0mdtype\u001b[0m \u001b[1;32mis\u001b[0m \u001b[1;32mnot\u001b[0m \u001b[1;32mNone\u001b[0m\u001b[1;33m:\u001b[0m\u001b[1;33m\u001b[0m\u001b[0m\n\u001b[1;32m--> 161\u001b[1;33m                 \u001b[0mdtype\u001b[0m \u001b[1;33m=\u001b[0m \u001b[0mself\u001b[0m\u001b[1;33m.\u001b[0m\u001b[0m_validate_dtype\u001b[0m\u001b[1;33m(\u001b[0m\u001b[0mdtype\u001b[0m\u001b[1;33m)\u001b[0m\u001b[1;33m\u001b[0m\u001b[0m\n\u001b[0m\u001b[0;32m    162\u001b[0m \u001b[1;33m\u001b[0m\u001b[0m\n\u001b[0;32m    163\u001b[0m             \u001b[1;32mif\u001b[0m \u001b[0misinstance\u001b[0m\u001b[1;33m(\u001b[0m\u001b[0mdata\u001b[0m\u001b[1;33m,\u001b[0m \u001b[0mMultiIndex\u001b[0m\u001b[1;33m)\u001b[0m\u001b[1;33m:\u001b[0m\u001b[1;33m\u001b[0m\u001b[0m\n",
      "\u001b[1;31mKeyboardInterrupt\u001b[0m: "
     ]
    }
   ],
   "source": [
    "FOLDER_DIR = '../ALL CONCRACT/DCE'\n",
    "for foldername in os.listdir(FOLDER_DIR):\n",
    "    cursor = db.cursor()\n",
    "    \n",
    "    databaseName = foldername + \"_day_data\"\n",
    "    \n",
    "    sql = \"create database if not exists \" + databaseName\n",
    "    cursor.execute(sql)\n",
    "    \n",
    "    DATA_DIR = FOLDER_DIR + \"/\" + foldername\n",
    "    for filename in os.listdir(DATA_DIR):\n",
    "        \n",
    "        name = filename.split('.csv')[0]\n",
    "        table_name = name.split(' ')[0]\n",
    "        \n",
    "        data = pd.read_csv(DATA_DIR + \"/\" + filename,header=0)\n",
    "        data['Date'] = pd.to_datetime(data['Date'])\n",
    "\n",
    "        data = data.where((pd.notnull(data)), None)\n",
    "        \n",
    "        sql = \"create table if not exists \"+ databaseName + \".\" + table_name + \\\n",
    "                  \" (Date DATE PRIMARY KEY,\\\n",
    "                    Open FLOAT(5),\\\n",
    "                    High  FLOAT(5),\\\n",
    "                    Low  FLOAT(5),\\\n",
    "                    Close  FLOAT(5),\\\n",
    "                    Settle  FLOAT(5),\\\n",
    "                    Volume  FLOAT(5),\\\n",
    "                    OI  FLOAT(5))\"\n",
    "        cursor.execute(sql)\n",
    "        \n",
    "        if len(data) == 0:\n",
    "            continue\n",
    "        \n",
    "        values = []\n",
    "        for i in range(len(data)):\n",
    "            values.append((data.iloc[i][0],data.iloc[i][1],data.iloc[i][2],data.iloc[i][3],data.iloc[i][4],\n",
    "                           data.iloc[i][5],data.iloc[i][6],data.iloc[i][7]))\n",
    "        sql = \"insert into \" + databaseName + \".\" + table_name + \" values (%s,%s,%s,%s,%s,%s,%s,%s)\"\n",
    "        cursor.executemany(sql,values)\n",
    "        db.commit()   \n",
    "    cursor.close()"
   ]
  },
  {
   "cell_type": "code",
   "execution_count": 127,
   "metadata": {
    "collapsed": true
   },
   "outputs": [],
   "source": [
    "db.close()"
   ]
  },
  {
   "cell_type": "code",
   "execution_count": null,
   "metadata": {
    "collapsed": true
   },
   "outputs": [],
   "source": []
  }
 ],
 "metadata": {
  "kernelspec": {
   "display_name": "Python 3",
   "language": "python",
   "name": "python3"
  },
  "language_info": {
   "codemirror_mode": {
    "name": "ipython",
    "version": 3
   },
   "file_extension": ".py",
   "mimetype": "text/x-python",
   "name": "python",
   "nbconvert_exporter": "python",
   "pygments_lexer": "ipython3",
   "version": "3.6.3"
  }
 },
 "nbformat": 4,
 "nbformat_minor": 2
}
