{
 "cells": [
  {
   "cell_type": "code",
   "execution_count": 110,
   "metadata": {
    "collapsed": true
   },
   "outputs": [],
   "source": [
    "import pandas as pd\n",
    "import numpy as np\n",
    "import MySQLdb\n",
    "import datetime"
   ]
  },
  {
   "cell_type": "code",
   "execution_count": 157,
   "metadata": {},
   "outputs": [],
   "source": [
    "company_order = pd.read_csv('myTempCompanyAll20170915_004.csv',encoding='gbk',header=None,index_col=None)"
   ]
  },
  {
   "cell_type": "code",
   "execution_count": 164,
   "metadata": {
    "collapsed": true
   },
   "outputs": [],
   "source": [
    "db = MySQLdb.connect(\"47.100.14.137\",\"hyps44413\",\"Nanhua\")\n",
    "db.set_character_set('gbk')"
   ]
  },
  {
   "cell_type": "code",
   "execution_count": 159,
   "metadata": {
    "collapsed": true
   },
   "outputs": [],
   "source": [
    "db = MySQLdb.connect(\"localhost\",\"root\",\"123456\")\n",
    "db.set_character_set('gbk')"
   ]
  },
  {
   "cell_type": "code",
   "execution_count": 160,
   "metadata": {},
   "outputs": [],
   "source": [
    "V_info_create()\n",
    "#B_info_create()\n",
    "#S_info_create()"
   ]
  },
  {
   "cell_type": "code",
   "execution_count": 112,
   "metadata": {},
   "outputs": [
    {
     "ename": "NameError",
     "evalue": "name 'creat_futures_member' is not defined",
     "output_type": "error",
     "traceback": [
      "\u001b[1;31m---------------------------------------------------------------------------\u001b[0m",
      "\u001b[1;31mNameError\u001b[0m                                 Traceback (most recent call last)",
      "\u001b[1;32m<ipython-input-112-ac06f94bba1f>\u001b[0m in \u001b[0;36m<module>\u001b[1;34m()\u001b[0m\n\u001b[1;32m----> 1\u001b[1;33m \u001b[0mcreat_futures_member\u001b[0m\u001b[1;33m(\u001b[0m\u001b[1;33m)\u001b[0m\u001b[1;33m\u001b[0m\u001b[0m\n\u001b[0m\u001b[0;32m      2\u001b[0m \u001b[0mcreat_non_futures_member\u001b[0m\u001b[1;33m(\u001b[0m\u001b[1;33m)\u001b[0m\u001b[1;33m\u001b[0m\u001b[0m\n\u001b[0;32m      3\u001b[0m \u001b[0mcreat_total_volume\u001b[0m\u001b[1;33m(\u001b[0m\u001b[1;33m)\u001b[0m\u001b[1;33m\u001b[0m\u001b[0m\n",
      "\u001b[1;31mNameError\u001b[0m: name 'creat_futures_member' is not defined"
     ]
    }
   ],
   "source": [
    "create_futures_member()\n",
    "create_non_futures_member()\n",
    "create_total_volume()"
   ]
  },
  {
   "cell_type": "code",
   "execution_count": 158,
   "metadata": {},
   "outputs": [],
   "source": [
    "db.close()"
   ]
  },
  {
   "cell_type": "code",
   "execution_count": 165,
   "metadata": {
    "scrolled": true
   },
   "outputs": [
    {
     "name": "stdout",
     "output_type": "stream",
     "text": [
      "[Errno 2] No such file or directory: '../大商所/大豆2号/20160730.csv'\n",
      "[Errno 2] No such file or directory: '../大商所/大豆2号/20160731.csv'\n",
      "[Errno 2] No such file or directory: '../大商所/大豆2号/20160806.csv'\n",
      "[Errno 2] No such file or directory: '../大商所/大豆2号/20160807.csv'\n",
      "[Errno 2] No such file or directory: '../大商所/大豆2号/20160813.csv'\n",
      "[Errno 2] No such file or directory: '../大商所/大豆2号/20160814.csv'\n",
      "[Errno 2] No such file or directory: '../大商所/大豆2号/20160820.csv'\n",
      "[Errno 2] No such file or directory: '../大商所/大豆2号/20160821.csv'\n",
      "[Errno 2] No such file or directory: '../大商所/大豆2号/20160827.csv'\n",
      "[Errno 2] No such file or directory: '../大商所/大豆2号/20160828.csv'\n",
      "[Errno 2] No such file or directory: '../大商所/大豆2号/20160903.csv'\n",
      "[Errno 2] No such file or directory: '../大商所/大豆2号/20160904.csv'\n",
      "[Errno 2] No such file or directory: '../大商所/大豆2号/20160910.csv'\n",
      "[Errno 2] No such file or directory: '../大商所/大豆2号/20160911.csv'\n",
      "[Errno 2] No such file or directory: '../大商所/大豆2号/20160915.csv'\n",
      "[Errno 2] No such file or directory: '../大商所/大豆2号/20160916.csv'\n",
      "[Errno 2] No such file or directory: '../大商所/大豆2号/20160917.csv'\n",
      "[Errno 2] No such file or directory: '../大商所/大豆2号/20160918.csv'\n",
      "[Errno 2] No such file or directory: '../大商所/大豆2号/20160924.csv'\n",
      "[Errno 2] No such file or directory: '../大商所/大豆2号/20160925.csv'\n",
      "[Errno 2] No such file or directory: '../大商所/大豆2号/20161001.csv'\n",
      "[Errno 2] No such file or directory: '../大商所/大豆2号/20161002.csv'\n",
      "[Errno 2] No such file or directory: '../大商所/大豆2号/20161003.csv'\n",
      "[Errno 2] No such file or directory: '../大商所/大豆2号/20161004.csv'\n",
      "[Errno 2] No such file or directory: '../大商所/大豆2号/20161005.csv'\n",
      "[Errno 2] No such file or directory: '../大商所/大豆2号/20161006.csv'\n",
      "[Errno 2] No such file or directory: '../大商所/大豆2号/20161007.csv'\n",
      "[Errno 2] No such file or directory: '../大商所/大豆2号/20161008.csv'\n",
      "[Errno 2] No such file or directory: '../大商所/大豆2号/20161009.csv'\n",
      "[Errno 2] No such file or directory: '../大商所/大豆2号/20161015.csv'\n",
      "[Errno 2] No such file or directory: '../大商所/大豆2号/20161016.csv'\n",
      "[Errno 2] No such file or directory: '../大商所/大豆2号/20161022.csv'\n",
      "[Errno 2] No such file or directory: '../大商所/大豆2号/20161023.csv'\n",
      "[Errno 2] No such file or directory: '../大商所/大豆2号/20161029.csv'\n",
      "[Errno 2] No such file or directory: '../大商所/大豆2号/20161030.csv'\n",
      "[Errno 2] No such file or directory: '../大商所/大豆2号/20161105.csv'\n",
      "[Errno 2] No such file or directory: '../大商所/大豆2号/20161106.csv'\n",
      "[Errno 2] No such file or directory: '../大商所/大豆2号/20161112.csv'\n",
      "[Errno 2] No such file or directory: '../大商所/大豆2号/20161113.csv'\n",
      "[Errno 2] No such file or directory: '../大商所/大豆2号/20161119.csv'\n",
      "[Errno 2] No such file or directory: '../大商所/大豆2号/20161120.csv'\n",
      "[Errno 2] No such file or directory: '../大商所/大豆2号/20161126.csv'\n",
      "[Errno 2] No such file or directory: '../大商所/大豆2号/20161127.csv'\n",
      "[Errno 2] No such file or directory: '../大商所/大豆2号/20161203.csv'\n",
      "[Errno 2] No such file or directory: '../大商所/大豆2号/20161204.csv'\n",
      "[Errno 2] No such file or directory: '../大商所/大豆2号/20161210.csv'\n",
      "[Errno 2] No such file or directory: '../大商所/大豆2号/20161211.csv'\n",
      "[Errno 2] No such file or directory: '../大商所/大豆2号/20161217.csv'\n",
      "[Errno 2] No such file or directory: '../大商所/大豆2号/20161218.csv'\n",
      "[Errno 2] No such file or directory: '../大商所/大豆2号/20161224.csv'\n",
      "[Errno 2] No such file or directory: '../大商所/大豆2号/20161225.csv'\n",
      "[Errno 2] No such file or directory: '../大商所/大豆2号/20161231.csv'\n",
      "[Errno 2] No such file or directory: '../大商所/大豆2号/20170101.csv'\n",
      "[Errno 2] No such file or directory: '../大商所/大豆2号/20170102.csv'\n",
      "[Errno 2] No such file or directory: '../大商所/大豆2号/20170107.csv'\n",
      "[Errno 2] No such file or directory: '../大商所/大豆2号/20170108.csv'\n",
      "[Errno 2] No such file or directory: '../大商所/大豆2号/20170114.csv'\n",
      "[Errno 2] No such file or directory: '../大商所/大豆2号/20170115.csv'\n",
      "[Errno 2] No such file or directory: '../大商所/大豆2号/20170121.csv'\n",
      "[Errno 2] No such file or directory: '../大商所/大豆2号/20170122.csv'\n",
      "[Errno 2] No such file or directory: '../大商所/大豆2号/20170127.csv'\n",
      "[Errno 2] No such file or directory: '../大商所/大豆2号/20170128.csv'\n",
      "[Errno 2] No such file or directory: '../大商所/大豆2号/20170129.csv'\n",
      "[Errno 2] No such file or directory: '../大商所/大豆2号/20170130.csv'\n",
      "[Errno 2] No such file or directory: '../大商所/大豆2号/20170131.csv'\n",
      "[Errno 2] No such file or directory: '../大商所/大豆2号/20170201.csv'\n",
      "[Errno 2] No such file or directory: '../大商所/大豆2号/20170202.csv'\n",
      "[Errno 2] No such file or directory: '../大商所/大豆2号/20170204.csv'\n",
      "[Errno 2] No such file or directory: '../大商所/大豆2号/20170205.csv'\n",
      "[Errno 2] No such file or directory: '../大商所/大豆2号/20170211.csv'\n",
      "[Errno 2] No such file or directory: '../大商所/大豆2号/20170212.csv'\n",
      "[Errno 2] No such file or directory: '../大商所/大豆2号/20170218.csv'\n",
      "[Errno 2] No such file or directory: '../大商所/大豆2号/20170219.csv'\n",
      "[Errno 2] No such file or directory: '../大商所/大豆2号/20170225.csv'\n",
      "[Errno 2] No such file or directory: '../大商所/大豆2号/20170226.csv'\n",
      "[Errno 2] No such file or directory: '../大商所/大豆2号/20170304.csv'\n",
      "[Errno 2] No such file or directory: '../大商所/大豆2号/20170305.csv'\n",
      "[Errno 2] No such file or directory: '../大商所/大豆2号/20170311.csv'\n",
      "[Errno 2] No such file or directory: '../大商所/大豆2号/20170312.csv'\n",
      "[Errno 2] No such file or directory: '../大商所/大豆2号/20170318.csv'\n",
      "[Errno 2] No such file or directory: '../大商所/大豆2号/20170319.csv'\n",
      "[Errno 2] No such file or directory: '../大商所/大豆2号/20170325.csv'\n",
      "[Errno 2] No such file or directory: '../大商所/大豆2号/20170326.csv'\n",
      "[Errno 2] No such file or directory: '../大商所/大豆2号/20170401.csv'\n",
      "[Errno 2] No such file or directory: '../大商所/大豆2号/20170402.csv'\n",
      "[Errno 2] No such file or directory: '../大商所/大豆2号/20170403.csv'\n",
      "[Errno 2] No such file or directory: '../大商所/大豆2号/20170404.csv'\n",
      "[Errno 2] No such file or directory: '../大商所/大豆2号/20170408.csv'\n",
      "[Errno 2] No such file or directory: '../大商所/大豆2号/20170409.csv'\n",
      "[Errno 2] No such file or directory: '../大商所/大豆2号/20170415.csv'\n",
      "[Errno 2] No such file or directory: '../大商所/大豆2号/20170416.csv'\n",
      "[Errno 2] No such file or directory: '../大商所/大豆2号/20170422.csv'\n",
      "[Errno 2] No such file or directory: '../大商所/大豆2号/20170423.csv'\n",
      "[Errno 2] No such file or directory: '../大商所/大豆2号/20170429.csv'\n",
      "[Errno 2] No such file or directory: '../大商所/大豆2号/20170430.csv'\n",
      "[Errno 2] No such file or directory: '../大商所/大豆2号/20170501.csv'\n",
      "[Errno 2] No such file or directory: '../大商所/大豆2号/20170506.csv'\n",
      "[Errno 2] No such file or directory: '../大商所/大豆2号/20170507.csv'\n",
      "[Errno 2] No such file or directory: '../大商所/大豆2号/20170513.csv'\n",
      "[Errno 2] No such file or directory: '../大商所/大豆2号/20170514.csv'\n",
      "[Errno 2] No such file or directory: '../大商所/大豆2号/20170520.csv'\n",
      "[Errno 2] No such file or directory: '../大商所/大豆2号/20170521.csv'\n",
      "[Errno 2] No such file or directory: '../大商所/大豆2号/20170527.csv'\n",
      "[Errno 2] No such file or directory: '../大商所/大豆2号/20170528.csv'\n",
      "[Errno 2] No such file or directory: '../大商所/大豆2号/20170529.csv'\n",
      "[Errno 2] No such file or directory: '../大商所/大豆2号/20170530.csv'\n",
      "[Errno 2] No such file or directory: '../大商所/大豆2号/20170603.csv'\n",
      "[Errno 2] No such file or directory: '../大商所/大豆2号/20170604.csv'\n",
      "[Errno 2] No such file or directory: '../大商所/大豆2号/20170610.csv'\n",
      "[Errno 2] No such file or directory: '../大商所/大豆2号/20170611.csv'\n",
      "[Errno 2] No such file or directory: '../大商所/大豆2号/20170617.csv'\n",
      "[Errno 2] No such file or directory: '../大商所/大豆2号/20170618.csv'\n",
      "[Errno 2] No such file or directory: '../大商所/大豆2号/20170624.csv'\n",
      "[Errno 2] No such file or directory: '../大商所/大豆2号/20170625.csv'\n",
      "[Errno 2] No such file or directory: '../大商所/大豆2号/20170701.csv'\n",
      "[Errno 2] No such file or directory: '../大商所/大豆2号/20170702.csv'\n",
      "[Errno 2] No such file or directory: '../大商所/大豆2号/20170708.csv'\n",
      "[Errno 2] No such file or directory: '../大商所/大豆2号/20170709.csv'\n",
      "[Errno 2] No such file or directory: '../大商所/大豆2号/20170715.csv'\n",
      "[Errno 2] No such file or directory: '../大商所/大豆2号/20170716.csv'\n",
      "[Errno 2] No such file or directory: '../大商所/大豆2号/20170722.csv'\n",
      "[Errno 2] No such file or directory: '../大商所/大豆2号/20170723.csv'\n",
      "[Errno 2] No such file or directory: '../大商所/大豆2号/20170729.csv'\n",
      "[Errno 2] No such file or directory: '../大商所/大豆2号/20170730.csv'\n",
      "[Errno 2] No such file or directory: '../大商所/大豆2号/20170805.csv'\n",
      "[Errno 2] No such file or directory: '../大商所/大豆2号/20170806.csv'\n",
      "[Errno 2] No such file or directory: '../大商所/大豆2号/20170812.csv'\n",
      "[Errno 2] No such file or directory: '../大商所/大豆2号/20170813.csv'\n",
      "[Errno 2] No such file or directory: '../大商所/大豆2号/20170819.csv'\n",
      "[Errno 2] No such file or directory: '../大商所/大豆2号/20170820.csv'\n"
     ]
    },
    {
     "name": "stdout",
     "output_type": "stream",
     "text": [
      "[Errno 2] No such file or directory: '../大商所/大豆2号/20170826.csv'\n",
      "[Errno 2] No such file or directory: '../大商所/大豆2号/20170827.csv'\n",
      "[Errno 2] No such file or directory: '../大商所/大豆2号/20170902.csv'\n",
      "[Errno 2] No such file or directory: '../大商所/大豆2号/20170903.csv'\n",
      "[Errno 2] No such file or directory: '../大商所/大豆2号/20170909.csv'\n",
      "[Errno 2] No such file or directory: '../大商所/大豆2号/20170910.csv'\n",
      "[Errno 2] No such file or directory: '../大商所/大豆2号/20170916.csv'\n",
      "[Errno 2] No such file or directory: '../大商所/大豆2号/20170917.csv'\n"
     ]
    }
   ],
   "source": [
    "now_date = datetime.datetime(2016,7,26)\n",
    "end_date = datetime.datetime(2017,9,18)\n",
    "\n",
    "databaseName = 'a_2_oi_original_data'\n",
    "\n",
    "while now_date <= end_date:\n",
    "    split_date = now_date.strftime('%Y-%m-%d').split('-')\n",
    "    table_date = split_date[0]+split_date[1]+split_date[2]\n",
    "    try:\n",
    "        data = pd.read_csv('../大商所/大豆2号/'+table_date+'.csv',encoding='gbk',engine='python')\n",
    "    except Exception as e:\n",
    "        now_date = now_date + datetime.timedelta(days = 1)\n",
    "        print (e)\n",
    "        continue\n",
    "        \n",
    "    for i in range(3,len(data)-1):\n",
    "        for j in range(12):\n",
    "            if(data.loc[i][j] == \"-\"):\n",
    "                data.loc[i][j] = None                \n",
    "            elif( (j==2 or j==3 or j==6 or j==7 or j==10 or j==11) and data.loc[i][j] != \"NULL\"):\n",
    "                data.loc[i][j] = data.loc[i][j].replace(',','')\n",
    "  \n",
    "    tmp = now_date\n",
    "\n",
    "    total_insert(data,table_date,databaseName)\n",
    "    #futures_member_insert(data,table_date,databaseName)\n",
    "    #non_futures_member_insert(data,table_date,databaseName)\n",
    "    #total_volume_insert(data,table_date,databaseName)\n",
    "        \n",
    "    #V_info_insert(data,table_date,databaseName)\n",
    "    #B_info_insert(data,table_date,databaseName)\n",
    "    #S_info_insert(data,table_date,databaseName)\n",
    "    \n",
    "    now_date = now_date + datetime.timedelta(days = 1)\n",
    "    \n",
    "db.close()"
   ]
  },
  {
   "cell_type": "code",
   "execution_count": 162,
   "metadata": {
    "collapsed": true,
    "scrolled": true
   },
   "outputs": [],
   "source": [
    "def total_insert(data,table_date,databaseName):       \n",
    "    cursor = db.cursor()\n",
    "    \n",
    "    sql = \"CREATE TABLE IF NOT EXISTS \" + databaseName + \".a_2_\" + table_date+ \"(\\\n",
    "    Rank INT(5),\\\n",
    "    Member CHAR(10),\\\n",
    "    Volume FLOAT(5),\\\n",
    "    Increment FLOAT(5),\\\n",
    "    Rank_1 INT(5),\\\n",
    "    Member1 CHAR(10),\\\n",
    "    Buy_Volume FLOAT(5),\\\n",
    "    Increment_1 FLOAT(5),\\\n",
    "    Rank_2 INT(5),\\\n",
    "    Member2 CHAR(10),\\\n",
    "    Sales_Volume FLOAT(5),\\\n",
    "    Increment_2 FLOAT(5) )\"\n",
    "\n",
    "    cursor.execute(sql)\n",
    "    value=[]\n",
    "\n",
    "    for i in range(3,len(data)-1):      \n",
    "        value.append((data.loc[i][0],data.loc[i][1],data.loc[i][2],data.loc[i][3],data.loc[i][4],data.loc[i][5],data.loc[i][6],data.loc[i][7],data.loc[i][8],data.loc[i][9],data.loc[i][10],data.loc[i][11]))\n",
    "\n",
    "    sql = \"INSERT INTO \" + databaseName + \".a_2_\" + table_date +\"(Rank,Member,Volume,Increment,Rank_1,Member1,Buy_Volume,Increment_1 \\\n",
    "    ,Rank_2,Member2,Sales_Volume,Increment_2) VALUES(%s,%s,%s,%s,%s,%s,%s,%s,%s,%s,%s,%s)\"\n",
    "        \n",
    "    cursor.executemany(sql,value)\n",
    "    db.commit()\n",
    "    cursor.close()"
   ]
  },
  {
   "cell_type": "markdown",
   "metadata": {},
   "source": [
    "# 期貨公司成員輸入"
   ]
  },
  {
   "cell_type": "code",
   "execution_count": 113,
   "metadata": {
    "collapsed": true
   },
   "outputs": [],
   "source": [
    "def create_futures_member():\n",
    "    cursor = db.cursor()\n",
    "    sql = \"CREATE TABLE IF NOT EXISTS \" + databaseName + \".futures_member (\\\n",
    "    Date DATE PRIMARY KEY,\\\n",
    "    Total_volume FLOAT(5),\\\n",
    "    Increment FLOAT(5),\\\n",
    "    Total_buy_volume FLOAT(5),\\\n",
    "    Increment_1 FLOAT(5),\\\n",
    "    Total_sales_volume FLOAT(5),\\\n",
    "    Increment_2 FLOAT(5) ) \"\n",
    "\n",
    "    cursor.execute(sql)"
   ]
  },
  {
   "cell_type": "code",
   "execution_count": 5,
   "metadata": {
    "collapsed": true
   },
   "outputs": [],
   "source": [
    "def futures_member_insert(data,table_date,databaseName):\n",
    "    \n",
    "    sql = \"INSERT INTO \" + databaseName + \".futures_member (Date,Total_volume,Increment,Total_buy_volume,Increment_1,Total_sales_volume,Increment_2) VALUES( \"\\\n",
    "    + table_date +\",\"\\\n",
    "    + data.loc[0][1].replace(',','') +\",\"\\\n",
    "    + data.loc[0][2].replace(',','') +\",\"\\\n",
    "    + data.loc[0][3].replace(',','') +\",\"\\\n",
    "    + data.loc[0][4].replace(',','') +\",\"\\\n",
    "    + data.loc[0][5].replace(',','') +\",\"\\\n",
    "    + data.loc[0][6].replace(',','') + \")\"\n",
    "\n",
    "    cursor.execute(sql)\n",
    "    db.commit()\n",
    "    cursor.close()"
   ]
  },
  {
   "cell_type": "markdown",
   "metadata": {},
   "source": [
    "# 非期貨公司成員輸入"
   ]
  },
  {
   "cell_type": "code",
   "execution_count": 114,
   "metadata": {},
   "outputs": [],
   "source": [
    "def create_non_futures_member():\n",
    "    cursor = db.cursor()\n",
    "    sql = \"CREATE TABLE IF NOT EXISTS \" + databaseName + \".none_futures_member (\\\n",
    "    Date DATE PRIMARY KEY,\\\n",
    "    Total_volume FLOAT(5),\\\n",
    "    Increment FLOAT(5),\\\n",
    "    Total_buy_volume FLOAT(5),\\\n",
    "    Increment_1 FLOAT(5),\\\n",
    "    Total_sales_volume FLOAT(5),\\\n",
    "    Increment_2 FLOAT(5) ) \"\n",
    "\n",
    "    cursor.execute(sql)"
   ]
  },
  {
   "cell_type": "code",
   "execution_count": 21,
   "metadata": {
    "collapsed": true
   },
   "outputs": [],
   "source": [
    "def non_futures_member_insert(data,table_date,databaseName):\n",
    "    cursor = db.cursor()\n",
    "    sql = \"INSERT INTO \" + databaseName +\".none_futures_member (Date,Total_volume,Increment,Total_buy_volume,Increment_1,Total_sales_volume,Increment_2) VALUES(\"\\\n",
    "    + table_date + \",\"\\\n",
    "    + data.loc[1][1].replace(',','') +\",\"\\\n",
    "    + data.loc[1][2].replace(',','') +\",\"\\\n",
    "    + data.loc[1][3].replace(',','') +\",\"\\\n",
    "    + data.loc[1][4].replace(',','') +\",\"\\\n",
    "    + data.loc[1][5].replace(',','') +\",\"\\\n",
    "    + data.loc[1][6].replace(',','') + \")\"\n",
    "\n",
    "    cursor.execute(sql)\n",
    "    db.commit()\n",
    "    cursor.close()"
   ]
  },
  {
   "cell_type": "markdown",
   "metadata": {},
   "source": [
    "# 總計"
   ]
  },
  {
   "cell_type": "code",
   "execution_count": 115,
   "metadata": {},
   "outputs": [],
   "source": [
    "def create_total_volume():\n",
    "    cursor = db.cursor()\n",
    "    sql = \"CREATE TABLE IF NOT EXISTS \" + databaseName +\".total_volume ( Date DATE PRIMARY KEY, \\\n",
    "    V_Valume FLOAT(5),V_Increment FLOAT(5),\\\n",
    "    B_Valume FLOAT(5),B_Increment FLOAT(5),\\\n",
    "    S_Valume FLOAT(5),S_Increment FLOAT(5))\"\n",
    "\n",
    "    cursor.execute(sql)"
   ]
  },
  {
   "cell_type": "code",
   "execution_count": 25,
   "metadata": {
    "collapsed": true
   },
   "outputs": [],
   "source": [
    "def total_volume_insert(data,table_date,databaseName):\n",
    "    cursor = db.cursor()\n",
    "    total_len = len(data)-1\n",
    "    sql = \"INSERT INTO \" + databaseName + \".total_volume (Date,V_Valume,V_Increment,B_Valume,B_Increment,S_Valume,S_Increment) VALUES(\"\\\n",
    "    + table_date + \",\"\\\n",
    "    + data.loc[total_len][2].replace(',','') +\",\"\\\n",
    "    + data.loc[total_len][3].replace(',','') +\",\"\\\n",
    "    + data.loc[total_len][6].replace(',','') +\",\"\\\n",
    "    + data.loc[total_len][7].replace(',','') +\",\"\\\n",
    "    + data.loc[total_len][10].replace(',','') +\",\"\\\n",
    "    + data.loc[total_len][11].replace(',','') + \")\"\n",
    "\n",
    "    cursor.execute(sql)\n",
    "    db.commit()"
   ]
  },
  {
   "cell_type": "markdown",
   "metadata": {},
   "source": [
    "# 各公司資訊"
   ]
  },
  {
   "cell_type": "markdown",
   "metadata": {},
   "source": [
    "## V名次、成交量、增減"
   ]
  },
  {
   "cell_type": "code",
   "execution_count": 45,
   "metadata": {
    "collapsed": true
   },
   "outputs": [],
   "source": [
    "def V_info_create():\n",
    "    cursor = db.cursor()\n",
    "    name=\"\"\n",
    "    for i in range(len(company_order)-1):\n",
    "        name = name + company_order.loc[i][0] + ' CHAR(10),'\n",
    "    name = name + company_order.loc[len(company_order)-1][0] + \" CHAR(10)\"\n",
    "\n",
    "    sql = \"CREATE TABLE IF NOT EXISTS \" + databaseName +\".v_rank ( Date DATE PRIMARY KEY, \" + name + \")\"\n",
    "    cursor.execute(sql)\n",
    "\n",
    "    sql = \"CREATE TABLE IF NOT EXISTS \" + databaseName + \".v_volume ( Date DATE PRIMARY KEY, \" + name + \")\"\n",
    "    cursor.execute(sql)\n",
    "\n",
    "    sql = \"CREATE TABLE IF NOT EXISTS \" + databaseName + \".v_increment ( Date DATE PRIMARY KEY, \" + name + \")\"\n",
    "    cursor.execute(sql)\n",
    "    cursor.close()"
   ]
  },
  {
   "cell_type": "code",
   "execution_count": 127,
   "metadata": {},
   "outputs": [],
   "source": [
    "def V_info_insert(data,table_date,databaseName):\n",
    "    cursor = db.cursor()\n",
    "    name=\"\"\n",
    "    for i in range(len(company_order)-1):\n",
    "        name = name + company_order.loc[i][0] + ','\n",
    "    name = name + company_order.loc[len(company_order)-1][0]\n",
    "\n",
    "    empty = \"\"\n",
    "    empty = empty + table_date\n",
    "    #for i in range(len(company_order)-1):\n",
    "    #    empty = empty + \"NULL\" + ','\n",
    "    #empty = empty + \"NULL\"\n",
    "\n",
    "    '''sql = \"INSERT INTO \" + databaseName + \".v_rank (Date) VALUES (\" + empty + \")\"\n",
    "    cursor.execute(sql)\n",
    "    db.commit()\n",
    "\n",
    "    sql = \"INSERT INTO \" + databaseName + \".v_volume (Date) VALUES (\" + empty + \")\"\n",
    "    cursor.execute(sql)\n",
    "    db.commit()\n",
    "\n",
    "    sql = \"INSERT INTO \" + databaseName + \".v_increment (Date) VALUES (\" + empty + \")\"\n",
    "    cursor.execute(sql)\n",
    "    db.commit()'''\n",
    "    \n",
    "    for i in range(3,len(data)-1):\n",
    "        if(data.loc[i][1] == \"NULL\"):\n",
    "            continue\n",
    "        \n",
    "        else:\n",
    "            sql = \"UPDATE \" + databaseName + \".v_rank SET \" + str(data.loc[i][1]) + \"=\" + data.loc[i][0] + \" WHERE Date=\" + table_date\n",
    "            print(sql)\n",
    "            cursor.execute(sql)\n",
    "            db.commit()    \n",
    "\n",
    "    for i in range(3,len(data)-1):\n",
    "        if(data.loc[i][1] == \"NULL\"):\n",
    "            continue\n",
    "            \n",
    "        else:\n",
    "            sql = \"UPDATE \" + databaseName + \".v_volume SET \" + str(data.loc[i][1]) + \"=\" + data.loc[i][2] + \" WHERE Date=\" + table_date\n",
    "            cursor.execute(sql)\n",
    "            db.commit()\n",
    "\n",
    "    for i in range(3,len(data)-1):\n",
    "        if(data.loc[i][1] == \"NULL\"):\n",
    "            continue\n",
    "            \n",
    "        else:\n",
    "            sql = \"UPDATE \" + databaseName + \".v_increment SET \" + data.loc[i][1] + \"=\" + data.loc[i][3] + \" WHERE Date=\" + table_date\n",
    "            cursor.execute(sql)\n",
    "            db.commit()\n",
    "    \n",
    "    cursor.close()"
   ]
  },
  {
   "cell_type": "markdown",
   "metadata": {},
   "source": [
    "## B名次、買單量、增減"
   ]
  },
  {
   "cell_type": "code",
   "execution_count": 198,
   "metadata": {},
   "outputs": [
    {
     "data": {
      "text/plain": [
       "0"
      ]
     },
     "execution_count": 198,
     "metadata": {},
     "output_type": "execute_result"
    }
   ],
   "source": [
    "def B_info_create():\n",
    "    name=\"\"\n",
    "    for i in range(len(company_order)-1):\n",
    "        name = name + company_order.loc[i][0] + ' CHAR(10),'\n",
    "    name = name + company_order.loc[len(company_order)-1][0] + \" CHAR(10)\"\n",
    "\n",
    "    sql = \"CREATE TABLE IF NOT EXISTS \" + databaseName + \".b_rank ( Date DATE PRIMARY KEY, \" + name + \")\"\n",
    "    cursor.execute(sql)\n",
    "\n",
    "    sql = \"CREATE TABLE IF NOT EXISTS \" + databaseName + \".b_oi ( Date DATE PRIMARY KEY, \" + name + \")\"\n",
    "    cursor.execute(sql)\n",
    "\n",
    "    sql = \"CREATE TABLE IF NOT EXISTS \" + databaseName + \".b_increment ( Date DATE PRIMARY KEY, \" + name + \")\"\n",
    "    cursor.execute(sql)"
   ]
  },
  {
   "cell_type": "code",
   "execution_count": 199,
   "metadata": {
    "collapsed": true
   },
   "outputs": [],
   "source": [
    "def B_info_insert(data,table_date,list_date,databaseName)\n",
    "    name=\"\"\n",
    "    for i in range(len(company_order)-1):\n",
    "        name = name + company_order.loc[i][0] + ','\n",
    "    name = name + company_order.loc[len(company_order)-1][0]\n",
    "\n",
    "    empty = \"\"\n",
    "    empty = empty + table_date + \",\"\n",
    "    for i in range(len(company_order)-1):\n",
    "        empty = empty + \"NULL\" + ','\n",
    "    empty = empty + \"NULL\"\n",
    "    \n",
    "    sql = \"INSERT INTO \" + databaseName + \".b_rank (Date,\" + name + \") VALUES (\" + empty + \")\"\n",
    "    cursor.execute(sql)\n",
    "    db.commit()\n",
    "\n",
    "    sql = \"INSERT INTO \" + databaseName + \".b_oi (Date,\" + name + \") VALUES (\" + empty + \")\"\n",
    "    cursor.execute(sql)\n",
    "    db.commit()\n",
    "\n",
    "    sql = \"INSERT INTO \" + databaseName + \".b_increment (Date,\" + name + \") VALUES (\" + empty + \")\"\n",
    "    cursor.execute(sql)\n",
    "    db.commit()\n",
    "    \n",
    "    for i in range(3,len(data)-1):\n",
    "    if(data.loc[i][1] == \"NULL\"):\n",
    "        continue  \n",
    "        \n",
    "    sql = \"UPDATE \" + databaseName + \".b_rank SET \" + str(data.loc[i][5]) + \"=\" + data.loc[i][4] + \" WHERE Date='\" + list_date + \"'\"\n",
    "    cursor.execute(sql)\n",
    "    db.commit()    \n",
    "\n",
    "    for i in range(3,len(data)-1):\n",
    "        if(data.loc[i][5] == \"NULL\"):\n",
    "            continue\n",
    "        sql = \"UPDATE \" + databaseName + \".b_oi SET \" + str(data.loc[i][5]) + \"=\" + data.loc[i][6] + \" WHERE Date='\" + list_date + \"'\"\n",
    "        cursor.execute(sql)\n",
    "        db.commit()\n",
    "\n",
    "    for i in range(3,len(data)-1):\n",
    "        if(data.loc[i][9] == \"NULL\"):\n",
    "            continue\n",
    "        sql = \"UPDATE \" + databaseName + \".b_increment SET \" + data.loc[i][5] + \"=\" + data.loc[i][7] + \" WHERE Date='\" + list_date + \"'\"\n",
    "        cursor.execute(sql)\n",
    "        db.commit()\n",
    "\n",
    "    cursor.close()"
   ]
  },
  {
   "cell_type": "markdown",
   "metadata": {
    "scrolled": true
   },
   "source": [
    "## S名次、賣單量、增減"
   ]
  },
  {
   "cell_type": "code",
   "execution_count": 203,
   "metadata": {},
   "outputs": [
    {
     "data": {
      "text/plain": [
       "0"
      ]
     },
     "execution_count": 203,
     "metadata": {},
     "output_type": "execute_result"
    }
   ],
   "source": [
    "def S_info_create():\n",
    "    name=\"\"\n",
    "    for i in range(len(company_order)-1):\n",
    "        name = name + company_order.loc[i][0] + ' CHAR(10),'\n",
    "    name = name + company_order.loc[len(company_order)-1][0] + \" CHAR(10)\"\n",
    "\n",
    "    sql = \"CREATE TABLE IF NOT EXISTS \" + databaseName +\".s_rank ( Date DATE PRIMARY KEY, \" + name + \")\"\n",
    "    cursor.execute(sql)\n",
    "\n",
    "    sql = \"CREATE TABLE IF NOT EXISTS \" + databaseName + \".s_oi ( Date DATE PRIMARY KEY, \" + name + \")\"\n",
    "    cursor.execute(sql)\n",
    "\n",
    "    sql = \"CREATE TABLE IF NOT EXISTS \" + databaseName + \".s_increment ( Date DATE PRIMARY KEY, \" + name + \")\"\n",
    "    cursor.execute(sql)"
   ]
  },
  {
   "cell_type": "code",
   "execution_count": 204,
   "metadata": {
    "collapsed": true
   },
   "outputs": [],
   "source": [
    "def S_info_insert(data,table_date,list_date,databaseName):\n",
    "    name=\"\"\n",
    "    for i in range(len(company_order)-1):\n",
    "        name = name + company_order.loc[i][0] + ','\n",
    "    name = name + company_order.loc[len(company_order)-1][0]\n",
    "\n",
    "    empty = \"\"\n",
    "    empty = empty + table_date + \",\"\n",
    "    for i in range(len(company_order)-1):\n",
    "        empty = empty + \"NULL\" + ','\n",
    "    empty = empty + \"NULL\"\n",
    "    \n",
    "    sql = \"INSERT INTO \" + databaseName + \".s_rank (Date,\" + name + \") VALUES (\" + empty + \")\"\n",
    "    cursor.execute(sql)\n",
    "    db.commit()\n",
    "\n",
    "    sql = \"INSERT INTO \" + databaseName + \".s_oi (Date,\" + name + \") VALUES (\" + empty + \")\"\n",
    "    cursor.execute(sql)\n",
    "    db.commit()\n",
    "\n",
    "    sql = \"INSERT INTO \" + databaseName + \".s_increment (Date,\" + name + \") VALUES (\" + empty + \")\"\n",
    "    cursor.execute(sql)\n",
    "    db.commit()\n",
    "    \n",
    "    for i in range(3,len(data)-1):\n",
    "    if(data.loc[i][1] == \"NULL\"):\n",
    "        continue  \n",
    "        \n",
    "    sql = \"UPDATE \" + databaseName + \".s_rank SET \" + str(data.loc[i][1]) + \"=\" + data.loc[i][0] + \" WHERE Date='\" + list_date + \"'\"\n",
    "    cursor.execute(sql)\n",
    "    db.commit()    \n",
    "\n",
    "    for i in range(3,len(data)-1):\n",
    "        if(data.loc[i][5] == \"NULL\"):\n",
    "            continue\n",
    "        sql = \"UPDATE \" + databaseName + \".s_oi SET \" + str(data.loc[i][1]) + \"=\" + data.loc[i][2] + \" WHERE Date='\" + list_date + \"'\"\n",
    "        cursor.execute(sql)\n",
    "        db.commit()\n",
    "\n",
    "    for i in range(3,len(data)-1):\n",
    "        if(data.loc[i][9] == \"NULL\"):\n",
    "            continue\n",
    "        sql = \"UPDATE \" + databaseName +\".s_increment SET \" + data.loc[i][9] + \"=\" + data.loc[i][3] + \" WHERE Date='\" + list_date + \"'\"\n",
    "        cursor.execute(sql)\n",
    "        db.commit()\n",
    "\n",
    "    cursor.close()"
   ]
  }
 ],
 "metadata": {
  "kernelspec": {
   "display_name": "Python 3",
   "language": "python",
   "name": "python3"
  },
  "language_info": {
   "codemirror_mode": {
    "name": "ipython",
    "version": 3
   },
   "file_extension": ".py",
   "mimetype": "text/x-python",
   "name": "python",
   "nbconvert_exporter": "python",
   "pygments_lexer": "ipython3",
   "version": "3.6.3"
  }
 },
 "nbformat": 4,
 "nbformat_minor": 2
}
