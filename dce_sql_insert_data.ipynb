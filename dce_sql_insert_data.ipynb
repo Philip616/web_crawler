{
 "cells": [
  {
   "cell_type": "code",
   "execution_count": 1,
   "metadata": {
    "collapsed": true
   },
   "outputs": [],
   "source": [
    "import pandas as pd\n",
    "import numpy as np\n",
    "import MySQLdb\n",
    "import datetime"
   ]
  },
  {
   "cell_type": "code",
   "execution_count": 20,
   "metadata": {
    "collapsed": true
   },
   "outputs": [],
   "source": [
    "company_order = pd.read_csv('myTempCompanyAll20170915_004.csv',encoding='gbk',header=None,index_col=None)"
   ]
  },
  {
   "cell_type": "code",
   "execution_count": 59,
   "metadata": {
    "collapsed": true
   },
   "outputs": [],
   "source": [
    "db = MySQLdb.connect(\"47.100.14.137\",\"hyps44413\",\"Nanhua\")\n",
    "db.set_character_set('gbk')"
   ]
  },
  {
   "cell_type": "code",
   "execution_count": 80,
   "metadata": {
    "collapsed": true
   },
   "outputs": [],
   "source": [
    "db = MySQLdb.connect(\"localhost\",\"root\",\"123456\")\n",
    "db.set_character_set('gbk')"
   ]
  },
  {
   "cell_type": "code",
   "execution_count": 160,
   "metadata": {
    "collapsed": true
   },
   "outputs": [],
   "source": [
    "V_info_create()\n",
    "#B_info_create()\n",
    "#S_info_create()"
   ]
  },
  {
   "cell_type": "code",
   "execution_count": 75,
   "metadata": {
    "collapsed": true
   },
   "outputs": [],
   "source": [
    "db.close()"
   ]
  },
  {
   "cell_type": "code",
   "execution_count": 86,
   "metadata": {
    "scrolled": true
   },
   "outputs": [
    {
     "name": "stderr",
     "output_type": "stream",
     "text": [
      "C:\\Users\\Philip\\Anaconda3\\lib\\site-packages\\ipykernel_launcher.py:11: Warning: (1007, \"Can't create database 'a_1_oi_data'; database exists\")\n",
      "  # This is added back by InteractiveShellApp.init_path()\n",
      "C:\\Users\\Philip\\Anaconda3\\lib\\site-packages\\ipykernel_launcher.py:14: Warning: (1007, \"Can't create database 'a_1_oi_original_data'; database exists\")\n",
      "  \n",
      "C:\\Users\\Philip\\Anaconda3\\lib\\site-packages\\ipykernel_launcher.py:5: Warning: (1050, \"Table 'futures_member' already exists\")\n",
      "  \"\"\"\n",
      "C:\\Users\\Philip\\Anaconda3\\lib\\site-packages\\ipykernel_launcher.py:5: Warning: (1050, \"Table 'none_futures_member' already exists\")\n",
      "  \"\"\"\n",
      "C:\\Users\\Philip\\Anaconda3\\lib\\site-packages\\ipykernel_launcher.py:5: Warning: (1050, \"Table 'total_volume' already exists\")\n",
      "  \"\"\"\n",
      "C:\\Users\\Philip\\Anaconda3\\lib\\site-packages\\ipykernel_launcher.py:6: Warning: (1050, \"Table 'a_1_20020315' already exists\")\n",
      "  \n"
     ]
    },
    {
     "name": "stdout",
     "output_type": "stream",
     "text": [
      "[Errno 2] No such file or directory: '../各交易所期貨持倉量/大商所/大豆1号/20020316.csv'\n",
      "[Errno 2] No such file or directory: '../各交易所期貨持倉量/大商所/大豆1号/20020317.csv'\n"
     ]
    },
    {
     "name": "stderr",
     "output_type": "stream",
     "text": [
      "C:\\Users\\Philip\\Anaconda3\\lib\\site-packages\\ipykernel_launcher.py:6: Warning: (1050, \"Table 'a_1_20020318' already exists\")\n",
      "  \n",
      "C:\\Users\\Philip\\Anaconda3\\lib\\site-packages\\ipykernel_launcher.py:6: Warning: (1050, \"Table 'a_1_20020319' already exists\")\n",
      "  \n",
      "C:\\Users\\Philip\\Anaconda3\\lib\\site-packages\\ipykernel_launcher.py:6: Warning: (1050, \"Table 'a_1_20020320' already exists\")\n",
      "  \n",
      "C:\\Users\\Philip\\Anaconda3\\lib\\site-packages\\ipykernel_launcher.py:6: Warning: (1050, \"Table 'a_1_20020321' already exists\")\n",
      "  \n",
      "C:\\Users\\Philip\\Anaconda3\\lib\\site-packages\\ipykernel_launcher.py:6: Warning: (1050, \"Table 'a_1_20020322' already exists\")\n",
      "  \n"
     ]
    },
    {
     "name": "stdout",
     "output_type": "stream",
     "text": [
      "[Errno 2] No such file or directory: '../各交易所期貨持倉量/大商所/大豆1号/20020323.csv'\n",
      "[Errno 2] No such file or directory: '../各交易所期貨持倉量/大商所/大豆1号/20020324.csv'\n"
     ]
    },
    {
     "name": "stderr",
     "output_type": "stream",
     "text": [
      "C:\\Users\\Philip\\Anaconda3\\lib\\site-packages\\ipykernel_launcher.py:6: Warning: (1050, \"Table 'a_1_20020325' already exists\")\n",
      "  \n",
      "C:\\Users\\Philip\\Anaconda3\\lib\\site-packages\\ipykernel_launcher.py:6: Warning: (1050, \"Table 'a_1_20020326' already exists\")\n",
      "  \n",
      "C:\\Users\\Philip\\Anaconda3\\lib\\site-packages\\ipykernel_launcher.py:6: Warning: (1050, \"Table 'a_1_20020327' already exists\")\n",
      "  \n",
      "C:\\Users\\Philip\\Anaconda3\\lib\\site-packages\\ipykernel_launcher.py:6: Warning: (1050, \"Table 'a_1_20020328' already exists\")\n",
      "  \n",
      "C:\\Users\\Philip\\Anaconda3\\lib\\site-packages\\ipykernel_launcher.py:6: Warning: (1050, \"Table 'a_1_20020329' already exists\")\n",
      "  \n"
     ]
    },
    {
     "name": "stdout",
     "output_type": "stream",
     "text": [
      "[Errno 2] No such file or directory: '../各交易所期貨持倉量/大商所/大豆1号/20020330.csv'\n",
      "[Errno 2] No such file or directory: '../各交易所期貨持倉量/大商所/大豆1号/20020331.csv'\n"
     ]
    },
    {
     "name": "stderr",
     "output_type": "stream",
     "text": [
      "C:\\Users\\Philip\\Anaconda3\\lib\\site-packages\\ipykernel_launcher.py:6: Warning: (1050, \"Table 'a_1_20020401' already exists\")\n",
      "  \n",
      "C:\\Users\\Philip\\Anaconda3\\lib\\site-packages\\ipykernel_launcher.py:6: Warning: (1050, \"Table 'a_1_20020402' already exists\")\n",
      "  \n",
      "C:\\Users\\Philip\\Anaconda3\\lib\\site-packages\\ipykernel_launcher.py:6: Warning: (1050, \"Table 'a_1_20020403' already exists\")\n",
      "  \n",
      "C:\\Users\\Philip\\Anaconda3\\lib\\site-packages\\ipykernel_launcher.py:6: Warning: (1050, \"Table 'a_1_20020404' already exists\")\n",
      "  \n",
      "C:\\Users\\Philip\\Anaconda3\\lib\\site-packages\\ipykernel_launcher.py:6: Warning: (1050, \"Table 'a_1_20020405' already exists\")\n",
      "  \n"
     ]
    },
    {
     "name": "stdout",
     "output_type": "stream",
     "text": [
      "[Errno 2] No such file or directory: '../各交易所期貨持倉量/大商所/大豆1号/20020406.csv'\n",
      "[Errno 2] No such file or directory: '../各交易所期貨持倉量/大商所/大豆1号/20020407.csv'\n"
     ]
    },
    {
     "name": "stderr",
     "output_type": "stream",
     "text": [
      "C:\\Users\\Philip\\Anaconda3\\lib\\site-packages\\ipykernel_launcher.py:6: Warning: (1050, \"Table 'a_1_20020408' already exists\")\n",
      "  \n",
      "C:\\Users\\Philip\\Anaconda3\\lib\\site-packages\\ipykernel_launcher.py:6: Warning: (1050, \"Table 'a_1_20020409' already exists\")\n",
      "  \n",
      "C:\\Users\\Philip\\Anaconda3\\lib\\site-packages\\ipykernel_launcher.py:6: Warning: (1050, \"Table 'a_1_20020410' already exists\")\n",
      "  \n",
      "C:\\Users\\Philip\\Anaconda3\\lib\\site-packages\\ipykernel_launcher.py:6: Warning: (1050, \"Table 'a_1_20020411' already exists\")\n",
      "  \n",
      "C:\\Users\\Philip\\Anaconda3\\lib\\site-packages\\ipykernel_launcher.py:6: Warning: (1050, \"Table 'a_1_20020412' already exists\")\n",
      "  \n"
     ]
    },
    {
     "name": "stdout",
     "output_type": "stream",
     "text": [
      "[Errno 2] No such file or directory: '../各交易所期貨持倉量/大商所/大豆1号/20020413.csv'\n",
      "[Errno 2] No such file or directory: '../各交易所期貨持倉量/大商所/大豆1号/20020414.csv'\n"
     ]
    },
    {
     "name": "stderr",
     "output_type": "stream",
     "text": [
      "C:\\Users\\Philip\\Anaconda3\\lib\\site-packages\\ipykernel_launcher.py:6: Warning: (1050, \"Table 'a_1_20020415' already exists\")\n",
      "  \n",
      "C:\\Users\\Philip\\Anaconda3\\lib\\site-packages\\ipykernel_launcher.py:6: Warning: (1050, \"Table 'a_1_20020416' already exists\")\n",
      "  \n",
      "C:\\Users\\Philip\\Anaconda3\\lib\\site-packages\\ipykernel_launcher.py:6: Warning: (1050, \"Table 'a_1_20020417' already exists\")\n",
      "  \n",
      "C:\\Users\\Philip\\Anaconda3\\lib\\site-packages\\ipykernel_launcher.py:6: Warning: (1050, \"Table 'a_1_20020418' already exists\")\n",
      "  \n",
      "C:\\Users\\Philip\\Anaconda3\\lib\\site-packages\\ipykernel_launcher.py:6: Warning: (1050, \"Table 'a_1_20020419' already exists\")\n",
      "  \n"
     ]
    },
    {
     "name": "stdout",
     "output_type": "stream",
     "text": [
      "[Errno 2] No such file or directory: '../各交易所期貨持倉量/大商所/大豆1号/20020420.csv'\n",
      "[Errno 2] No such file or directory: '../各交易所期貨持倉量/大商所/大豆1号/20020421.csv'\n"
     ]
    },
    {
     "name": "stderr",
     "output_type": "stream",
     "text": [
      "C:\\Users\\Philip\\Anaconda3\\lib\\site-packages\\ipykernel_launcher.py:6: Warning: (1050, \"Table 'a_1_20020422' already exists\")\n",
      "  \n",
      "C:\\Users\\Philip\\Anaconda3\\lib\\site-packages\\ipykernel_launcher.py:6: Warning: (1050, \"Table 'a_1_20020423' already exists\")\n",
      "  \n",
      "C:\\Users\\Philip\\Anaconda3\\lib\\site-packages\\ipykernel_launcher.py:6: Warning: (1050, \"Table 'a_1_20020424' already exists\")\n",
      "  \n",
      "C:\\Users\\Philip\\Anaconda3\\lib\\site-packages\\ipykernel_launcher.py:6: Warning: (1050, \"Table 'a_1_20020425' already exists\")\n",
      "  \n",
      "C:\\Users\\Philip\\Anaconda3\\lib\\site-packages\\ipykernel_launcher.py:6: Warning: (1050, \"Table 'a_1_20020426' already exists\")\n",
      "  \n"
     ]
    },
    {
     "name": "stdout",
     "output_type": "stream",
     "text": [
      "[Errno 2] No such file or directory: '../各交易所期貨持倉量/大商所/大豆1号/20020427.csv'\n",
      "[Errno 2] No such file or directory: '../各交易所期貨持倉量/大商所/大豆1号/20020428.csv'\n"
     ]
    },
    {
     "name": "stderr",
     "output_type": "stream",
     "text": [
      "C:\\Users\\Philip\\Anaconda3\\lib\\site-packages\\ipykernel_launcher.py:6: Warning: (1050, \"Table 'a_1_20020429' already exists\")\n",
      "  \n",
      "C:\\Users\\Philip\\Anaconda3\\lib\\site-packages\\ipykernel_launcher.py:6: Warning: (1050, \"Table 'a_1_20020430' already exists\")\n",
      "  \n"
     ]
    },
    {
     "name": "stdout",
     "output_type": "stream",
     "text": [
      "[Errno 2] No such file or directory: '../各交易所期貨持倉量/大商所/大豆1号/20020501.csv'\n",
      "[Errno 2] No such file or directory: '../各交易所期貨持倉量/大商所/大豆1号/20020502.csv'\n",
      "[Errno 2] No such file or directory: '../各交易所期貨持倉量/大商所/大豆1号/20020503.csv'\n",
      "[Errno 2] No such file or directory: '../各交易所期貨持倉量/大商所/大豆1号/20020504.csv'\n",
      "[Errno 2] No such file or directory: '../各交易所期貨持倉量/大商所/大豆1号/20020505.csv'\n",
      "[Errno 2] No such file or directory: '../各交易所期貨持倉量/大商所/大豆1号/20020506.csv'\n",
      "[Errno 2] No such file or directory: '../各交易所期貨持倉量/大商所/大豆1号/20020507.csv'\n"
     ]
    },
    {
     "name": "stderr",
     "output_type": "stream",
     "text": [
      "C:\\Users\\Philip\\Anaconda3\\lib\\site-packages\\ipykernel_launcher.py:6: Warning: (1050, \"Table 'a_1_20020508' already exists\")\n",
      "  \n",
      "C:\\Users\\Philip\\Anaconda3\\lib\\site-packages\\ipykernel_launcher.py:6: Warning: (1050, \"Table 'a_1_20020509' already exists\")\n",
      "  \n",
      "C:\\Users\\Philip\\Anaconda3\\lib\\site-packages\\ipykernel_launcher.py:6: Warning: (1050, \"Table 'a_1_20020510' already exists\")\n",
      "  \n"
     ]
    },
    {
     "name": "stdout",
     "output_type": "stream",
     "text": [
      "[Errno 2] No such file or directory: '../各交易所期貨持倉量/大商所/大豆1号/20020511.csv'\n",
      "[Errno 2] No such file or directory: '../各交易所期貨持倉量/大商所/大豆1号/20020512.csv'\n"
     ]
    },
    {
     "name": "stderr",
     "output_type": "stream",
     "text": [
      "C:\\Users\\Philip\\Anaconda3\\lib\\site-packages\\ipykernel_launcher.py:6: Warning: (1050, \"Table 'a_1_20020513' already exists\")\n",
      "  \n",
      "C:\\Users\\Philip\\Anaconda3\\lib\\site-packages\\ipykernel_launcher.py:6: Warning: (1050, \"Table 'a_1_20020514' already exists\")\n",
      "  \n",
      "C:\\Users\\Philip\\Anaconda3\\lib\\site-packages\\ipykernel_launcher.py:6: Warning: (1050, \"Table 'a_1_20020515' already exists\")\n",
      "  \n",
      "C:\\Users\\Philip\\Anaconda3\\lib\\site-packages\\ipykernel_launcher.py:6: Warning: (1050, \"Table 'a_1_20020516' already exists\")\n",
      "  \n",
      "C:\\Users\\Philip\\Anaconda3\\lib\\site-packages\\ipykernel_launcher.py:6: Warning: (1050, \"Table 'a_1_20020517' already exists\")\n",
      "  \n"
     ]
    },
    {
     "name": "stdout",
     "output_type": "stream",
     "text": [
      "[Errno 2] No such file or directory: '../各交易所期貨持倉量/大商所/大豆1号/20020518.csv'\n",
      "[Errno 2] No such file or directory: '../各交易所期貨持倉量/大商所/大豆1号/20020519.csv'\n"
     ]
    },
    {
     "name": "stderr",
     "output_type": "stream",
     "text": [
      "C:\\Users\\Philip\\Anaconda3\\lib\\site-packages\\ipykernel_launcher.py:6: Warning: (1050, \"Table 'a_1_20020520' already exists\")\n",
      "  \n",
      "C:\\Users\\Philip\\Anaconda3\\lib\\site-packages\\ipykernel_launcher.py:6: Warning: (1050, \"Table 'a_1_20020521' already exists\")\n",
      "  \n",
      "C:\\Users\\Philip\\Anaconda3\\lib\\site-packages\\ipykernel_launcher.py:6: Warning: (1050, \"Table 'a_1_20020522' already exists\")\n",
      "  \n",
      "C:\\Users\\Philip\\Anaconda3\\lib\\site-packages\\ipykernel_launcher.py:6: Warning: (1050, \"Table 'a_1_20020523' already exists\")\n",
      "  \n",
      "C:\\Users\\Philip\\Anaconda3\\lib\\site-packages\\ipykernel_launcher.py:6: Warning: (1050, \"Table 'a_1_20020524' already exists\")\n",
      "  \n"
     ]
    },
    {
     "name": "stdout",
     "output_type": "stream",
     "text": [
      "[Errno 2] No such file or directory: '../各交易所期貨持倉量/大商所/大豆1号/20020525.csv'\n",
      "[Errno 2] No such file or directory: '../各交易所期貨持倉量/大商所/大豆1号/20020526.csv'\n"
     ]
    },
    {
     "name": "stderr",
     "output_type": "stream",
     "text": [
      "C:\\Users\\Philip\\Anaconda3\\lib\\site-packages\\ipykernel_launcher.py:6: Warning: (1050, \"Table 'a_1_20020527' already exists\")\n",
      "  \n",
      "C:\\Users\\Philip\\Anaconda3\\lib\\site-packages\\ipykernel_launcher.py:6: Warning: (1050, \"Table 'a_1_20020528' already exists\")\n",
      "  \n",
      "C:\\Users\\Philip\\Anaconda3\\lib\\site-packages\\ipykernel_launcher.py:6: Warning: (1050, \"Table 'a_1_20020529' already exists\")\n",
      "  \n",
      "C:\\Users\\Philip\\Anaconda3\\lib\\site-packages\\ipykernel_launcher.py:6: Warning: (1050, \"Table 'a_1_20020530' already exists\")\n",
      "  \n",
      "C:\\Users\\Philip\\Anaconda3\\lib\\site-packages\\ipykernel_launcher.py:6: Warning: (1050, \"Table 'a_1_20020531' already exists\")\n",
      "  \n"
     ]
    },
    {
     "name": "stdout",
     "output_type": "stream",
     "text": [
      "[Errno 2] No such file or directory: '../各交易所期貨持倉量/大商所/大豆1号/20020601.csv'\n",
      "[Errno 2] No such file or directory: '../各交易所期貨持倉量/大商所/大豆1号/20020602.csv'\n"
     ]
    },
    {
     "ename": "KeyboardInterrupt",
     "evalue": "",
     "output_type": "error",
     "traceback": [
      "\u001b[1;31m---------------------------------------------------------------------------\u001b[0m",
      "\u001b[1;31mKeyboardInterrupt\u001b[0m                         Traceback (most recent call last)",
      "\u001b[1;32m<ipython-input-86-02b6655cab9c>\u001b[0m in \u001b[0;36m<module>\u001b[1;34m()\u001b[0m\n\u001b[0;32m     31\u001b[0m     \u001b[1;32mfor\u001b[0m \u001b[0mi\u001b[0m \u001b[1;32min\u001b[0m \u001b[0mrange\u001b[0m\u001b[1;33m(\u001b[0m\u001b[1;36m3\u001b[0m\u001b[1;33m,\u001b[0m\u001b[0mlen\u001b[0m\u001b[1;33m(\u001b[0m\u001b[0mdata\u001b[0m\u001b[1;33m)\u001b[0m\u001b[1;33m-\u001b[0m\u001b[1;36m1\u001b[0m\u001b[1;33m)\u001b[0m\u001b[1;33m:\u001b[0m\u001b[1;33m\u001b[0m\u001b[0m\n\u001b[0;32m     32\u001b[0m         \u001b[1;32mfor\u001b[0m \u001b[0mj\u001b[0m \u001b[1;32min\u001b[0m \u001b[0mrange\u001b[0m\u001b[1;33m(\u001b[0m\u001b[1;36m12\u001b[0m\u001b[1;33m)\u001b[0m\u001b[1;33m:\u001b[0m\u001b[1;33m\u001b[0m\u001b[0m\n\u001b[1;32m---> 33\u001b[1;33m             \u001b[1;32mif\u001b[0m\u001b[1;33m(\u001b[0m\u001b[0mdata\u001b[0m\u001b[1;33m.\u001b[0m\u001b[0mloc\u001b[0m\u001b[1;33m[\u001b[0m\u001b[0mi\u001b[0m\u001b[1;33m]\u001b[0m\u001b[1;33m[\u001b[0m\u001b[0mj\u001b[0m\u001b[1;33m]\u001b[0m \u001b[1;33m==\u001b[0m \u001b[1;34m\"-\"\u001b[0m\u001b[1;33m)\u001b[0m\u001b[1;33m:\u001b[0m\u001b[1;33m\u001b[0m\u001b[0m\n\u001b[0m\u001b[0;32m     34\u001b[0m                 \u001b[0mdata\u001b[0m\u001b[1;33m.\u001b[0m\u001b[0mloc\u001b[0m\u001b[1;33m[\u001b[0m\u001b[0mi\u001b[0m\u001b[1;33m]\u001b[0m\u001b[1;33m[\u001b[0m\u001b[0mj\u001b[0m\u001b[1;33m]\u001b[0m \u001b[1;33m=\u001b[0m \u001b[1;32mNone\u001b[0m\u001b[1;33m\u001b[0m\u001b[0m\n\u001b[0;32m     35\u001b[0m             \u001b[1;32melif\u001b[0m\u001b[1;33m(\u001b[0m \u001b[1;33m(\u001b[0m\u001b[0mj\u001b[0m\u001b[1;33m==\u001b[0m\u001b[1;36m2\u001b[0m \u001b[1;32mor\u001b[0m \u001b[0mj\u001b[0m\u001b[1;33m==\u001b[0m\u001b[1;36m3\u001b[0m \u001b[1;32mor\u001b[0m \u001b[0mj\u001b[0m\u001b[1;33m==\u001b[0m\u001b[1;36m6\u001b[0m \u001b[1;32mor\u001b[0m \u001b[0mj\u001b[0m\u001b[1;33m==\u001b[0m\u001b[1;36m7\u001b[0m \u001b[1;32mor\u001b[0m \u001b[0mj\u001b[0m\u001b[1;33m==\u001b[0m\u001b[1;36m10\u001b[0m \u001b[1;32mor\u001b[0m \u001b[0mj\u001b[0m\u001b[1;33m==\u001b[0m\u001b[1;36m11\u001b[0m\u001b[1;33m)\u001b[0m \u001b[1;32mand\u001b[0m \u001b[0mdata\u001b[0m\u001b[1;33m.\u001b[0m\u001b[0mloc\u001b[0m\u001b[1;33m[\u001b[0m\u001b[0mi\u001b[0m\u001b[1;33m]\u001b[0m\u001b[1;33m[\u001b[0m\u001b[0mj\u001b[0m\u001b[1;33m]\u001b[0m \u001b[1;33m!=\u001b[0m \u001b[1;34m\"NULL\"\u001b[0m\u001b[1;33m)\u001b[0m\u001b[1;33m:\u001b[0m\u001b[1;33m\u001b[0m\u001b[0m\n",
      "\u001b[1;32m~\\Anaconda3\\lib\\site-packages\\pandas\\core\\indexing.py\u001b[0m in \u001b[0;36m__getitem__\u001b[1;34m(self, key)\u001b[0m\n\u001b[0;32m   1326\u001b[0m         \u001b[1;32melse\u001b[0m\u001b[1;33m:\u001b[0m\u001b[1;33m\u001b[0m\u001b[0m\n\u001b[0;32m   1327\u001b[0m             \u001b[0mkey\u001b[0m \u001b[1;33m=\u001b[0m \u001b[0mcom\u001b[0m\u001b[1;33m.\u001b[0m\u001b[0m_apply_if_callable\u001b[0m\u001b[1;33m(\u001b[0m\u001b[0mkey\u001b[0m\u001b[1;33m,\u001b[0m \u001b[0mself\u001b[0m\u001b[1;33m.\u001b[0m\u001b[0mobj\u001b[0m\u001b[1;33m)\u001b[0m\u001b[1;33m\u001b[0m\u001b[0m\n\u001b[1;32m-> 1328\u001b[1;33m             \u001b[1;32mreturn\u001b[0m \u001b[0mself\u001b[0m\u001b[1;33m.\u001b[0m\u001b[0m_getitem_axis\u001b[0m\u001b[1;33m(\u001b[0m\u001b[0mkey\u001b[0m\u001b[1;33m,\u001b[0m \u001b[0maxis\u001b[0m\u001b[1;33m=\u001b[0m\u001b[1;36m0\u001b[0m\u001b[1;33m)\u001b[0m\u001b[1;33m\u001b[0m\u001b[0m\n\u001b[0m\u001b[0;32m   1329\u001b[0m \u001b[1;33m\u001b[0m\u001b[0m\n\u001b[0;32m   1330\u001b[0m     \u001b[1;32mdef\u001b[0m \u001b[0m_is_scalar_access\u001b[0m\u001b[1;33m(\u001b[0m\u001b[0mself\u001b[0m\u001b[1;33m,\u001b[0m \u001b[0mkey\u001b[0m\u001b[1;33m)\u001b[0m\u001b[1;33m:\u001b[0m\u001b[1;33m\u001b[0m\u001b[0m\n",
      "\u001b[1;32m~\\Anaconda3\\lib\\site-packages\\pandas\\core\\indexing.py\u001b[0m in \u001b[0;36m_getitem_axis\u001b[1;34m(self, key, axis)\u001b[0m\n\u001b[0;32m   1550\u001b[0m         \u001b[1;31m# fall thru to straight lookup\u001b[0m\u001b[1;33m\u001b[0m\u001b[1;33m\u001b[0m\u001b[0m\n\u001b[0;32m   1551\u001b[0m         \u001b[0mself\u001b[0m\u001b[1;33m.\u001b[0m\u001b[0m_has_valid_type\u001b[0m\u001b[1;33m(\u001b[0m\u001b[0mkey\u001b[0m\u001b[1;33m,\u001b[0m \u001b[0maxis\u001b[0m\u001b[1;33m)\u001b[0m\u001b[1;33m\u001b[0m\u001b[0m\n\u001b[1;32m-> 1552\u001b[1;33m         \u001b[1;32mreturn\u001b[0m \u001b[0mself\u001b[0m\u001b[1;33m.\u001b[0m\u001b[0m_get_label\u001b[0m\u001b[1;33m(\u001b[0m\u001b[0mkey\u001b[0m\u001b[1;33m,\u001b[0m \u001b[0maxis\u001b[0m\u001b[1;33m=\u001b[0m\u001b[0maxis\u001b[0m\u001b[1;33m)\u001b[0m\u001b[1;33m\u001b[0m\u001b[0m\n\u001b[0m\u001b[0;32m   1553\u001b[0m \u001b[1;33m\u001b[0m\u001b[0m\n\u001b[0;32m   1554\u001b[0m \u001b[1;33m\u001b[0m\u001b[0m\n",
      "\u001b[1;32m~\\Anaconda3\\lib\\site-packages\\pandas\\core\\indexing.py\u001b[0m in \u001b[0;36m_get_label\u001b[1;34m(self, label, axis)\u001b[0m\n\u001b[0;32m    134\u001b[0m             \u001b[1;32mraise\u001b[0m \u001b[0mIndexingError\u001b[0m\u001b[1;33m(\u001b[0m\u001b[1;34m'no slices here, handle elsewhere'\u001b[0m\u001b[1;33m)\u001b[0m\u001b[1;33m\u001b[0m\u001b[0m\n\u001b[0;32m    135\u001b[0m \u001b[1;33m\u001b[0m\u001b[0m\n\u001b[1;32m--> 136\u001b[1;33m         \u001b[1;32mreturn\u001b[0m \u001b[0mself\u001b[0m\u001b[1;33m.\u001b[0m\u001b[0mobj\u001b[0m\u001b[1;33m.\u001b[0m\u001b[0m_xs\u001b[0m\u001b[1;33m(\u001b[0m\u001b[0mlabel\u001b[0m\u001b[1;33m,\u001b[0m \u001b[0maxis\u001b[0m\u001b[1;33m=\u001b[0m\u001b[0maxis\u001b[0m\u001b[1;33m)\u001b[0m\u001b[1;33m\u001b[0m\u001b[0m\n\u001b[0m\u001b[0;32m    137\u001b[0m \u001b[1;33m\u001b[0m\u001b[0m\n\u001b[0;32m    138\u001b[0m     \u001b[1;32mdef\u001b[0m \u001b[0m_get_loc\u001b[0m\u001b[1;33m(\u001b[0m\u001b[0mself\u001b[0m\u001b[1;33m,\u001b[0m \u001b[0mkey\u001b[0m\u001b[1;33m,\u001b[0m \u001b[0maxis\u001b[0m\u001b[1;33m=\u001b[0m\u001b[1;36m0\u001b[0m\u001b[1;33m)\u001b[0m\u001b[1;33m:\u001b[0m\u001b[1;33m\u001b[0m\u001b[0m\n",
      "\u001b[1;32m~\\Anaconda3\\lib\\site-packages\\pandas\\core\\generic.py\u001b[0m in \u001b[0;36mxs\u001b[1;34m(self, key, axis, level, drop_level)\u001b[0m\n\u001b[0;32m   2055\u001b[0m             result = self._constructor_sliced(\n\u001b[0;32m   2056\u001b[0m                 \u001b[0mnew_values\u001b[0m\u001b[1;33m,\u001b[0m \u001b[0mindex\u001b[0m\u001b[1;33m=\u001b[0m\u001b[0mself\u001b[0m\u001b[1;33m.\u001b[0m\u001b[0mcolumns\u001b[0m\u001b[1;33m,\u001b[0m\u001b[1;33m\u001b[0m\u001b[0m\n\u001b[1;32m-> 2057\u001b[1;33m                 name=self.index[loc], dtype=new_values.dtype)\n\u001b[0m\u001b[0;32m   2058\u001b[0m \u001b[1;33m\u001b[0m\u001b[0m\n\u001b[0;32m   2059\u001b[0m         \u001b[1;32melse\u001b[0m\u001b[1;33m:\u001b[0m\u001b[1;33m\u001b[0m\u001b[0m\n",
      "\u001b[1;32m~\\Anaconda3\\lib\\site-packages\\pandas\\core\\series.py\u001b[0m in \u001b[0;36m__init__\u001b[1;34m(self, data, index, dtype, name, copy, fastpath)\u001b[0m\n\u001b[0;32m    246\u001b[0m             \u001b[1;32melse\u001b[0m\u001b[1;33m:\u001b[0m\u001b[1;33m\u001b[0m\u001b[0m\n\u001b[0;32m    247\u001b[0m                 data = _sanitize_array(data, index, dtype, copy,\n\u001b[1;32m--> 248\u001b[1;33m                                        raise_cast_failure=True)\n\u001b[0m\u001b[0;32m    249\u001b[0m \u001b[1;33m\u001b[0m\u001b[0m\n\u001b[0;32m    250\u001b[0m                 \u001b[0mdata\u001b[0m \u001b[1;33m=\u001b[0m \u001b[0mSingleBlockManager\u001b[0m\u001b[1;33m(\u001b[0m\u001b[0mdata\u001b[0m\u001b[1;33m,\u001b[0m \u001b[0mindex\u001b[0m\u001b[1;33m,\u001b[0m \u001b[0mfastpath\u001b[0m\u001b[1;33m=\u001b[0m\u001b[1;32mTrue\u001b[0m\u001b[1;33m)\u001b[0m\u001b[1;33m\u001b[0m\u001b[0m\n",
      "\u001b[1;32m~\\Anaconda3\\lib\\site-packages\\pandas\\core\\series.py\u001b[0m in \u001b[0;36m_sanitize_array\u001b[1;34m(data, index, dtype, copy, raise_cast_failure)\u001b[0m\n\u001b[0;32m   2936\u001b[0m \u001b[1;33m\u001b[0m\u001b[0m\n\u001b[0;32m   2937\u001b[0m             \u001b[1;31m# possibility of nan -> garbage\u001b[0m\u001b[1;33m\u001b[0m\u001b[1;33m\u001b[0m\u001b[0m\n\u001b[1;32m-> 2938\u001b[1;33m             \u001b[1;32mif\u001b[0m \u001b[0mis_float_dtype\u001b[0m\u001b[1;33m(\u001b[0m\u001b[0mdata\u001b[0m\u001b[1;33m.\u001b[0m\u001b[0mdtype\u001b[0m\u001b[1;33m)\u001b[0m \u001b[1;32mand\u001b[0m \u001b[0mis_integer_dtype\u001b[0m\u001b[1;33m(\u001b[0m\u001b[0mdtype\u001b[0m\u001b[1;33m)\u001b[0m\u001b[1;33m:\u001b[0m\u001b[1;33m\u001b[0m\u001b[0m\n\u001b[0m\u001b[0;32m   2939\u001b[0m                 \u001b[1;32mif\u001b[0m \u001b[1;32mnot\u001b[0m \u001b[0misnull\u001b[0m\u001b[1;33m(\u001b[0m\u001b[0mdata\u001b[0m\u001b[1;33m)\u001b[0m\u001b[1;33m.\u001b[0m\u001b[0many\u001b[0m\u001b[1;33m(\u001b[0m\u001b[1;33m)\u001b[0m\u001b[1;33m:\u001b[0m\u001b[1;33m\u001b[0m\u001b[0m\n\u001b[0;32m   2940\u001b[0m                     \u001b[0msubarr\u001b[0m \u001b[1;33m=\u001b[0m \u001b[0m_try_cast\u001b[0m\u001b[1;33m(\u001b[0m\u001b[0mdata\u001b[0m\u001b[1;33m,\u001b[0m \u001b[1;32mTrue\u001b[0m\u001b[1;33m)\u001b[0m\u001b[1;33m\u001b[0m\u001b[0m\n",
      "\u001b[1;31mKeyboardInterrupt\u001b[0m: "
     ]
    }
   ],
   "source": [
    "now_date = datetime.datetime(2002,3,15)\n",
    "end_date = datetime.datetime(2017,11,29)\n",
    "\n",
    "databaseName1 = 'a_1_oi_data'\n",
    "databaseName2 = 'a_1_oi_original_data'\n",
    "code = 'a_1'\n",
    "\n",
    "cursor = db.cursor()\n",
    "\n",
    "sql = \"CREATE DATABASE IF NOT EXISTS \" + databaseName1\n",
    "cursor.execute(sql)\n",
    "\n",
    "sql = \"CREATE DATABASE IF NOT EXISTS \" + databaseName2\n",
    "cursor.execute(sql)\n",
    "\n",
    "\n",
    "create_futures_member(databaseName1)\n",
    "create_non_futures_member(databaseName1)\n",
    "create_total_volume(databaseName1)\n",
    "\n",
    "while now_date <= end_date:\n",
    "    split_date = now_date.strftime('%Y-%m-%d').split('-')\n",
    "    table_date = split_date[0]+split_date[1]+split_date[2]\n",
    "    try:\n",
    "        data = pd.read_csv('../各交易所期貨持倉量/大商所/大豆1号/'+table_date+'.csv',encoding='gbk',engine='python')\n",
    "    except Exception as e:\n",
    "        now_date = now_date + datetime.timedelta(days = 1)\n",
    "        print (e)\n",
    "        continue\n",
    "        \n",
    "    for i in range(3,len(data)-1):\n",
    "        for j in range(12):\n",
    "            if(data.loc[i][j] == \"-\"):\n",
    "                data.loc[i][j] = None                \n",
    "            elif( (j==2 or j==3 or j==6 or j==7 or j==10 or j==11) and data.loc[i][j] != \"NULL\"):\n",
    "                data.loc[i][j] = data.loc[i][j].replace(',','')\n",
    "  \n",
    "    tmp = now_date\n",
    "\n",
    "    total_insert(data,table_date,databaseName2,code)\n",
    "    futures_member_insert(data,table_date,databaseName1)\n",
    "    non_futures_member_insert(data,table_date,databaseName1)\n",
    "    total_volume_insert(data,table_date,databaseName1)\n",
    "        \n",
    "    #V_info_insert(data,table_date,databaseName)\n",
    "    #B_info_insert(data,table_date,databaseName)\n",
    "    #S_info_insert(data,table_date,databaseName)\n",
    "    \n",
    "    now_date = now_date + datetime.timedelta(days = 1)\n"
   ]
  },
  {
   "cell_type": "code",
   "execution_count": 19,
   "metadata": {
    "collapsed": true,
    "scrolled": true
   },
   "outputs": [],
   "source": [
    "def total_insert(data,table_date,databaseName,code):       \n",
    "    cursor = db.cursor()\n",
    "    \n",
    "    sql = \"CREATE TABLE IF NOT EXISTS \" + databaseName + \".\" + code + \"_\" + table_date+ \"(\\\n",
    "    Rank INT(5),\\\n",
    "    Member CHAR(10),\\\n",
    "    Volume FLOAT(5),\\\n",
    "    Increment FLOAT(5),\\\n",
    "    Rank_1 INT(5),\\\n",
    "    Member1 CHAR(10),\\\n",
    "    Buy_Volume FLOAT(5),\\\n",
    "    Increment_1 FLOAT(5),\\\n",
    "    Rank_2 INT(5),\\\n",
    "    Member2 CHAR(10),\\\n",
    "    Sales_Volume FLOAT(5),\\\n",
    "    Increment_2 FLOAT(5) )\"\n",
    "\n",
    "    cursor.execute(sql)\n",
    "    value=[]\n",
    "\n",
    "    for i in range(3,len(data)-1):      \n",
    "        value.append((data.loc[i][0],data.loc[i][1],data.loc[i][2],data.loc[i][3],data.loc[i][4],data.loc[i][5],data.loc[i][6],data.loc[i][7],data.loc[i][8],data.loc[i][9],data.loc[i][10],data.loc[i][11]))\n",
    "\n",
    "    sql = \"INSERT INTO \" + databaseName + \".\" + code + \"_\" + table_date +\" VALUES(%s,%s,%s,%s,%s,%s,%s,%s,%s,%s,%s,%s)\"        \n",
    "    cursor.executemany(sql,value)\n",
    "    db.commit()\n",
    "    cursor.close()"
   ]
  },
  {
   "cell_type": "markdown",
   "metadata": {},
   "source": [
    "# 期貨公司成員輸入"
   ]
  },
  {
   "cell_type": "code",
   "execution_count": 11,
   "metadata": {
    "collapsed": true
   },
   "outputs": [],
   "source": [
    "def create_futures_member(databaseName):\n",
    "    cursor = db.cursor()\n",
    "    sql = \"CREATE TABLE IF NOT EXISTS \" + databaseName + \".futures_member (\\\n",
    "    Date DATE PRIMARY KEY,\\\n",
    "    Total_volume FLOAT(5),\\\n",
    "    Increment FLOAT(5),\\\n",
    "    Total_buy_volume FLOAT(5),\\\n",
    "    Increment_1 FLOAT(5),\\\n",
    "    Total_sales_volume FLOAT(5),\\\n",
    "    Increment_2 FLOAT(5) ) \"\n",
    "\n",
    "    cursor.execute(sql)"
   ]
  },
  {
   "cell_type": "code",
   "execution_count": 32,
   "metadata": {
    "collapsed": true
   },
   "outputs": [],
   "source": [
    "def futures_member_insert(data,table_date,databaseName):\n",
    "    cursor = db.cursor()\n",
    "    \n",
    "    sql = \"INSERT INTO \" + databaseName + \".futures_member VALUES( \"\\\n",
    "    + table_date +\",\"\\\n",
    "    + data.loc[0][1].replace(',','') +\",\"\\\n",
    "    + data.loc[0][2].replace(',','') +\",\"\\\n",
    "    + data.loc[0][3].replace(',','') +\",\"\\\n",
    "    + data.loc[0][4].replace(',','') +\",\"\\\n",
    "    + data.loc[0][5].replace(',','') +\",\"\\\n",
    "    + data.loc[0][6].replace(',','') + \")\"\n",
    "\n",
    "    cursor.execute(sql)\n",
    "    db.commit()\n",
    "    cursor.close()"
   ]
  },
  {
   "cell_type": "markdown",
   "metadata": {},
   "source": [
    "# 非期貨公司成員輸入"
   ]
  },
  {
   "cell_type": "code",
   "execution_count": 12,
   "metadata": {
    "collapsed": true
   },
   "outputs": [],
   "source": [
    "def create_non_futures_member(databaseName):\n",
    "    cursor = db.cursor()\n",
    "    sql = \"CREATE TABLE IF NOT EXISTS \" + databaseName + \".none_futures_member (\\\n",
    "    Date DATE PRIMARY KEY,\\\n",
    "    Total_volume FLOAT(5),\\\n",
    "    Increment FLOAT(5),\\\n",
    "    Total_buy_volume FLOAT(5),\\\n",
    "    Increment_1 FLOAT(5),\\\n",
    "    Total_sales_volume FLOAT(5),\\\n",
    "    Increment_2 FLOAT(5) ) \"\n",
    "\n",
    "    cursor.execute(sql)"
   ]
  },
  {
   "cell_type": "code",
   "execution_count": 7,
   "metadata": {
    "collapsed": true
   },
   "outputs": [],
   "source": [
    "def non_futures_member_insert(data,table_date,databaseName):\n",
    "    cursor = db.cursor()\n",
    "    sql = \"INSERT INTO \" + databaseName +\".none_futures_member VALUES(\"\\\n",
    "    + table_date + \",\"\\\n",
    "    + data.loc[1][1].replace(',','') +\",\"\\\n",
    "    + data.loc[1][2].replace(',','') +\",\"\\\n",
    "    + data.loc[1][3].replace(',','') +\",\"\\\n",
    "    + data.loc[1][4].replace(',','') +\",\"\\\n",
    "    + data.loc[1][5].replace(',','') +\",\"\\\n",
    "    + data.loc[1][6].replace(',','') + \")\"\n",
    "\n",
    "    cursor.execute(sql)\n",
    "    db.commit()\n",
    "    cursor.close()"
   ]
  },
  {
   "cell_type": "markdown",
   "metadata": {},
   "source": [
    "# 總計"
   ]
  },
  {
   "cell_type": "code",
   "execution_count": 13,
   "metadata": {
    "collapsed": true
   },
   "outputs": [],
   "source": [
    "def create_total_volume(databaseName):\n",
    "    cursor = db.cursor()\n",
    "    sql = \"CREATE TABLE IF NOT EXISTS \" + databaseName +\".total_volume ( Date DATE PRIMARY KEY, \\\n",
    "    V_Valume FLOAT(5),V_Increment FLOAT(5),\\\n",
    "    B_Valume FLOAT(5),B_Increment FLOAT(5),\\\n",
    "    S_Valume FLOAT(5),S_Increment FLOAT(5))\"\n",
    "\n",
    "    cursor.execute(sql)"
   ]
  },
  {
   "cell_type": "code",
   "execution_count": 9,
   "metadata": {
    "collapsed": true
   },
   "outputs": [],
   "source": [
    "def total_volume_insert(data,table_date,databaseName):\n",
    "    cursor = db.cursor()\n",
    "    total_len = len(data)-1\n",
    "    sql = \"INSERT INTO \" + databaseName + \".total_volume VALUES(\"\\\n",
    "    + table_date + \",\"\\\n",
    "    + data.loc[total_len][2].replace(',','') +\",\"\\\n",
    "    + data.loc[total_len][3].replace(',','') +\",\"\\\n",
    "    + data.loc[total_len][6].replace(',','') +\",\"\\\n",
    "    + data.loc[total_len][7].replace(',','') +\",\"\\\n",
    "    + data.loc[total_len][10].replace(',','') +\",\"\\\n",
    "    + data.loc[total_len][11].replace(',','') + \")\"\n",
    "\n",
    "    cursor.execute(sql)\n",
    "    db.commit()"
   ]
  },
  {
   "cell_type": "markdown",
   "metadata": {},
   "source": [
    "# 各公司資訊"
   ]
  },
  {
   "cell_type": "markdown",
   "metadata": {},
   "source": [
    "## V名次、成交量、增減"
   ]
  },
  {
   "cell_type": "code",
   "execution_count": 45,
   "metadata": {
    "collapsed": true
   },
   "outputs": [],
   "source": [
    "def V_info_create():\n",
    "    cursor = db.cursor()\n",
    "    name=\"\"\n",
    "    for i in range(len(company_order)-1):\n",
    "        name = name + company_order.loc[i][0] + ' CHAR(10),'\n",
    "    name = name + company_order.loc[len(company_order)-1][0] + \" CHAR(10)\"\n",
    "\n",
    "    sql = \"CREATE TABLE IF NOT EXISTS \" + databaseName +\".v_rank ( Date DATE PRIMARY KEY, \" + name + \")\"\n",
    "    cursor.execute(sql)\n",
    "\n",
    "    sql = \"CREATE TABLE IF NOT EXISTS \" + databaseName + \".v_volume ( Date DATE PRIMARY KEY, \" + name + \")\"\n",
    "    cursor.execute(sql)\n",
    "\n",
    "    sql = \"CREATE TABLE IF NOT EXISTS \" + databaseName + \".v_increment ( Date DATE PRIMARY KEY, \" + name + \")\"\n",
    "    cursor.execute(sql)\n",
    "    cursor.close()"
   ]
  },
  {
   "cell_type": "code",
   "execution_count": 72,
   "metadata": {
    "collapsed": true
   },
   "outputs": [],
   "source": [
    "def V_info_insert(data,table_date,databaseName):\n",
    "    cursor = db.cursor()\n",
    "    \n",
    "    empty = \"\"\n",
    "    empty = empty + table_date\n",
    "\n",
    "\n",
    "    sql = \"INSERT INTO \" + databaseName + \".v_rank (Date) VALUES (\" + empty + \")\"\n",
    "    cursor.execute(sql)\n",
    "    db.commit()\n",
    "\n",
    "    sql = \"INSERT INTO \" + databaseName + \".v_volume (Date) VALUES (\" + empty + \")\"\n",
    "    cursor.execute(sql)\n",
    "    db.commit()\n",
    "\n",
    "    sql = \"INSERT INTO \" + databaseName + \".v_increment (Date) VALUES (\" + empty + \")\"\n",
    "    cursor.execute(sql)\n",
    "    db.commit()\n",
    "    \n",
    "    for i in range(3,len(data)-1):\n",
    "        if(data.loc[i][1] == 'NULL'):\n",
    "            continue\n",
    "        \n",
    "        else:\n",
    "            sql = \"UPDATE \" + databaseName + \".v_rank SET \" + str(data.loc[i][1]) + \"=\" + data.loc[i][0] + \" WHERE Date=\" + table_date\n",
    "            cursor.execute(sql)\n",
    "            db.commit()    \n",
    "\n",
    "    for i in range(3,len(data)-1):\n",
    "        if(data.loc[i][1] == 'NULL'):\n",
    "            continue\n",
    "            \n",
    "        else:\n",
    "            sql = \"UPDATE \" + databaseName + \".v_volume SET \" + str(data.loc[i][1]) + \"=\" + data.loc[i][2] + \" WHERE Date=\" + table_date\n",
    "            cursor.execute(sql)\n",
    "            db.commit()\n",
    "\n",
    "    for i in range(3,len(data)-1):\n",
    "        if(data.loc[i][1] == 'NULL'):\n",
    "            continue\n",
    "            \n",
    "        else:\n",
    "            sql = \"UPDATE \" + databaseName + \".v_increment SET \" + data.loc[i][1] + \"=\" + data.loc[i][3] + \" WHERE Date=\" + table_date\n",
    "            cursor.execute(sql)\n",
    "            db.commit()\n",
    "    \n",
    "    cursor.close()"
   ]
  },
  {
   "cell_type": "markdown",
   "metadata": {},
   "source": [
    "## B名次、買單量、增減"
   ]
  },
  {
   "cell_type": "code",
   "execution_count": 198,
   "metadata": {},
   "outputs": [
    {
     "data": {
      "text/plain": [
       "0"
      ]
     },
     "execution_count": 198,
     "metadata": {},
     "output_type": "execute_result"
    }
   ],
   "source": [
    "def B_info_create():\n",
    "    name=\"\"\n",
    "    for i in range(len(company_order)-1):\n",
    "        name = name + company_order.loc[i][0] + ' CHAR(10),'\n",
    "    name = name + company_order.loc[len(company_order)-1][0] + \" CHAR(10)\"\n",
    "\n",
    "    sql = \"CREATE TABLE IF NOT EXISTS \" + databaseName + \".b_rank ( Date DATE PRIMARY KEY, \" + name + \")\"\n",
    "    cursor.execute(sql)\n",
    "\n",
    "    sql = \"CREATE TABLE IF NOT EXISTS \" + databaseName + \".b_oi ( Date DATE PRIMARY KEY, \" + name + \")\"\n",
    "    cursor.execute(sql)\n",
    "\n",
    "    sql = \"CREATE TABLE IF NOT EXISTS \" + databaseName + \".b_increment ( Date DATE PRIMARY KEY, \" + name + \")\"\n",
    "    cursor.execute(sql)"
   ]
  },
  {
   "cell_type": "code",
   "execution_count": 199,
   "metadata": {
    "collapsed": true
   },
   "outputs": [],
   "source": [
    "def B_info_insert(data,table_date,list_date,databaseName)\n",
    "    name=\"\"\n",
    "\n",
    "    empty = \"\"\n",
    "    empty = empty + table_date \n",
    "    \n",
    "    sql = \"INSERT INTO \" + databaseName + \".b_rank (Date,\" + name + \") VALUES (\" + empty + \")\"\n",
    "    cursor.execute(sql)\n",
    "    db.commit()\n",
    "\n",
    "    sql = \"INSERT INTO \" + databaseName + \".b_oi (Date,\" + name + \") VALUES (\" + empty + \")\"\n",
    "    cursor.execute(sql)\n",
    "    db.commit()\n",
    "\n",
    "    sql = \"INSERT INTO \" + databaseName + \".b_increment (Date,\" + name + \") VALUES (\" + empty + \")\"\n",
    "    cursor.execute(sql)\n",
    "    db.commit()\n",
    "    \n",
    "    for i in range(3,len(data)-1):\n",
    "    if(data.loc[i][1] == \"NULL\"):\n",
    "        continue  \n",
    "        \n",
    "    sql = \"UPDATE \" + databaseName + \".b_rank SET \" + str(data.loc[i][5]) + \"=\" + data.loc[i][4] + \" WHERE Date='\" + list_date + \"'\"\n",
    "    cursor.execute(sql)\n",
    "    db.commit()    \n",
    "\n",
    "    for i in range(3,len(data)-1):\n",
    "        if(data.loc[i][5] == \"NULL\"):\n",
    "            continue\n",
    "        sql = \"UPDATE \" + databaseName + \".b_oi SET \" + str(data.loc[i][5]) + \"=\" + data.loc[i][6] + \" WHERE Date='\" + list_date + \"'\"\n",
    "        cursor.execute(sql)\n",
    "        db.commit()\n",
    "\n",
    "    for i in range(3,len(data)-1):\n",
    "        if(data.loc[i][9] == \"NULL\"):\n",
    "            continue\n",
    "        sql = \"UPDATE \" + databaseName + \".b_increment SET \" + data.loc[i][5] + \"=\" + data.loc[i][7] + \" WHERE Date='\" + list_date + \"'\"\n",
    "        cursor.execute(sql)\n",
    "        db.commit()\n",
    "\n",
    "    cursor.close()"
   ]
  },
  {
   "cell_type": "markdown",
   "metadata": {
    "scrolled": true
   },
   "source": [
    "## S名次、賣單量、增減"
   ]
  },
  {
   "cell_type": "code",
   "execution_count": 203,
   "metadata": {},
   "outputs": [
    {
     "data": {
      "text/plain": [
       "0"
      ]
     },
     "execution_count": 203,
     "metadata": {},
     "output_type": "execute_result"
    }
   ],
   "source": [
    "def S_info_create():\n",
    "    name=\"\"\n",
    "    for i in range(len(company_order)-1):\n",
    "        name = name + company_order.loc[i][0] + ' CHAR(10),'\n",
    "    name = name + company_order.loc[len(company_order)-1][0] + \" CHAR(10)\"\n",
    "\n",
    "    sql = \"CREATE TABLE IF NOT EXISTS \" + databaseName +\".s_rank ( Date DATE PRIMARY KEY, \" + name + \")\"\n",
    "    cursor.execute(sql)\n",
    "\n",
    "    sql = \"CREATE TABLE IF NOT EXISTS \" + databaseName + \".s_oi ( Date DATE PRIMARY KEY, \" + name + \")\"\n",
    "    cursor.execute(sql)\n",
    "\n",
    "    sql = \"CREATE TABLE IF NOT EXISTS \" + databaseName + \".s_increment ( Date DATE PRIMARY KEY, \" + name + \")\"\n",
    "    cursor.execute(sql)"
   ]
  },
  {
   "cell_type": "code",
   "execution_count": 204,
   "metadata": {
    "collapsed": true
   },
   "outputs": [],
   "source": [
    "def S_info_insert(data,table_date,list_date,databaseName):\n",
    "    name=\"\"\n",
    "    for i in range(len(company_order)-1):\n",
    "        name = name + company_order.loc[i][0] + ','\n",
    "    name = name + company_order.loc[len(company_order)-1][0]\n",
    "\n",
    "    empty = \"\"\n",
    "    empty = empty + table_date + \",\"\n",
    "    for i in range(len(company_order)-1):\n",
    "        empty = empty + \"NULL\" + ','\n",
    "    empty = empty + \"NULL\"\n",
    "    \n",
    "    sql = \"INSERT INTO \" + databaseName + \".s_rank (Date,\" + name + \") VALUES (\" + empty + \")\"\n",
    "    cursor.execute(sql)\n",
    "    db.commit()\n",
    "\n",
    "    sql = \"INSERT INTO \" + databaseName + \".s_oi (Date,\" + name + \") VALUES (\" + empty + \")\"\n",
    "    cursor.execute(sql)\n",
    "    db.commit()\n",
    "\n",
    "    sql = \"INSERT INTO \" + databaseName + \".s_increment (Date,\" + name + \") VALUES (\" + empty + \")\"\n",
    "    cursor.execute(sql)\n",
    "    db.commit()\n",
    "    \n",
    "    for i in range(3,len(data)-1):\n",
    "    if(data.loc[i][1] == \"NULL\"):\n",
    "        continue  \n",
    "        \n",
    "    sql = \"UPDATE \" + databaseName + \".s_rank SET \" + str(data.loc[i][1]) + \"=\" + data.loc[i][0] + \" WHERE Date='\" + list_date + \"'\"\n",
    "    cursor.execute(sql)\n",
    "    db.commit()    \n",
    "\n",
    "    for i in range(3,len(data)-1):\n",
    "        if(data.loc[i][5] == \"NULL\"):\n",
    "            continue\n",
    "        sql = \"UPDATE \" + databaseName + \".s_oi SET \" + str(data.loc[i][1]) + \"=\" + data.loc[i][2] + \" WHERE Date='\" + list_date + \"'\"\n",
    "        cursor.execute(sql)\n",
    "        db.commit()\n",
    "\n",
    "    for i in range(3,len(data)-1):\n",
    "        if(data.loc[i][9] == \"NULL\"):\n",
    "            continue\n",
    "        sql = \"UPDATE \" + databaseName +\".s_increment SET \" + data.loc[i][9] + \"=\" + data.loc[i][3] + \" WHERE Date='\" + list_date + \"'\"\n",
    "        cursor.execute(sql)\n",
    "        db.commit()\n",
    "\n",
    "    cursor.close()"
   ]
  }
 ],
 "metadata": {
  "kernelspec": {
   "display_name": "Python 3",
   "language": "python",
   "name": "python3"
  },
  "language_info": {
   "codemirror_mode": {
    "name": "ipython",
    "version": 3
   },
   "file_extension": ".py",
   "mimetype": "text/x-python",
   "name": "python",
   "nbconvert_exporter": "python",
   "pygments_lexer": "ipython3",
   "version": "3.6.3"
  }
 },
 "nbformat": 4,
 "nbformat_minor": 2
}
