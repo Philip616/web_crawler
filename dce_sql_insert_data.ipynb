{
 "cells": [
  {
   "cell_type": "code",
   "execution_count": 8,
   "metadata": {},
   "outputs": [],
   "source": [
    "import pandas as pd\n",
    "import numpy as np\n",
    "import MySQLdb\n",
    "import datetime"
   ]
  },
  {
   "cell_type": "code",
   "execution_count": 20,
   "metadata": {
    "collapsed": true
   },
   "outputs": [],
   "source": [
    "company_order = pd.read_csv('myTempCompanyAll20170915_004.csv',encoding='gbk',header=None,index_col=None)"
   ]
  },
  {
   "cell_type": "code",
   "execution_count": 35,
   "metadata": {},
   "outputs": [],
   "source": [
    "db = MySQLdb.connect(\"47.100.14.137\",\"hyps44413\",\"Nanhua\")\n",
    "db.set_character_set('gbk')"
   ]
  },
  {
   "cell_type": "code",
   "execution_count": 23,
   "metadata": {},
   "outputs": [],
   "source": [
    "db = MySQLdb.connect(\"localhost\",\"root\",\"123456\")\n",
    "db.set_character_set('gbk')"
   ]
  },
  {
   "cell_type": "code",
   "execution_count": 160,
   "metadata": {
    "collapsed": true
   },
   "outputs": [],
   "source": [
    "V_info_create()\n",
    "#B_info_create()\n",
    "#S_info_create()"
   ]
  },
  {
   "cell_type": "code",
   "execution_count": 21,
   "metadata": {},
   "outputs": [],
   "source": [
    "db.close()"
   ]
  },
  {
   "cell_type": "code",
   "execution_count": 36,
   "metadata": {
    "scrolled": true
   },
   "outputs": [
    {
     "name": "stdout",
     "output_type": "stream",
     "text": [
      "[Errno 2] No such file or directory: '../各交易所期貨持倉量/大商所/pp/20171202.csv'\n",
      "[Errno 2] No such file or directory: '../各交易所期貨持倉量/大商所/pp/20171203.csv'\n",
      "[Errno 2] No such file or directory: '../各交易所期貨持倉量/大商所/pp/20171209.csv'\n",
      "[Errno 2] No such file or directory: '../各交易所期貨持倉量/大商所/pp/20171210.csv'\n",
      "[Errno 2] No such file or directory: '../各交易所期貨持倉量/大商所/pp/20171216.csv'\n",
      "[Errno 2] No such file or directory: '../各交易所期貨持倉量/大商所/pp/20171217.csv'\n",
      "[Errno 2] No such file or directory: '../各交易所期貨持倉量/大商所/pp/20171223.csv'\n",
      "[Errno 2] No such file or directory: '../各交易所期貨持倉量/大商所/pp/20171224.csv'\n",
      "[Errno 2] No such file or directory: '../各交易所期貨持倉量/大商所/jm/20171202.csv'\n",
      "[Errno 2] No such file or directory: '../各交易所期貨持倉量/大商所/jm/20171203.csv'\n",
      "[Errno 2] No such file or directory: '../各交易所期貨持倉量/大商所/jm/20171209.csv'\n",
      "[Errno 2] No such file or directory: '../各交易所期貨持倉量/大商所/jm/20171210.csv'\n",
      "[Errno 2] No such file or directory: '../各交易所期貨持倉量/大商所/jm/20171216.csv'\n",
      "[Errno 2] No such file or directory: '../各交易所期貨持倉量/大商所/jm/20171217.csv'\n",
      "[Errno 2] No such file or directory: '../各交易所期貨持倉量/大商所/jm/20171223.csv'\n",
      "[Errno 2] No such file or directory: '../各交易所期貨持倉量/大商所/jm/20171224.csv'\n",
      "[Errno 2] No such file or directory: '../各交易所期貨持倉量/大商所/jd/20171202.csv'\n",
      "[Errno 2] No such file or directory: '../各交易所期貨持倉量/大商所/jd/20171203.csv'\n",
      "[Errno 2] No such file or directory: '../各交易所期貨持倉量/大商所/jd/20171209.csv'\n",
      "[Errno 2] No such file or directory: '../各交易所期貨持倉量/大商所/jd/20171210.csv'\n",
      "[Errno 2] No such file or directory: '../各交易所期貨持倉量/大商所/jd/20171216.csv'\n",
      "[Errno 2] No such file or directory: '../各交易所期貨持倉量/大商所/jd/20171217.csv'\n",
      "[Errno 2] No such file or directory: '../各交易所期貨持倉量/大商所/jd/20171223.csv'\n",
      "[Errno 2] No such file or directory: '../各交易所期貨持倉量/大商所/jd/20171224.csv'\n",
      "[Errno 2] No such file or directory: '../各交易所期貨持倉量/大商所/fb/20171202.csv'\n",
      "[Errno 2] No such file or directory: '../各交易所期貨持倉量/大商所/fb/20171203.csv'\n",
      "[Errno 2] No such file or directory: '../各交易所期貨持倉量/大商所/fb/20171209.csv'\n",
      "[Errno 2] No such file or directory: '../各交易所期貨持倉量/大商所/fb/20171210.csv'\n",
      "[Errno 2] No such file or directory: '../各交易所期貨持倉量/大商所/fb/20171216.csv'\n",
      "[Errno 2] No such file or directory: '../各交易所期貨持倉量/大商所/fb/20171217.csv'\n",
      "[Errno 2] No such file or directory: '../各交易所期貨持倉量/大商所/fb/20171223.csv'\n",
      "[Errno 2] No such file or directory: '../各交易所期貨持倉量/大商所/fb/20171224.csv'\n",
      "[Errno 2] No such file or directory: '../各交易所期貨持倉量/大商所/cs/20171202.csv'\n",
      "[Errno 2] No such file or directory: '../各交易所期貨持倉量/大商所/cs/20171203.csv'\n",
      "[Errno 2] No such file or directory: '../各交易所期貨持倉量/大商所/cs/20171209.csv'\n",
      "[Errno 2] No such file or directory: '../各交易所期貨持倉量/大商所/cs/20171210.csv'\n",
      "[Errno 2] No such file or directory: '../各交易所期貨持倉量/大商所/cs/20171216.csv'\n",
      "[Errno 2] No such file or directory: '../各交易所期貨持倉量/大商所/cs/20171217.csv'\n",
      "[Errno 2] No such file or directory: '../各交易所期貨持倉量/大商所/cs/20171223.csv'\n",
      "[Errno 2] No such file or directory: '../各交易所期貨持倉量/大商所/cs/20171224.csv'\n",
      "[Errno 2] No such file or directory: '../各交易所期貨持倉量/大商所/bb/20171202.csv'\n",
      "[Errno 2] No such file or directory: '../各交易所期貨持倉量/大商所/bb/20171203.csv'\n",
      "[Errno 2] No such file or directory: '../各交易所期貨持倉量/大商所/bb/20171209.csv'\n",
      "[Errno 2] No such file or directory: '../各交易所期貨持倉量/大商所/bb/20171210.csv'\n",
      "[Errno 2] No such file or directory: '../各交易所期貨持倉量/大商所/bb/20171216.csv'\n",
      "[Errno 2] No such file or directory: '../各交易所期貨持倉量/大商所/bb/20171217.csv'\n",
      "[Errno 2] No such file or directory: '../各交易所期貨持倉量/大商所/bb/20171223.csv'\n",
      "[Errno 2] No such file or directory: '../各交易所期貨持倉量/大商所/bb/20171224.csv'\n",
      "[Errno 2] No such file or directory: '../各交易所期貨持倉量/大商所/y/20171202.csv'\n",
      "[Errno 2] No such file or directory: '../各交易所期貨持倉量/大商所/y/20171203.csv'\n",
      "[Errno 2] No such file or directory: '../各交易所期貨持倉量/大商所/y/20171209.csv'\n",
      "[Errno 2] No such file or directory: '../各交易所期貨持倉量/大商所/y/20171210.csv'\n",
      "[Errno 2] No such file or directory: '../各交易所期貨持倉量/大商所/y/20171216.csv'\n",
      "[Errno 2] No such file or directory: '../各交易所期貨持倉量/大商所/y/20171217.csv'\n",
      "[Errno 2] No such file or directory: '../各交易所期貨持倉量/大商所/y/20171223.csv'\n",
      "[Errno 2] No such file or directory: '../各交易所期貨持倉量/大商所/y/20171224.csv'\n",
      "[Errno 2] No such file or directory: '../各交易所期貨持倉量/大商所/v/20171202.csv'\n",
      "[Errno 2] No such file or directory: '../各交易所期貨持倉量/大商所/v/20171203.csv'\n",
      "[Errno 2] No such file or directory: '../各交易所期貨持倉量/大商所/v/20171209.csv'\n",
      "[Errno 2] No such file or directory: '../各交易所期貨持倉量/大商所/v/20171210.csv'\n",
      "[Errno 2] No such file or directory: '../各交易所期貨持倉量/大商所/v/20171216.csv'\n",
      "[Errno 2] No such file or directory: '../各交易所期貨持倉量/大商所/v/20171217.csv'\n",
      "[Errno 2] No such file or directory: '../各交易所期貨持倉量/大商所/v/20171223.csv'\n",
      "[Errno 2] No such file or directory: '../各交易所期貨持倉量/大商所/v/20171224.csv'\n",
      "[Errno 2] No such file or directory: '../各交易所期貨持倉量/大商所/p/20171202.csv'\n",
      "[Errno 2] No such file or directory: '../各交易所期貨持倉量/大商所/p/20171203.csv'\n",
      "[Errno 2] No such file or directory: '../各交易所期貨持倉量/大商所/p/20171209.csv'\n",
      "[Errno 2] No such file or directory: '../各交易所期貨持倉量/大商所/p/20171210.csv'\n",
      "[Errno 2] No such file or directory: '../各交易所期貨持倉量/大商所/p/20171216.csv'\n",
      "[Errno 2] No such file or directory: '../各交易所期貨持倉量/大商所/p/20171217.csv'\n",
      "[Errno 2] No such file or directory: '../各交易所期貨持倉量/大商所/p/20171223.csv'\n",
      "[Errno 2] No such file or directory: '../各交易所期貨持倉量/大商所/p/20171224.csv'\n",
      "[Errno 2] No such file or directory: '../各交易所期貨持倉量/大商所/m/20171202.csv'\n",
      "[Errno 2] No such file or directory: '../各交易所期貨持倉量/大商所/m/20171203.csv'\n",
      "[Errno 2] No such file or directory: '../各交易所期貨持倉量/大商所/m/20171209.csv'\n",
      "[Errno 2] No such file or directory: '../各交易所期貨持倉量/大商所/m/20171210.csv'\n",
      "[Errno 2] No such file or directory: '../各交易所期貨持倉量/大商所/m/20171216.csv'\n",
      "[Errno 2] No such file or directory: '../各交易所期貨持倉量/大商所/m/20171217.csv'\n",
      "[Errno 2] No such file or directory: '../各交易所期貨持倉量/大商所/m/20171223.csv'\n",
      "[Errno 2] No such file or directory: '../各交易所期貨持倉量/大商所/m/20171224.csv'\n",
      "[Errno 2] No such file or directory: '../各交易所期貨持倉量/大商所/l/20171202.csv'\n",
      "[Errno 2] No such file or directory: '../各交易所期貨持倉量/大商所/l/20171203.csv'\n",
      "[Errno 2] No such file or directory: '../各交易所期貨持倉量/大商所/l/20171209.csv'\n",
      "[Errno 2] No such file or directory: '../各交易所期貨持倉量/大商所/l/20171210.csv'\n",
      "[Errno 2] No such file or directory: '../各交易所期貨持倉量/大商所/l/20171216.csv'\n",
      "[Errno 2] No such file or directory: '../各交易所期貨持倉量/大商所/l/20171217.csv'\n",
      "[Errno 2] No such file or directory: '../各交易所期貨持倉量/大商所/l/20171223.csv'\n",
      "[Errno 2] No such file or directory: '../各交易所期貨持倉量/大商所/l/20171224.csv'\n",
      "[Errno 2] No such file or directory: '../各交易所期貨持倉量/大商所/j/20171202.csv'\n",
      "[Errno 2] No such file or directory: '../各交易所期貨持倉量/大商所/j/20171203.csv'\n",
      "[Errno 2] No such file or directory: '../各交易所期貨持倉量/大商所/j/20171209.csv'\n",
      "[Errno 2] No such file or directory: '../各交易所期貨持倉量/大商所/j/20171210.csv'\n",
      "[Errno 2] No such file or directory: '../各交易所期貨持倉量/大商所/j/20171216.csv'\n",
      "[Errno 2] No such file or directory: '../各交易所期貨持倉量/大商所/j/20171217.csv'\n",
      "[Errno 2] No such file or directory: '../各交易所期貨持倉量/大商所/j/20171223.csv'\n",
      "[Errno 2] No such file or directory: '../各交易所期貨持倉量/大商所/j/20171224.csv'\n",
      "[Errno 2] No such file or directory: '../各交易所期貨持倉量/大商所/i/20171202.csv'\n",
      "[Errno 2] No such file or directory: '../各交易所期貨持倉量/大商所/i/20171203.csv'\n",
      "[Errno 2] No such file or directory: '../各交易所期貨持倉量/大商所/i/20171209.csv'\n",
      "[Errno 2] No such file or directory: '../各交易所期貨持倉量/大商所/i/20171210.csv'\n",
      "[Errno 2] No such file or directory: '../各交易所期貨持倉量/大商所/i/20171216.csv'\n",
      "[Errno 2] No such file or directory: '../各交易所期貨持倉量/大商所/i/20171217.csv'\n",
      "[Errno 2] No such file or directory: '../各交易所期貨持倉量/大商所/i/20171223.csv'\n",
      "[Errno 2] No such file or directory: '../各交易所期貨持倉量/大商所/i/20171224.csv'\n",
      "[Errno 2] No such file or directory: '../各交易所期貨持倉量/大商所/c/20171202.csv'\n",
      "[Errno 2] No such file or directory: '../各交易所期貨持倉量/大商所/c/20171203.csv'\n",
      "[Errno 2] No such file or directory: '../各交易所期貨持倉量/大商所/c/20171209.csv'\n",
      "[Errno 2] No such file or directory: '../各交易所期貨持倉量/大商所/c/20171210.csv'\n",
      "[Errno 2] No such file or directory: '../各交易所期貨持倉量/大商所/c/20171216.csv'\n",
      "[Errno 2] No such file or directory: '../各交易所期貨持倉量/大商所/c/20171217.csv'\n",
      "[Errno 2] No such file or directory: '../各交易所期貨持倉量/大商所/c/20171223.csv'\n",
      "[Errno 2] No such file or directory: '../各交易所期貨持倉量/大商所/c/20171224.csv'\n",
      "[Errno 2] No such file or directory: '../各交易所期貨持倉量/大商所/a/20171202.csv'\n",
      "[Errno 2] No such file or directory: '../各交易所期貨持倉量/大商所/a/20171203.csv'\n",
      "[Errno 2] No such file or directory: '../各交易所期貨持倉量/大商所/a/20171209.csv'\n",
      "[Errno 2] No such file or directory: '../各交易所期貨持倉量/大商所/a/20171210.csv'\n"
     ]
    },
    {
     "name": "stdout",
     "output_type": "stream",
     "text": [
      "[Errno 2] No such file or directory: '../各交易所期貨持倉量/大商所/a/20171216.csv'\n",
      "[Errno 2] No such file or directory: '../各交易所期貨持倉量/大商所/a/20171217.csv'\n",
      "[Errno 2] No such file or directory: '../各交易所期貨持倉量/大商所/a/20171223.csv'\n",
      "[Errno 2] No such file or directory: '../各交易所期貨持倉量/大商所/a/20171224.csv'\n",
      "[Errno 2] No such file or directory: '../各交易所期貨持倉量/大商所/b/20171202.csv'\n",
      "[Errno 2] No such file or directory: '../各交易所期貨持倉量/大商所/b/20171203.csv'\n",
      "[Errno 2] No such file or directory: '../各交易所期貨持倉量/大商所/b/20171209.csv'\n",
      "[Errno 2] No such file or directory: '../各交易所期貨持倉量/大商所/b/20171210.csv'\n",
      "[Errno 2] No such file or directory: '../各交易所期貨持倉量/大商所/b/20171216.csv'\n",
      "[Errno 2] No such file or directory: '../各交易所期貨持倉量/大商所/b/20171217.csv'\n",
      "[Errno 2] No such file or directory: '../各交易所期貨持倉量/大商所/b/20171223.csv'\n",
      "[Errno 2] No such file or directory: '../各交易所期貨持倉量/大商所/b/20171224.csv'\n"
     ]
    }
   ],
   "source": [
    "contract_list={'pp':'pp','jm':'jm','jd':'jd','fb':'fb','cs':'cs','bb':'bb','y':'y','v':'v','p':'p'\n",
    "             ,'m':'m','l':'l','j':'j','i':'i','c':'c','a':'a_1','b':'a_2'}\n",
    "\n",
    "contract_id=['pp','jm','jd','fb','cs','bb','y','v','p','m','l','j','i','c','a','b']\n",
    "\n",
    "for x in range(len(contract_id)):\n",
    "    databaseName1 = contract_list[contract_id[x]] + '_oi_data'\n",
    "    databaseName2 = contract_list[contract_id[x]] + '_oi_original_data'\n",
    "    code = contract_list[contract_id[x]]\n",
    "\n",
    "    cursor = db.cursor()\n",
    "\n",
    "    # sql = \"CREATE DATABASE IF NOT EXISTS \" + databaseName1\n",
    "    # cursor.execute(sql)\n",
    "\n",
    "    # sql = \"CREATE DATABASE IF NOT EXISTS \" + databaseName2\n",
    "    # cursor.execute(sql)\n",
    "\n",
    "#     create_futures_member(databaseName1)\n",
    "#     create_non_futures_member(databaseName1)\n",
    "#     create_total_volume(databaseName1)\n",
    "\n",
    "    now_date = datetime.datetime(2017,11,29)\n",
    "    end_date = datetime.datetime(2017,12,27)\n",
    "\n",
    "    while now_date < end_date:\n",
    "        split_date = now_date.strftime('%Y-%m-%d').split('-')\n",
    "        table_date = split_date[0]+split_date[1]+split_date[2]\n",
    "        \n",
    "        try:\n",
    "            data = pd.read_csv('../各交易所期貨持倉量/大商所/'+contract_id[x]+'/'+table_date+'.csv',encoding='gbk',engine='python')\n",
    "            for i in range(3,len(data)-1):\n",
    "                for j in range(12):\n",
    "                    if(data.loc[i][j] == \"-\"):\n",
    "                        data.loc[i][j] = None                \n",
    "                    elif( (j==2 or j==3 or j==6 or j==7 or j==10 or j==11) and data.loc[i][j] != None):\n",
    "                        data.loc[i][j] = data.loc[i][j].replace(',','')\n",
    "\n",
    "            total_insert(data,table_date,databaseName2,code)\n",
    "            futures_member_insert(data,table_date,databaseName1)\n",
    "            non_futures_member_insert(data,table_date,databaseName1)\n",
    "            total_volume_insert(data,table_date,databaseName1)\n",
    "            \n",
    "            now_date = now_date + datetime.timedelta(days = 1)\n",
    "            \n",
    "        except Exception as e:\n",
    "            now_date = now_date + datetime.timedelta(days = 1)\n",
    "            print (e)\n",
    "\n",
    "        #V_info_insert(data,table_date,databaseName)\n",
    "        #B_info_insert(data,table_date,databaseName)\n",
    "        #S_info_insert(data,table_date,databaseName)\n"
   ]
  },
  {
   "cell_type": "code",
   "execution_count": 1,
   "metadata": {
    "scrolled": true
   },
   "outputs": [],
   "source": [
    "def total_insert(data,table_date,databaseName,code):       \n",
    "    cursor = db.cursor()\n",
    "    \n",
    "    sql = \"CREATE TABLE IF NOT EXISTS \" + databaseName + \".\" + code + \"_\" + table_date+ \"(\\\n",
    "    Rank INT(5),\\\n",
    "    Member CHAR(10),\\\n",
    "    Volume FLOAT(5),\\\n",
    "    Increment FLOAT(5),\\\n",
    "    Rank_1 INT(5),\\\n",
    "    Member1 CHAR(10),\\\n",
    "    Buy_Volume FLOAT(5),\\\n",
    "    Increment_1 FLOAT(5),\\\n",
    "    Rank_2 INT(5),\\\n",
    "    Member2 CHAR(10),\\\n",
    "    Sales_Volume FLOAT(5),\\\n",
    "    Increment_2 FLOAT(5) )\"\n",
    "\n",
    "    cursor.execute(sql)\n",
    "    value=[]\n",
    "\n",
    "    for i in range(3,len(data)-1):      \n",
    "        value.append((data.loc[i][0],data.loc[i][1],data.loc[i][2],data.loc[i][3],data.loc[i][4],data.loc[i][5],data.loc[i][6],data.loc[i][7],data.loc[i][8],data.loc[i][9],data.loc[i][10],data.loc[i][11]))\n",
    "\n",
    "    sql = \"INSERT INTO \" + databaseName + \".\" + code + \"_\" + table_date +\" VALUES(%s,%s,%s,%s,%s,%s,%s,%s,%s,%s,%s,%s)\"        \n",
    "    cursor.executemany(sql,value)\n",
    "    db.commit()\n",
    "    cursor.close()"
   ]
  },
  {
   "cell_type": "markdown",
   "metadata": {},
   "source": [
    "# 期貨公司成員輸入"
   ]
  },
  {
   "cell_type": "code",
   "execution_count": 11,
   "metadata": {
    "collapsed": true
   },
   "outputs": [],
   "source": [
    "def create_futures_member(databaseName):\n",
    "    cursor = db.cursor()\n",
    "    sql = \"CREATE TABLE IF NOT EXISTS \" + databaseName + \".futures_member (\\\n",
    "    Date DATE PRIMARY KEY,\\\n",
    "    Total_volume FLOAT(5),\\\n",
    "    Increment FLOAT(5),\\\n",
    "    Total_buy_volume FLOAT(5),\\\n",
    "    Increment_1 FLOAT(5),\\\n",
    "    Total_sales_volume FLOAT(5),\\\n",
    "    Increment_2 FLOAT(5) ) \"\n",
    "\n",
    "    cursor.execute(sql)"
   ]
  },
  {
   "cell_type": "code",
   "execution_count": 2,
   "metadata": {},
   "outputs": [],
   "source": [
    "def futures_member_insert(data,table_date,databaseName):\n",
    "    cursor = db.cursor()\n",
    "    \n",
    "    sql = \"INSERT INTO \" + databaseName + \".futures_member VALUES( \"\\\n",
    "    + table_date +\",\"\\\n",
    "    + data.loc[0][1].replace(',','') +\",\"\\\n",
    "    + data.loc[0][2].replace(',','') +\",\"\\\n",
    "    + data.loc[0][3].replace(',','') +\",\"\\\n",
    "    + data.loc[0][4].replace(',','') +\",\"\\\n",
    "    + data.loc[0][5].replace(',','') +\",\"\\\n",
    "    + data.loc[0][6].replace(',','') + \")\"\n",
    "\n",
    "    cursor.execute(sql)\n",
    "    db.commit()\n",
    "    cursor.close()"
   ]
  },
  {
   "cell_type": "markdown",
   "metadata": {},
   "source": [
    "# 非期貨公司成員輸入"
   ]
  },
  {
   "cell_type": "code",
   "execution_count": 12,
   "metadata": {
    "collapsed": true
   },
   "outputs": [],
   "source": [
    "def create_non_futures_member(databaseName):\n",
    "    cursor = db.cursor()\n",
    "    sql = \"CREATE TABLE IF NOT EXISTS \" + databaseName + \".none_futures_member (\\\n",
    "    Date DATE PRIMARY KEY,\\\n",
    "    Total_volume FLOAT(5),\\\n",
    "    Increment FLOAT(5),\\\n",
    "    Total_buy_volume FLOAT(5),\\\n",
    "    Increment_1 FLOAT(5),\\\n",
    "    Total_sales_volume FLOAT(5),\\\n",
    "    Increment_2 FLOAT(5) ) \"\n",
    "\n",
    "    cursor.execute(sql)"
   ]
  },
  {
   "cell_type": "code",
   "execution_count": 3,
   "metadata": {},
   "outputs": [],
   "source": [
    "def non_futures_member_insert(data,table_date,databaseName):\n",
    "    cursor = db.cursor()\n",
    "    sql = \"INSERT INTO \" + databaseName +\".none_futures_member VALUES(\"\\\n",
    "    + table_date + \",\"\\\n",
    "    + data.loc[1][1].replace(',','') +\",\"\\\n",
    "    + data.loc[1][2].replace(',','') +\",\"\\\n",
    "    + data.loc[1][3].replace(',','') +\",\"\\\n",
    "    + data.loc[1][4].replace(',','') +\",\"\\\n",
    "    + data.loc[1][5].replace(',','') +\",\"\\\n",
    "    + data.loc[1][6].replace(',','') + \")\"\n",
    "\n",
    "    cursor.execute(sql)\n",
    "    db.commit()\n",
    "    cursor.close()"
   ]
  },
  {
   "cell_type": "markdown",
   "metadata": {},
   "source": [
    "# 總計"
   ]
  },
  {
   "cell_type": "code",
   "execution_count": 13,
   "metadata": {
    "collapsed": true
   },
   "outputs": [],
   "source": [
    "def create_total_volume(databaseName):\n",
    "    cursor = db.cursor()\n",
    "    sql = \"CREATE TABLE IF NOT EXISTS \" + databaseName +\".total_volume ( Date DATE PRIMARY KEY, \\\n",
    "    V_Valume FLOAT(5),V_Increment FLOAT(5),\\\n",
    "    B_Valume FLOAT(5),B_Increment FLOAT(5),\\\n",
    "    S_Valume FLOAT(5),S_Increment FLOAT(5))\"\n",
    "\n",
    "    cursor.execute(sql)"
   ]
  },
  {
   "cell_type": "code",
   "execution_count": 4,
   "metadata": {},
   "outputs": [],
   "source": [
    "def total_volume_insert(data,table_date,databaseName):\n",
    "    cursor = db.cursor()\n",
    "    total_len = len(data)-1\n",
    "    sql = \"INSERT INTO \" + databaseName + \".total_volume VALUES(\"\\\n",
    "    + table_date + \",\"\\\n",
    "    + data.loc[total_len][2].replace(',','') +\",\"\\\n",
    "    + data.loc[total_len][3].replace(',','') +\",\"\\\n",
    "    + data.loc[total_len][6].replace(',','') +\",\"\\\n",
    "    + data.loc[total_len][7].replace(',','') +\",\"\\\n",
    "    + data.loc[total_len][10].replace(',','') +\",\"\\\n",
    "    + data.loc[total_len][11].replace(',','') + \")\"\n",
    "\n",
    "    cursor.execute(sql)\n",
    "    db.commit()"
   ]
  },
  {
   "cell_type": "markdown",
   "metadata": {},
   "source": [
    "# 各公司資訊"
   ]
  },
  {
   "cell_type": "markdown",
   "metadata": {},
   "source": [
    "## V名次、成交量、增減"
   ]
  },
  {
   "cell_type": "code",
   "execution_count": 45,
   "metadata": {
    "collapsed": true
   },
   "outputs": [],
   "source": [
    "def V_info_create():\n",
    "    cursor = db.cursor()\n",
    "    name=\"\"\n",
    "    for i in range(len(company_order)-1):\n",
    "        name = name + company_order.loc[i][0] + ' CHAR(10),'\n",
    "    name = name + company_order.loc[len(company_order)-1][0] + \" CHAR(10)\"\n",
    "\n",
    "    sql = \"CREATE TABLE IF NOT EXISTS \" + databaseName +\".v_rank ( Date DATE PRIMARY KEY, \" + name + \")\"\n",
    "    cursor.execute(sql)\n",
    "\n",
    "    sql = \"CREATE TABLE IF NOT EXISTS \" + databaseName + \".v_volume ( Date DATE PRIMARY KEY, \" + name + \")\"\n",
    "    cursor.execute(sql)\n",
    "\n",
    "    sql = \"CREATE TABLE IF NOT EXISTS \" + databaseName + \".v_increment ( Date DATE PRIMARY KEY, \" + name + \")\"\n",
    "    cursor.execute(sql)\n",
    "    cursor.close()"
   ]
  },
  {
   "cell_type": "code",
   "execution_count": 72,
   "metadata": {
    "collapsed": true
   },
   "outputs": [],
   "source": [
    "def V_info_insert(data,table_date,databaseName):\n",
    "    cursor = db.cursor()\n",
    "    \n",
    "    empty = \"\"\n",
    "    empty = empty + table_date\n",
    "\n",
    "\n",
    "    sql = \"INSERT INTO \" + databaseName + \".v_rank (Date) VALUES (\" + empty + \")\"\n",
    "    cursor.execute(sql)\n",
    "    db.commit()\n",
    "\n",
    "    sql = \"INSERT INTO \" + databaseName + \".v_volume (Date) VALUES (\" + empty + \")\"\n",
    "    cursor.execute(sql)\n",
    "    db.commit()\n",
    "\n",
    "    sql = \"INSERT INTO \" + databaseName + \".v_increment (Date) VALUES (\" + empty + \")\"\n",
    "    cursor.execute(sql)\n",
    "    db.commit()\n",
    "    \n",
    "    for i in range(3,len(data)-1):\n",
    "        if(data.loc[i][1] == 'NULL'):\n",
    "            continue\n",
    "        \n",
    "        else:\n",
    "            sql = \"UPDATE \" + databaseName + \".v_rank SET \" + str(data.loc[i][1]) + \"=\" + data.loc[i][0] + \" WHERE Date=\" + table_date\n",
    "            cursor.execute(sql)\n",
    "            db.commit()    \n",
    "\n",
    "    for i in range(3,len(data)-1):\n",
    "        if(data.loc[i][1] == 'NULL'):\n",
    "            continue\n",
    "            \n",
    "        else:\n",
    "            sql = \"UPDATE \" + databaseName + \".v_volume SET \" + str(data.loc[i][1]) + \"=\" + data.loc[i][2] + \" WHERE Date=\" + table_date\n",
    "            cursor.execute(sql)\n",
    "            db.commit()\n",
    "\n",
    "    for i in range(3,len(data)-1):\n",
    "        if(data.loc[i][1] == 'NULL'):\n",
    "            continue\n",
    "            \n",
    "        else:\n",
    "            sql = \"UPDATE \" + databaseName + \".v_increment SET \" + data.loc[i][1] + \"=\" + data.loc[i][3] + \" WHERE Date=\" + table_date\n",
    "            cursor.execute(sql)\n",
    "            db.commit()\n",
    "    \n",
    "    cursor.close()"
   ]
  },
  {
   "cell_type": "markdown",
   "metadata": {},
   "source": [
    "## B名次、買單量、增減"
   ]
  },
  {
   "cell_type": "code",
   "execution_count": 198,
   "metadata": {},
   "outputs": [
    {
     "data": {
      "text/plain": [
       "0"
      ]
     },
     "execution_count": 198,
     "metadata": {},
     "output_type": "execute_result"
    }
   ],
   "source": [
    "def B_info_create():\n",
    "    name=\"\"\n",
    "    for i in range(len(company_order)-1):\n",
    "        name = name + company_order.loc[i][0] + ' CHAR(10),'\n",
    "    name = name + company_order.loc[len(company_order)-1][0] + \" CHAR(10)\"\n",
    "\n",
    "    sql = \"CREATE TABLE IF NOT EXISTS \" + databaseName + \".b_rank ( Date DATE PRIMARY KEY, \" + name + \")\"\n",
    "    cursor.execute(sql)\n",
    "\n",
    "    sql = \"CREATE TABLE IF NOT EXISTS \" + databaseName + \".b_oi ( Date DATE PRIMARY KEY, \" + name + \")\"\n",
    "    cursor.execute(sql)\n",
    "\n",
    "    sql = \"CREATE TABLE IF NOT EXISTS \" + databaseName + \".b_increment ( Date DATE PRIMARY KEY, \" + name + \")\"\n",
    "    cursor.execute(sql)"
   ]
  },
  {
   "cell_type": "code",
   "execution_count": 199,
   "metadata": {
    "collapsed": true
   },
   "outputs": [],
   "source": [
    "def B_info_insert(data,table_date,list_date,databaseName)\n",
    "    name=\"\"\n",
    "\n",
    "    empty = \"\"\n",
    "    empty = empty + table_date \n",
    "    \n",
    "    sql = \"INSERT INTO \" + databaseName + \".b_rank (Date,\" + name + \") VALUES (\" + empty + \")\"\n",
    "    cursor.execute(sql)\n",
    "    db.commit()\n",
    "\n",
    "    sql = \"INSERT INTO \" + databaseName + \".b_oi (Date,\" + name + \") VALUES (\" + empty + \")\"\n",
    "    cursor.execute(sql)\n",
    "    db.commit()\n",
    "\n",
    "    sql = \"INSERT INTO \" + databaseName + \".b_increment (Date,\" + name + \") VALUES (\" + empty + \")\"\n",
    "    cursor.execute(sql)\n",
    "    db.commit()\n",
    "    \n",
    "    for i in range(3,len(data)-1):\n",
    "    if(data.loc[i][1] == \"NULL\"):\n",
    "        continue  \n",
    "        \n",
    "    sql = \"UPDATE \" + databaseName + \".b_rank SET \" + str(data.loc[i][5]) + \"=\" + data.loc[i][4] + \" WHERE Date='\" + list_date + \"'\"\n",
    "    cursor.execute(sql)\n",
    "    db.commit()    \n",
    "\n",
    "    for i in range(3,len(data)-1):\n",
    "        if(data.loc[i][5] == \"NULL\"):\n",
    "            continue\n",
    "        sql = \"UPDATE \" + databaseName + \".b_oi SET \" + str(data.loc[i][5]) + \"=\" + data.loc[i][6] + \" WHERE Date='\" + list_date + \"'\"\n",
    "        cursor.execute(sql)\n",
    "        db.commit()\n",
    "\n",
    "    for i in range(3,len(data)-1):\n",
    "        if(data.loc[i][9] == \"NULL\"):\n",
    "            continue\n",
    "        sql = \"UPDATE \" + databaseName + \".b_increment SET \" + data.loc[i][5] + \"=\" + data.loc[i][7] + \" WHERE Date='\" + list_date + \"'\"\n",
    "        cursor.execute(sql)\n",
    "        db.commit()\n",
    "\n",
    "    cursor.close()"
   ]
  },
  {
   "cell_type": "markdown",
   "metadata": {
    "scrolled": true
   },
   "source": [
    "## S名次、賣單量、增減"
   ]
  },
  {
   "cell_type": "code",
   "execution_count": 203,
   "metadata": {},
   "outputs": [
    {
     "data": {
      "text/plain": [
       "0"
      ]
     },
     "execution_count": 203,
     "metadata": {},
     "output_type": "execute_result"
    }
   ],
   "source": [
    "def S_info_create():\n",
    "    name=\"\"\n",
    "    for i in range(len(company_order)-1):\n",
    "        name = name + company_order.loc[i][0] + ' CHAR(10),'\n",
    "    name = name + company_order.loc[len(company_order)-1][0] + \" CHAR(10)\"\n",
    "\n",
    "    sql = \"CREATE TABLE IF NOT EXISTS \" + databaseName +\".s_rank ( Date DATE PRIMARY KEY, \" + name + \")\"\n",
    "    cursor.execute(sql)\n",
    "\n",
    "    sql = \"CREATE TABLE IF NOT EXISTS \" + databaseName + \".s_oi ( Date DATE PRIMARY KEY, \" + name + \")\"\n",
    "    cursor.execute(sql)\n",
    "\n",
    "    sql = \"CREATE TABLE IF NOT EXISTS \" + databaseName + \".s_increment ( Date DATE PRIMARY KEY, \" + name + \")\"\n",
    "    cursor.execute(sql)"
   ]
  },
  {
   "cell_type": "code",
   "execution_count": 204,
   "metadata": {
    "collapsed": true
   },
   "outputs": [],
   "source": [
    "def S_info_insert(data,table_date,list_date,databaseName):\n",
    "    name=\"\"\n",
    "    for i in range(len(company_order)-1):\n",
    "        name = name + company_order.loc[i][0] + ','\n",
    "    name = name + company_order.loc[len(company_order)-1][0]\n",
    "\n",
    "    empty = \"\"\n",
    "    empty = empty + table_date + \",\"\n",
    "    for i in range(len(company_order)-1):\n",
    "        empty = empty + \"NULL\" + ','\n",
    "    empty = empty + \"NULL\"\n",
    "    \n",
    "    sql = \"INSERT INTO \" + databaseName + \".s_rank (Date,\" + name + \") VALUES (\" + empty + \")\"\n",
    "    cursor.execute(sql)\n",
    "    db.commit()\n",
    "\n",
    "    sql = \"INSERT INTO \" + databaseName + \".s_oi (Date,\" + name + \") VALUES (\" + empty + \")\"\n",
    "    cursor.execute(sql)\n",
    "    db.commit()\n",
    "\n",
    "    sql = \"INSERT INTO \" + databaseName + \".s_increment (Date,\" + name + \") VALUES (\" + empty + \")\"\n",
    "    cursor.execute(sql)\n",
    "    db.commit()\n",
    "    \n",
    "    for i in range(3,len(data)-1):\n",
    "    if(data.loc[i][1] == \"NULL\"):\n",
    "        continue  \n",
    "        \n",
    "    sql = \"UPDATE \" + databaseName + \".s_rank SET \" + str(data.loc[i][1]) + \"=\" + data.loc[i][0] + \" WHERE Date='\" + list_date + \"'\"\n",
    "    cursor.execute(sql)\n",
    "    db.commit()    \n",
    "\n",
    "    for i in range(3,len(data)-1):\n",
    "        if(data.loc[i][5] == \"NULL\"):\n",
    "            continue\n",
    "        sql = \"UPDATE \" + databaseName + \".s_oi SET \" + str(data.loc[i][1]) + \"=\" + data.loc[i][2] + \" WHERE Date='\" + list_date + \"'\"\n",
    "        cursor.execute(sql)\n",
    "        db.commit()\n",
    "\n",
    "    for i in range(3,len(data)-1):\n",
    "        if(data.loc[i][9] == \"NULL\"):\n",
    "            continue\n",
    "        sql = \"UPDATE \" + databaseName +\".s_increment SET \" + data.loc[i][9] + \"=\" + data.loc[i][3] + \" WHERE Date='\" + list_date + \"'\"\n",
    "        cursor.execute(sql)\n",
    "        db.commit()\n",
    "\n",
    "    cursor.close()"
   ]
  }
 ],
 "metadata": {
  "kernelspec": {
   "display_name": "Python 3",
   "language": "python",
   "name": "python3"
  },
  "language_info": {
   "codemirror_mode": {
    "name": "ipython",
    "version": 3
   },
   "file_extension": ".py",
   "mimetype": "text/x-python",
   "name": "python",
   "nbconvert_exporter": "python",
   "pygments_lexer": "ipython3",
   "version": "3.6.3"
  }
 },
 "nbformat": 4,
 "nbformat_minor": 2
}
