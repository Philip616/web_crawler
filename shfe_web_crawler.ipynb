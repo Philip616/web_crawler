{
 "cells": [
  {
   "cell_type": "code",
   "execution_count": 1,
   "metadata": {
    "collapsed": true
   },
   "outputs": [],
   "source": [
    "import time\n",
    "import pandas as pd\n",
    "import random\n",
    "import json\n",
    "from urllib.request import urlopen"
   ]
  },
  {
   "cell_type": "code",
   "execution_count": 55,
   "metadata": {
    "scrolled": true
   },
   "outputs": [],
   "source": [
    "#url = \"http://www.shfe.com.cn/data/dailydata/kx/pm20170913.dat\"\n",
    "#page = json.load(urlopen(url))\n",
    "data = pd.DataFrame(columns=(0,1,2,3,4,5,6,7,8,9,10,11))\n",
    "all_col_insert = True\n",
    "other_col_insert = True\n",
    "\n",
    "last_type = 'null'\n",
    "\n",
    "test_count = 0\n",
    "length = 0\n",
    "\n",
    "for i in page['o_cursor']:\n",
    "    \n",
    "    length = len(data)\n",
    "             \n",
    "    this_type = i['INSTRUMENTID'].strip()\n",
    "\n",
    "    if last_type != this_type and last_type!='null':\n",
    "              \n",
    "        data.to_csv('./test/20170913'+\"_\"+last_type+\".csv\",encoding='utf-8-sig')\n",
    "        time.sleep(1)\n",
    "        \n",
    "        data = pd.DataFrame(columns=(0,1,2,3,4,5,6,7,8,9,10,11))\n",
    "        \n",
    "        last_type = this_type\n",
    "        \n",
    "        all_col_insert=True\n",
    "        other_col_insert=True\n",
    "        \n",
    "        if \"all\" in this_type:\n",
    "            \n",
    "            insert_data = insert_all(i, other_col_insert)            \n",
    "            length = len(data)\n",
    "            data.loc[length] = insert_data\n",
    "            \n",
    "            other_col_insert = False\n",
    "            continue\n",
    "            \n",
    "        else: \n",
    "            insert_data = contract(i, all_col_insert, length)\n",
    "            \n",
    "            length = len(data)\n",
    "            data.loc[length] = insert_data\n",
    "            \n",
    "            all_col_insert=False       \n",
    "            continue\n",
    "        \n",
    "    if \"all\" in this_type:\n",
    "        insert_data = insert_all(i, other_col_insert)\n",
    "        length = len(data)\n",
    "        data.loc[length] = insert_data\n",
    "        \n",
    "        last_type = this_type\n",
    "        continue\n",
    "\n",
    "    \n",
    "    insert_data = contract(i, all_col_insert, length)  \n",
    "    length = len(data)\n",
    "    data.loc[length] = insert_data\n",
    "    \n",
    "    last_type = this_type\n",
    "    "
   ]
  },
  {
   "cell_type": "code",
   "execution_count": 44,
   "metadata": {
    "collapsed": true
   },
   "outputs": [],
   "source": [
    "def insert_all(page_data,new_col_insert):\n",
    "    if new_col_insert:\n",
    "            col = ['会员类别','总成交量','比上交易日增减','会员类别','总持买单量','比上交易日增减',\\\n",
    "                   '会员类别','总持卖单量','比上交易日增减',None,None,None]\n",
    "            data.loc[0] = col\n",
    "              \n",
    "    col_data = [page_data['PARTICIPANTABBR1'].strip(),page_data['CJ1'],page_data['CJ1_CHG'],\\\n",
    "                page_data['PARTICIPANTABBR2'].strip(),page_data['CJ2'],page_data['CJ2_CHG'],\\\n",
    "                page_data['PARTICIPANTABBR3'].strip(),page_data['CJ3'],page_data['CJ3_CHG']]\n",
    "    col_data.extend((None,None,None))\n",
    "    return col_data"
   ]
  },
  {
   "cell_type": "code",
   "execution_count": 43,
   "metadata": {
    "collapsed": true,
    "scrolled": true
   },
   "outputs": [],
   "source": [
    "def contract(page_data,new_col_insert,length):\n",
    "        \n",
    "    if page_data['PARTICIPANTABBR1'] == '' :\n",
    "        col_data = ['合计',page_data['CJ1'],page_data['CJ1_CHG'],\\\n",
    "                    '合计',page_data['CJ2'],page_data['CJ2_CHG'],\\\n",
    "                    '合计',page_data['CJ3'],page_data['CJ3_CHG']]\n",
    "        col_data.extend((None,None,None))\n",
    "        data.loc[length] = col_data\n",
    "        \n",
    "    else:\n",
    "        if new_col_insert:\n",
    "            col = ['名次','期货公司会员简称','成交量','比上交易日增减','名次','期货公司会员简称','持买单量','比上交易日增减','名次','期货公司会员简称','持卖单量','比上交易日增减/变化']\n",
    "            data.loc[0] = col\n",
    "        \n",
    "        col_data = [page_data['RANK'],page_data['PARTICIPANTABBR1'].strip(),page_data['CJ1'],page_data['CJ1_CHG'],\\\n",
    "                    page_data['RANK'],page_data['PARTICIPANTABBR2'].strip(),page_data['CJ2'],page_data['CJ2_CHG'],\\\n",
    "                    page_data['RANK'],page_data['PARTICIPANTABBR3'].strip(),page_data['CJ3'],page_data['CJ3_CHG']]\n",
    "        return col_data"
   ]
  },
  {
   "cell_type": "code",
   "execution_count": 34,
   "metadata": {},
   "outputs": [],
   "source": [
    "data.loc[2] = col"
   ]
  },
  {
   "cell_type": "code",
   "execution_count": 50,
   "metadata": {},
   "outputs": [
    {
     "data": {
      "text/html": [
       "<div>\n",
       "<style>\n",
       "    .dataframe thead tr:only-child th {\n",
       "        text-align: right;\n",
       "    }\n",
       "\n",
       "    .dataframe thead th {\n",
       "        text-align: left;\n",
       "    }\n",
       "\n",
       "    .dataframe tbody tr th {\n",
       "        vertical-align: top;\n",
       "    }\n",
       "</style>\n",
       "<table border=\"1\" class=\"dataframe\">\n",
       "  <thead>\n",
       "    <tr style=\"text-align: right;\">\n",
       "      <th></th>\n",
       "      <th>0</th>\n",
       "      <th>1</th>\n",
       "      <th>2</th>\n",
       "      <th>3</th>\n",
       "      <th>4</th>\n",
       "      <th>5</th>\n",
       "      <th>6</th>\n",
       "      <th>7</th>\n",
       "      <th>8</th>\n",
       "      <th>9</th>\n",
       "      <th>10</th>\n",
       "      <th>11</th>\n",
       "    </tr>\n",
       "  </thead>\n",
       "  <tbody>\n",
       "    <tr>\n",
       "      <th>0</th>\n",
       "      <td>名次</td>\n",
       "      <td>期货公司会员简称</td>\n",
       "      <td>成交量</td>\n",
       "      <td>比上交易日增减</td>\n",
       "      <td>名次</td>\n",
       "      <td>期货公司会员简称</td>\n",
       "      <td>持买单量</td>\n",
       "      <td>比上交易日增减</td>\n",
       "      <td>名次</td>\n",
       "      <td>期货公司会员简称</td>\n",
       "      <td>持卖单量</td>\n",
       "      <td>比上交易日增减/变化</td>\n",
       "    </tr>\n",
       "    <tr>\n",
       "      <th>1</th>\n",
       "      <td>1</td>\n",
       "      <td>金瑞期货</td>\n",
       "      <td>2495</td>\n",
       "      <td>-1265</td>\n",
       "      <td>1</td>\n",
       "      <td>金瑞期货</td>\n",
       "      <td>1210</td>\n",
       "      <td>-185</td>\n",
       "      <td>1</td>\n",
       "      <td>金瑞期货</td>\n",
       "      <td>2160</td>\n",
       "      <td>-390</td>\n",
       "    </tr>\n",
       "  </tbody>\n",
       "</table>\n",
       "</div>"
      ],
      "text/plain": [
       "   0         1     2        3   4         5     6        7   8         9   \\\n",
       "0  名次  期货公司会员简称   成交量  比上交易日增减  名次  期货公司会员简称  持买单量  比上交易日增减  名次  期货公司会员简称   \n",
       "1   1      金瑞期货  2495    -1265   1      金瑞期货  1210     -185   1      金瑞期货   \n",
       "\n",
       "     10          11  \n",
       "0  持卖单量  比上交易日增减/变化  \n",
       "1  2160        -390  "
      ]
     },
     "execution_count": 50,
     "metadata": {},
     "output_type": "execute_result"
    }
   ],
   "source": [
    "data"
   ]
  },
  {
   "cell_type": "code",
   "execution_count": 274,
   "metadata": {
    "collapsed": true
   },
   "outputs": [],
   "source": [
    "col_count+=1"
   ]
  },
  {
   "cell_type": "code",
   "execution_count": 263,
   "metadata": {
    "collapsed": true
   },
   "outputs": [],
   "source": [
    "test = pd.DataFrame(columns=(0,1,2,3,4,5,6,7,8,9,10,11))"
   ]
  },
  {
   "cell_type": "code",
   "execution_count": 228,
   "metadata": {},
   "outputs": [
    {
     "data": {
      "text/plain": [
       "['期货公司', '期货公司', 0, 1, None, None, None, None, None, None, None, None]"
      ]
     },
     "execution_count": 228,
     "metadata": {},
     "output_type": "execute_result"
    }
   ],
   "source": [
    "x"
   ]
  },
  {
   "cell_type": "code",
   "execution_count": null,
   "metadata": {
    "collapsed": true
   },
   "outputs": [],
   "source": []
  }
 ],
 "metadata": {
  "kernelspec": {
   "display_name": "Python [conda env:py36]",
   "language": "python",
   "name": "conda-env-py36-py"
  },
  "language_info": {
   "codemirror_mode": {
    "name": "ipython",
    "version": 3
   },
   "file_extension": ".py",
   "mimetype": "text/x-python",
   "name": "python",
   "nbconvert_exporter": "python",
   "pygments_lexer": "ipython3",
   "version": "3.6.2"
  }
 },
 "nbformat": 4,
 "nbformat_minor": 2
}
