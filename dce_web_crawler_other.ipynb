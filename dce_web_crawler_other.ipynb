{
 "cells": [
  {
   "cell_type": "code",
   "execution_count": 1,
   "metadata": {},
   "outputs": [],
   "source": [
    "from selenium import webdriver\n",
    "from selenium.webdriver.support.ui import Select"
   ]
  },
  {
   "cell_type": "code",
   "execution_count": 2,
   "metadata": {},
   "outputs": [],
   "source": [
    "driver = webdriver.Chrome('d:/Users/Philip/Downloads/chromedriver.exe')\n",
    "url_click = 'http://www.dce.com.cn/publicweb/quotesdata/memberDealPosiQuotes.html'\n",
    "driver.get(url_click)"
   ]
  },
  {
   "cell_type": "code",
   "execution_count": 5,
   "metadata": {
    "scrolled": true
   },
   "outputs": [],
   "source": [
    "sel_month = Select(driver.find_element_by_xpath(\"//p[@id='control']/select[2]\"))\n",
    "sel_month.select_by_index(1)"
   ]
  },
  {
   "cell_type": "code",
   "execution_count": 4,
   "metadata": {
    "scrolled": true
   },
   "outputs": [],
   "source": [
    "sel_year = Select(driver.find_element_by_xpath(\"//p[@id='control']/select\"))\n",
    "sel_year.select_by_value('2005')"
   ]
  },
  {
   "cell_type": "code",
   "execution_count": 40,
   "metadata": {},
   "outputs": [],
   "source": [
    "sel_day = driver.find_element_by_id(\"calender\")\n",
    "sel_day.find_element_by_xpath(\"//table//tbody//tr[3]/td[6]\").click()"
   ]
  },
  {
   "cell_type": "code",
   "execution_count": 50,
   "metadata": {},
   "outputs": [],
   "source": [
    "import pandas as pd\n",
    "from bs4 import BeautifulSoup\n",
    "import requests as res"
   ]
  },
  {
   "cell_type": "code",
   "execution_count": 52,
   "metadata": {},
   "outputs": [],
   "source": [
    "test = res.get(url_click)"
   ]
  },
  {
   "cell_type": "code",
   "execution_count": 57,
   "metadata": {},
   "outputs": [],
   "source": [
    "soup = BeautifulSoup(test.text, \"lxml\")"
   ]
  },
  {
   "cell_type": "code",
   "execution_count": 59,
   "metadata": {},
   "outputs": [],
   "source": [
    "click = (soup.findAll('li',{'class':'keyWord_65'}))"
   ]
  },
  {
   "cell_type": "code",
   "execution_count": 60,
   "metadata": {},
   "outputs": [
    {
     "data": {
      "text/plain": [
       "[<li class=\"keyWord_65\">\n",
       " <input name=\"contract\" onclick=\"javascript:setContract_id('a1809');\" type=\"radio\" value=\"\"/>a1809\n",
       "                         \t\t</li>, <li class=\"keyWord_65\">\n",
       " <input name=\"contract\" onclick=\"javascript:setContract_id('a1901');\" type=\"radio\" value=\"\"/>a1901\n",
       "                         \t\t</li>]"
      ]
     },
     "execution_count": 60,
     "metadata": {},
     "output_type": "execute_result"
    }
   ],
   "source": [
    "click"
   ]
  },
  {
   "cell_type": "code",
   "execution_count": null,
   "metadata": {},
   "outputs": [],
   "source": []
  }
 ],
 "metadata": {
  "kernelspec": {
   "display_name": "Python 3",
   "language": "python",
   "name": "python3"
  },
  "language_info": {
   "codemirror_mode": {
    "name": "ipython",
    "version": 3
   },
   "file_extension": ".py",
   "mimetype": "text/x-python",
   "name": "python",
   "nbconvert_exporter": "python",
   "pygments_lexer": "ipython3",
   "version": "3.6.5"
  }
 },
 "nbformat": 4,
 "nbformat_minor": 2
}
