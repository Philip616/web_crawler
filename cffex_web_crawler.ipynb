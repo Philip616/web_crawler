{
 "cells": [
  {
   "cell_type": "code",
   "execution_count": 1,
   "metadata": {
    "collapsed": true
   },
   "outputs": [],
   "source": [
    "import requests\n",
    "import pandas as pd\n",
    "import csv\n",
    "import time\n",
    "import random"
   ]
  },
  {
   "cell_type": "code",
   "execution_count": 18,
   "metadata": {
    "collapsed": true
   },
   "outputs": [],
   "source": [
    "url = 'http://www.cffex.com.cn/sj/ccpm/'\n",
    "url_excel = 'SSE50.xlsx'\n",
    "date = pd.read_excel(url_excel)\n",
    "data = date.dropna(subset=['FFBK15 INDEX'])\n",
    "\n",
    "for x in range(0,len(data)):\n",
    "    split_date = date['Date'][x].strftime('%Y-%m-%d').split('-')\n",
    "    res = requests.get(url+split_date[0]+split_date[1]+\"/\"+split_date[2]+'/IH_1.csv')\n",
    "    \n",
    "    decoded_content = res.content.decode('gb2312')\n",
    "    cr = csv.reader(decoded_content.splitlines(), delimiter=',')\n",
    "    data = pd.DataFrame(list(cr))\n",
    "    data.to_csv('./上证50/'+split_date[0]+split_date[1]+split_date[2]+'.csv',encoding='UTF-8-SIG',header=None,index=None)\n",
    "    time.sleep(random.randrange(2,4))"
   ]
  },
  {
   "cell_type": "code",
   "execution_count": 5,
   "metadata": {
    "collapsed": true
   },
   "outputs": [],
   "source": [
    "url_excel = 'TF.xlsx'\n",
    "date = pd.read_excel(url_excel)"
   ]
  },
  {
   "cell_type": "code",
   "execution_count": null,
   "metadata": {
    "collapsed": true
   },
   "outputs": [],
   "source": []
  }
 ],
 "metadata": {
  "kernelspec": {
   "display_name": "Python 3",
   "language": "python",
   "name": "python3"
  },
  "language_info": {
   "codemirror_mode": {
    "name": "ipython",
    "version": 3
   },
   "file_extension": ".py",
   "mimetype": "text/x-python",
   "name": "python",
   "nbconvert_exporter": "python",
   "pygments_lexer": "ipython3",
   "version": "3.6.3"
  }
 },
 "nbformat": 4,
 "nbformat_minor": 2
}
