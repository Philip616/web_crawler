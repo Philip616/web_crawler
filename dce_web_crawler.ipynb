{
 "cells": [
  {
   "cell_type": "markdown",
   "metadata": {},
   "source": [
    "# 大商所"
   ]
  },
  {
   "cell_type": "code",
   "execution_count": 2,
   "metadata": {
    "collapsed": true
   },
   "outputs": [],
   "source": [
    "import requests\n",
    "import time\n",
    "import pandas as pd\n",
    "import random\n",
    "from bs4 import BeautifulSoup "
   ]
  },
  {
   "cell_type": "code",
   "execution_count": 71,
   "metadata": {
    "collapsed": true,
    "scrolled": true
   },
   "outputs": [],
   "source": [
    "date = pd.read_excel('副本鐵礦石交易日期.xlsx')\n",
    "url_excel = 'http://www.dce.com.cn/publicweb/quotesdata/exportMemberDealPosiQuotesData.html'\n",
    "url = 'http://www.dce.com.cn/publicweb/quotesdata/memberDealPosiQuotes.html'\n",
    "\n",
    "#以下是分期獲取的代碼\n",
    "\n",
    "for x in range(0,19):\n",
    "    split_date = date['Date'][x].strftime('%Y-%m-%d').split('-')\n",
    "    \n",
    "    formData = {'memberDealPosiQuotes.variety':'i',\n",
    "            'memberDealPosiQuotes.trade_type':'0',\n",
    "            'year':split_date[0],\n",
    "            'month':str(int(split_date[1])-1),\n",
    "            'day':str(int(split_date[2])),\n",
    "            'contract.variety_id':'i'} \n",
    "    res = requests.post(url,data=formData,stream=True)\n",
    "    soup = BeautifulSoup(res.text,'lxml')\n",
    "    click = (soup.findAll('li',{'class':'keyWord_65'}))\n",
    "    res.close()\n",
    "\n",
    "#到此結束\n",
    "    \n",
    "    for con in click: \n",
    "  \n",
    "        formData = {'memberDealPosiQuotes.variety':'i',\n",
    "                    'memberDealPosiQuotes.trade_type':'0',\n",
    "                    'year':split_date[0],\n",
    "                    'month':str(int(split_date[1])-1),\n",
    "                    'day':str(int(split_date[2])),\n",
    "                    'contract.contract_id':'all',\n",
    "                    'contract.variety_id':'i',\n",
    "                    'exportFlag':'excel'} \n",
    "        \n",
    "        tmp = x\n",
    "        \n",
    "        res = requests.post(url_excel,data=formData,stream=True)\n",
    "        \n",
    "        while(res.status_code != 200):\n",
    "            res = requests.post(url_excel,data=formData,stream=True)\n",
    "            time.sleep(random.randrange(1,3))\n",
    "            \n",
    "        with open('./铁矿石/'+split_date[0]+split_date[1]+split_date[2]+'_'+con.get_text(strip=True)+'.xls', 'wb') as file:\n",
    "            file.write(res.content)\n",
    "        res.close()\n",
    "        time.sleep(random.randrange(1,3))"
   ]
  },
  {
   "cell_type": "code",
   "execution_count": 72,
   "metadata": {
    "collapsed": true,
    "scrolled": true
   },
   "outputs": [],
   "source": [
    "url = 'http://www.dce.com.cn/publicweb/quotesdata/memberDealPosiQuotes.html'\n",
    "\n",
    "#以下是分期獲取的代碼\n",
    "for x in range(890,len(date.dropna())):\n",
    "    split_date = date['Date'][x].strftime('%Y-%m-%d').split('-')\n",
    "    \n",
    "    formData = {'memberDealPosiQuotes.variety':'i',\n",
    "            'memberDealPosiQuotes.trade_type':'0',\n",
    "            'year':split_date[0],\n",
    "            'month':str(int(split_date[1])-1),\n",
    "            'day':str(int(split_date[2])),\n",
    "            'contract.variety_id':'i'} \n",
    "    res = requests.post(url,data=formData,stream=True)\n",
    "    soup = BeautifulSoup(res.text,'lxml')\n",
    "    click = (soup.findAll('li',{'class':'keyWord_65'}))\n",
    "    res.close()\n",
    "    \n",
    "    tmp = x\n",
    "    \n",
    "    for con in click: \n",
    "        data = pd.read_excel('./铁矿石_分类/'+split_date[0]+split_date[1]+split_date[2]+'_'+con.get_text(strip=True)+'.xls')                  \n",
    "        data.to_csv('./铁矿石_分类2/'+split_date[0]+split_date[1]+split_date[2]+'_'+con.get_text(strip=True)+'.csv',encoding='UTF-8-SIG',index=None)"
   ]
  },
  {
   "cell_type": "code",
   "execution_count": 67,
   "metadata": {},
   "outputs": [
    {
     "data": {
      "text/plain": [
       "Timestamp('2014-12-23 00:00:00')"
      ]
     },
     "execution_count": 67,
     "metadata": {},
     "output_type": "execute_result"
    }
   ],
   "source": [
    "date['Date'][70]"
   ]
  },
  {
   "cell_type": "code",
   "execution_count": 70,
   "metadata": {},
   "outputs": [
    {
     "data": {
      "text/plain": [
       "890"
      ]
     },
     "execution_count": 70,
     "metadata": {},
     "output_type": "execute_result"
    }
   ],
   "source": [
    "x"
   ]
  },
  {
   "cell_type": "code",
   "execution_count": null,
   "metadata": {
    "collapsed": true
   },
   "outputs": [],
   "source": []
  }
 ],
 "metadata": {
  "kernelspec": {
   "display_name": "Python 3",
   "language": "python",
   "name": "python3"
  },
  "language_info": {
   "codemirror_mode": {
    "name": "ipython",
    "version": 3
   },
   "file_extension": ".py",
   "mimetype": "text/x-python",
   "name": "python",
   "nbconvert_exporter": "python",
   "pygments_lexer": "ipython3",
   "version": "3.6.3"
  }
 },
 "nbformat": 4,
 "nbformat_minor": 2
}
