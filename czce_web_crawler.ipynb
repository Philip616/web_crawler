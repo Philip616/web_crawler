{
 "cells": [
  {
   "cell_type": "code",
   "execution_count": 1,
   "metadata": {},
   "outputs": [],
   "source": [
    "import requests\n",
    "import pandas as pd\n",
    "import datetime\n",
    "import time\n",
    "import random\n",
    "from bs4 import BeautifulSoup\n",
    "import os"
   ]
  },
  {
   "cell_type": "markdown",
   "metadata": {},
   "source": [
    "# 2009~2010抓取"
   ]
  },
  {
   "cell_type": "code",
   "execution_count": null,
   "metadata": {
    "scrolled": true
   },
   "outputs": [],
   "source": [
    "contract_id = {'棉花':\"CF\",'菜油':'OI','白糖':'SR','PTA':'TA','强麦':'WH','硬麦':'PM','早籼':'RI'}\n",
    "date = datetime.datetime(2009,1,19)\n",
    "\n",
    "while (date == datetime.datetime(2009,1,19)):\n",
    "    \n",
    "    url = \"http://www.czce.com.cn/portal/exchange/jyxx/pm/pm\" + date.strftime('%Y%m%d') + \".html\"\n",
    "    res = requests.get(url)\n",
    "    \n",
    "    while(res.status_code != 200):\n",
    "        date = date + datetime.timedelta(days = 1)\n",
    "        res = requests.get(url)\n",
    "        time.sleep(random.randrange(2,5))\n",
    "        \n",
    "    soup = BeautifulSoup(res.content.decode('gb2312'),\"lxml\")\n",
    "    \n",
    "    temp = []\n",
    "    data_table = []\n",
    "    name_count = 0\n",
    "    \n",
    "    name = []\n",
    "    for i in soup.select(\"table\")[1].find_all('div'):\n",
    "        name.append(i.get_text().split()[1])\n",
    "    \n",
    "\n",
    "    for i in range(2,len(soup.select(\"table\"))):\n",
    "\n",
    "        for table in soup.select(\"table\")[i].find_all('td'):\n",
    "            temp.append(table.get_text().strip())\n",
    "\n",
    "            if(temp[0] == \"\"):\n",
    "                temp.clear()\n",
    "                data = pd.DataFrame(data_table)\n",
    "\n",
    "                if (len(name[name_count]) < 3):\n",
    "                    data.to_csv(\"../各交易所期貨持倉量/鄭商所/更新_分類/\" + contract_id[name[name_count]] + \"_\" + date.strftime('%Y%m%d') + \".csv\",index=None)\n",
    "                else:\n",
    "                    data.to_csv(\"../各交易所期貨持倉量/鄭商所/更新_分類/\" + name[name_count] + \"_\" + date.strftime('%Y%m%d') + \".csv\",index=None)\n",
    "\n",
    "                name_count += 1\n",
    "                data_table.clear()\n",
    "                continue\n",
    "\n",
    "            if (len(temp)>=10):            \n",
    "                data_table.append(list(temp))\n",
    "                temp.clear()\n",
    "                \n",
    "    date = date + datetime.timedelta(days = 1)"
   ]
  },
  {
   "cell_type": "markdown",
   "metadata": {},
   "source": [
    "# 2010之後抓取"
   ]
  },
  {
   "cell_type": "code",
   "execution_count": 29,
   "metadata": {},
   "outputs": [],
   "source": [
    "date = datetime.datetime(2015,10,30)\n",
    "\n",
    "while (date <= datetime.datetime(2018,5,24)):\n",
    "    splite_date = str(date).split()[0].split('-')\n",
    "    \n",
    "    #2010-08-25~2015-09-30的網址\n",
    "#     url_excel = (\"http://www.czce.com.cn/portal/exchange/%s/datatradeholding/%s.txt\" % \\\n",
    "#                  (splite_date[0],splite_date[0]+splite_date[1]+splite_date[2]))\n",
    "\n",
    "    url_excel = (\"http://www.czce.com.cn/portal/DFSStaticFiles/Future/%s/%s/FutureDataHolding.txt\" % \\\n",
    "    (splite_date[0],splite_date[0]+splite_date[1]+splite_date[2]))\n",
    "    \n",
    "    res = requests.get(url_excel)\n",
    "    \n",
    "    while(res.status_code != 200 and date < datetime.datetime.now()):\n",
    "        date = date + datetime.timedelta(days = 1)    \n",
    "        splite_date = str(date).split()[0].split('-')\n",
    "    \n",
    "        url_excel = (\"http://www.czce.com.cn/portal/DFSStaticFiles/Future/%s/%s/FutureDataHolding.txt\" % \\\n",
    "        (splite_date[0],splite_date[0]+splite_date[1]+splite_date[2]))\n",
    "        \n",
    "        res = requests.get(url_excel)\n",
    "        time.sleep(random.randrange(2,5))\n",
    "\n",
    "    with open(\"../各交易所期貨持倉量/鄭商所/更新/\"+splite_date[0]+splite_date[1]+splite_date[2]+\".txt\",'wb') as file:\n",
    "        file.write(res.content)\n",
    "        file.close()\n",
    "        \n",
    "    time.sleep(random.randrange(1,3)) \n",
    "    date = date + datetime.timedelta(days = 1)"
   ]
  },
  {
   "cell_type": "markdown",
   "metadata": {},
   "source": [
    "# 資料分開"
   ]
  },
  {
   "cell_type": "code",
   "execution_count": 38,
   "metadata": {
    "scrolled": true
   },
   "outputs": [
    {
     "ename": "KeyboardInterrupt",
     "evalue": "",
     "output_type": "error",
     "traceback": [
      "\u001b[1;31m---------------------------------------------------------------------------\u001b[0m",
      "\u001b[1;31mKeyboardInterrupt\u001b[0m                         Traceback (most recent call last)",
      "\u001b[1;32m<ipython-input-38-c8b9ad283c63>\u001b[0m in \u001b[0;36m<module>\u001b[1;34m()\u001b[0m\n\u001b[0;32m     32\u001b[0m \u001b[1;33m\u001b[0m\u001b[0m\n\u001b[0;32m     33\u001b[0m             \u001b[0mvalues\u001b[0m\u001b[1;33m.\u001b[0m\u001b[0mappend\u001b[0m\u001b[1;33m(\u001b[0m\u001b[0mlist\u001b[0m\u001b[1;33m(\u001b[0m\u001b[0mdata\u001b[0m\u001b[1;33m.\u001b[0m\u001b[0mloc\u001b[0m\u001b[1;33m[\u001b[0m\u001b[0mi\u001b[0m\u001b[1;33m]\u001b[0m\u001b[1;33m)\u001b[0m\u001b[1;33m)\u001b[0m\u001b[1;33m\u001b[0m\u001b[0m\n\u001b[1;32m---> 34\u001b[1;33m             \u001b[0mdf\u001b[0m \u001b[1;33m=\u001b[0m \u001b[0mpd\u001b[0m\u001b[1;33m.\u001b[0m\u001b[0mDataFrame\u001b[0m\u001b[1;33m(\u001b[0m\u001b[0mvalues\u001b[0m\u001b[1;33m)\u001b[0m\u001b[1;33m\u001b[0m\u001b[0m\n\u001b[0m\u001b[0;32m     35\u001b[0m \u001b[1;33m\u001b[0m\u001b[0m\n\u001b[0;32m     36\u001b[0m             \u001b[1;32mif\u001b[0m\u001b[1;33m(\u001b[0m\u001b[0mcount\u001b[0m \u001b[1;33m==\u001b[0m \u001b[1;36m0\u001b[0m\u001b[1;33m)\u001b[0m\u001b[1;33m:\u001b[0m\u001b[1;33m\u001b[0m\u001b[0m\n",
      "\u001b[1;32m~\\Anaconda3\\lib\\site-packages\\pandas\\core\\frame.py\u001b[0m in \u001b[0;36m__init__\u001b[1;34m(self, data, index, columns, dtype, copy)\u001b[0m\n\u001b[0;32m    380\u001b[0m \u001b[1;33m\u001b[0m\u001b[0m\n\u001b[0;32m    381\u001b[0m                     mgr = _arrays_to_mgr(arrays, columns, index, columns,\n\u001b[1;32m--> 382\u001b[1;33m                                          dtype=dtype)\n\u001b[0m\u001b[0;32m    383\u001b[0m                 \u001b[1;32melse\u001b[0m\u001b[1;33m:\u001b[0m\u001b[1;33m\u001b[0m\u001b[0m\n\u001b[0;32m    384\u001b[0m                     mgr = self._init_ndarray(data, index, columns, dtype=dtype,\n",
      "\u001b[1;32m~\\Anaconda3\\lib\\site-packages\\pandas\\core\\frame.py\u001b[0m in \u001b[0;36m_arrays_to_mgr\u001b[1;34m(arrays, arr_names, index, columns, dtype)\u001b[0m\n\u001b[0;32m   6171\u001b[0m     \u001b[0maxes\u001b[0m \u001b[1;33m=\u001b[0m \u001b[1;33m[\u001b[0m\u001b[0m_ensure_index\u001b[0m\u001b[1;33m(\u001b[0m\u001b[0mcolumns\u001b[0m\u001b[1;33m)\u001b[0m\u001b[1;33m,\u001b[0m \u001b[0m_ensure_index\u001b[0m\u001b[1;33m(\u001b[0m\u001b[0mindex\u001b[0m\u001b[1;33m)\u001b[0m\u001b[1;33m]\u001b[0m\u001b[1;33m\u001b[0m\u001b[0m\n\u001b[0;32m   6172\u001b[0m \u001b[1;33m\u001b[0m\u001b[0m\n\u001b[1;32m-> 6173\u001b[1;33m     \u001b[1;32mreturn\u001b[0m \u001b[0mcreate_block_manager_from_arrays\u001b[0m\u001b[1;33m(\u001b[0m\u001b[0marrays\u001b[0m\u001b[1;33m,\u001b[0m \u001b[0marr_names\u001b[0m\u001b[1;33m,\u001b[0m \u001b[0maxes\u001b[0m\u001b[1;33m)\u001b[0m\u001b[1;33m\u001b[0m\u001b[0m\n\u001b[0m\u001b[0;32m   6174\u001b[0m \u001b[1;33m\u001b[0m\u001b[0m\n\u001b[0;32m   6175\u001b[0m \u001b[1;33m\u001b[0m\u001b[0m\n",
      "\u001b[1;32m~\\Anaconda3\\lib\\site-packages\\pandas\\core\\internals.py\u001b[0m in \u001b[0;36mcreate_block_manager_from_arrays\u001b[1;34m(arrays, names, axes)\u001b[0m\n\u001b[0;32m   4635\u001b[0m \u001b[1;33m\u001b[0m\u001b[0m\n\u001b[0;32m   4636\u001b[0m     \u001b[1;32mtry\u001b[0m\u001b[1;33m:\u001b[0m\u001b[1;33m\u001b[0m\u001b[0m\n\u001b[1;32m-> 4637\u001b[1;33m         \u001b[0mblocks\u001b[0m \u001b[1;33m=\u001b[0m \u001b[0mform_blocks\u001b[0m\u001b[1;33m(\u001b[0m\u001b[0marrays\u001b[0m\u001b[1;33m,\u001b[0m \u001b[0mnames\u001b[0m\u001b[1;33m,\u001b[0m \u001b[0maxes\u001b[0m\u001b[1;33m)\u001b[0m\u001b[1;33m\u001b[0m\u001b[0m\n\u001b[0m\u001b[0;32m   4638\u001b[0m         \u001b[0mmgr\u001b[0m \u001b[1;33m=\u001b[0m \u001b[0mBlockManager\u001b[0m\u001b[1;33m(\u001b[0m\u001b[0mblocks\u001b[0m\u001b[1;33m,\u001b[0m \u001b[0maxes\u001b[0m\u001b[1;33m)\u001b[0m\u001b[1;33m\u001b[0m\u001b[0m\n\u001b[0;32m   4639\u001b[0m         \u001b[0mmgr\u001b[0m\u001b[1;33m.\u001b[0m\u001b[0m_consolidate_inplace\u001b[0m\u001b[1;33m(\u001b[0m\u001b[1;33m)\u001b[0m\u001b[1;33m\u001b[0m\u001b[0m\n",
      "\u001b[1;32m~\\Anaconda3\\lib\\site-packages\\pandas\\core\\internals.py\u001b[0m in \u001b[0;36mform_blocks\u001b[1;34m(arrays, names, axes)\u001b[0m\n\u001b[0;32m   4659\u001b[0m     \u001b[0mnames_idx\u001b[0m \u001b[1;33m=\u001b[0m \u001b[0mIndex\u001b[0m\u001b[1;33m(\u001b[0m\u001b[0mnames\u001b[0m\u001b[1;33m)\u001b[0m\u001b[1;33m\u001b[0m\u001b[0m\n\u001b[0;32m   4660\u001b[0m     \u001b[1;32mif\u001b[0m \u001b[0mnames_idx\u001b[0m\u001b[1;33m.\u001b[0m\u001b[0mequals\u001b[0m\u001b[1;33m(\u001b[0m\u001b[0maxes\u001b[0m\u001b[1;33m[\u001b[0m\u001b[1;36m0\u001b[0m\u001b[1;33m]\u001b[0m\u001b[1;33m)\u001b[0m\u001b[1;33m:\u001b[0m\u001b[1;33m\u001b[0m\u001b[0m\n\u001b[1;32m-> 4661\u001b[1;33m         \u001b[0mnames_indexer\u001b[0m \u001b[1;33m=\u001b[0m \u001b[0mnp\u001b[0m\u001b[1;33m.\u001b[0m\u001b[0marange\u001b[0m\u001b[1;33m(\u001b[0m\u001b[0mlen\u001b[0m\u001b[1;33m(\u001b[0m\u001b[0mnames_idx\u001b[0m\u001b[1;33m)\u001b[0m\u001b[1;33m)\u001b[0m\u001b[1;33m\u001b[0m\u001b[0m\n\u001b[0m\u001b[0;32m   4662\u001b[0m     \u001b[1;32melse\u001b[0m\u001b[1;33m:\u001b[0m\u001b[1;33m\u001b[0m\u001b[0m\n\u001b[0;32m   4663\u001b[0m         \u001b[1;32massert\u001b[0m \u001b[0mnames_idx\u001b[0m\u001b[1;33m.\u001b[0m\u001b[0mintersection\u001b[0m\u001b[1;33m(\u001b[0m\u001b[0maxes\u001b[0m\u001b[1;33m[\u001b[0m\u001b[1;36m0\u001b[0m\u001b[1;33m]\u001b[0m\u001b[1;33m)\u001b[0m\u001b[1;33m.\u001b[0m\u001b[0mis_unique\u001b[0m\u001b[1;33m\u001b[0m\u001b[0m\n",
      "\u001b[1;31mKeyboardInterrupt\u001b[0m: "
     ]
    }
   ],
   "source": [
    "def find_zh(name_id):\n",
    "    zh = \"\"\n",
    "    for i in name_id:\n",
    "        if (ord(i) > 255):\n",
    "            zh += i\n",
    "    if(zh == \"\"):\n",
    "        return name_id\n",
    "    \n",
    "    return zh\n",
    "\n",
    "DATA_DIR = '../各交易所期貨持倉量/鄭商所/更新/'\n",
    "contract_id = {'棉花':\"CF\",'菜油':'OI','白糖':'SR','PTA':'TA','强麦':'WH','硬麦':'PM','早籼':'RI','甲醇':'MA',\\\n",
    "               '普麦':'PM','玻璃':'FG','菜粕':'RM','粳稻':'JR','菜籽':'RS','煤':'ZC','动力煤':'ZC',\\\n",
    "               '晚籼':'LR','硅铁':'SF','锰硅':'SM','苹果':'AP','棉纱':'CY'}\n",
    "values = []\n",
    "\n",
    "for filename in os.listdir(DATA_DIR):\n",
    "    \n",
    "    count = 0\n",
    "    date = filename.split('.txt')[0]\n",
    "    \n",
    "#     if(datetime.datetime.strptime(date,\"%Y%m%d\") <= datetime.datetime(2017,12,22)):\n",
    "#         continue\n",
    "    \n",
    "#     if(datetime.datetime.strptime(date,\"%Y%m%d\") > datetime.datetime(2015,11,10)):\n",
    "#         break\n",
    "        \n",
    "    data = pd.read_table(DATA_DIR + filename,engine='python',sep=\"|\",skiprows=[0,1,2],header=None)\n",
    "    name = pd.read_table(DATA_DIR + filename,engine='python',sep=\"|\",skiprows=[0,1],header=None,index_col=False)\n",
    "\n",
    "    \n",
    "    for i in range(len(data)):\n",
    "        if(data.loc[i][0].strip() == '合计'):\n",
    "            \n",
    "            values.append(list(data.loc[i]))\n",
    "            df = pd.DataFrame(values)    \n",
    "            \n",
    "            if(count == 0):\n",
    "                name_temp = name.iloc[0][0].split()[0].split(\"：\")[1]\n",
    "                name_id = find_zh(name_temp)\n",
    "                \n",
    "                df = df.drop(df.index[0])\n",
    "                df.to_csv(\"../各交易所期貨持倉量/鄭商所/更新_分類/\" + contract_id[name_id] + \"_\" + date + \".csv\",index=None)\n",
    "                count += 1\n",
    "                \n",
    "                name_temp = name.iloc[i+2][0].split()[0].split(\"：\")[1]\n",
    "                name_id = find_zh(name_temp)\n",
    "\n",
    "            elif(len(name_id) <= 4):\n",
    "                df = df.drop(df.index[[0]])\n",
    "                df.to_csv(\"../各交易所期貨持倉量/鄭商所/更新_分類/\" + contract_id[name_id] + \"_\" + date + \".csv\",index=None)\n",
    "                \n",
    "            else:\n",
    "                df = df.drop(df.index[[0]])\n",
    "                df.to_csv(\"../各交易所期貨持倉量/鄭商所/更新_分類/\" + name_id + \"_\" + date + \".csv\",index=None)\n",
    "                                       \n",
    "            if( i+2 <= len(data)):\n",
    "                name_temp = name.iloc[i+2][0].split()[0].split(\"：\")[1]\n",
    "                name_id = find_zh(name_temp)\n",
    "\n",
    "            values.clear()\n",
    "\n",
    "        else:\n",
    "            values.append(list(data.loc[i]))"
   ]
  },
  {
   "cell_type": "code",
   "execution_count": 33,
   "metadata": {},
   "outputs": [],
   "source": [
    "name_temp = name.iloc[0][0].split()[0].split(\"：\")[1]"
   ]
  },
  {
   "cell_type": "code",
   "execution_count": 35,
   "metadata": {},
   "outputs": [
    {
     "data": {
      "text/plain": [
       "'苹果'"
      ]
     },
     "execution_count": 35,
     "metadata": {},
     "output_type": "execute_result"
    }
   ],
   "source": [
    "find_zh(name_temp)"
   ]
  },
  {
   "cell_type": "code",
   "execution_count": 37,
   "metadata": {},
   "outputs": [
    {
     "name": "stdout",
     "output_type": "stream",
     "text": [
      "苹\n",
      "果\n"
     ]
    }
   ],
   "source": [
    "for i in name_temp:\n",
    "    if (ord(i) > 255):\n",
    "        print(i)"
   ]
  },
  {
   "cell_type": "code",
   "execution_count": null,
   "metadata": {},
   "outputs": [],
   "source": []
  }
 ],
 "metadata": {
  "kernelspec": {
   "display_name": "Python 3",
   "language": "python",
   "name": "python3"
  },
  "language_info": {
   "codemirror_mode": {
    "name": "ipython",
    "version": 3
   },
   "file_extension": ".py",
   "mimetype": "text/x-python",
   "name": "python",
   "nbconvert_exporter": "python",
   "pygments_lexer": "ipython3",
   "version": "3.6.4"
  }
 },
 "nbformat": 4,
 "nbformat_minor": 2
}
