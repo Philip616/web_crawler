{
 "cells": [
  {
   "cell_type": "code",
   "execution_count": 1,
   "metadata": {
    "collapsed": true
   },
   "outputs": [],
   "source": [
    "import pandas as pd\n",
    "import MySQLdb\n",
    "import os\n",
    "import warnings\n",
    "warnings.filterwarnings(\"ignore\")"
   ]
  },
  {
   "cell_type": "code",
   "execution_count": 24,
   "metadata": {
    "collapsed": true
   },
   "outputs": [],
   "source": [
    "db = MySQLdb.connect(\"localhost\",\"root\",\"123456\")\n",
    "db.set_character_set(\"gbk\")"
   ]
  },
  {
   "cell_type": "code",
   "execution_count": 2,
   "metadata": {
    "collapsed": true
   },
   "outputs": [],
   "source": [
    "db = MySQLdb.connect(\"47.100.14.137\",\"hyps44413\",\"Nanhua\")\n",
    "db.set_character_set('gbk')"
   ]
  },
  {
   "cell_type": "markdown",
   "metadata": {},
   "source": [
    "# 一分鐘資料"
   ]
  },
  {
   "cell_type": "code",
   "execution_count": 3,
   "metadata": {
    "collapsed": true
   },
   "outputs": [],
   "source": [
    "#2013以后\n",
    "#DL = {'AY':'A_1','AM':'A_1','AX':'A_1','CS':'CS','FB':'FB','I':'I','JD':'JD','JM':'JM','L':'L',\\\n",
    "#      'BB':'BB','M':'M','PP':'PP','V':'V','Y':'Y','BM':'A_2','CM':'C','PM':'P','JMI':'J'}\n",
    "#DL_O = {'B':'A_2','C':'C','J':'J','P':'P'}\n",
    "\n",
    "#SQ = ['au','bu','fu','hc','rb','ru','wr','ag','al','cu','pb','zn','ni','sn']\n",
    "#SQ = ['SN']\n",
    "\n",
    "\n",
    "#2013以前\n",
    "#DL = {\"aY\":'A_1','aM':'A_1','aX':'A_1','fb':'FB','i':'I','jd':'JD','jM':'JM','l':'L',\\\n",
    "#      'bb':'BB','m':'M','v':'V','y':'Y','bM':'A_2','cM':'C','pM':'P','jMI':'J'}\n",
    "#DL_O = {'b':'A_2','c':'C','j':'J','p':'P'}\n",
    "\n",
    "#SQ = ['AU','BU','FU','HC','RB','RU','WR','AG','AL','CU','PB','ZN','NI','SN']\n",
    "\n",
    "ZZ = {'CF':'CF','CY':'CY','FG':'FG','JR':'JR','LR':'LR','MA':'MA','ME':'MA','OI':'OI','ER':'RI','RI':'RI','RM':'RM','PM':'PM',\\\n",
    "      'RS':'RS','SF':'SF','SM':'SM','SR':'SR','WH':'WH','ZC':'ZC','TC':'ZC','TA':'TA','WT':'WT','WS':'WH','RO':'OI'}"
   ]
  },
  {
   "cell_type": "code",
   "execution_count": null,
   "metadata": {
    "scrolled": true
   },
   "outputs": [
    {
     "name": "stdout",
     "output_type": "stream",
     "text": [
      "CF01\n",
      "CF03\n",
      "CF05\n",
      "CF07\n",
      "CF09\n"
     ]
    }
   ],
   "source": [
    "#DL_future_type_list = [\"aM\",\"aX\",\"aY\",\"bb\",\"bM\",\"cM\",\"fb\",\"i\",\"jM\",\"jd\",\"l\",\"m\",\"pM\",\"v\",\"y\"]\n",
    "#DL_O_future_type_list = [\"b\",\"c\",\"j\",\"p\"]\n",
    "ZZ_future_type_list = ['CF','CY','FG','JR','LR','PM','ME','MA','RO','OI','RI','ER','RM','RS','SF','SM','SR','WS','WH','TA','TC','ZC']\n",
    "\n",
    "DATA_DIR = \"../1分钟 商品期货/商品期货1分钟2016/ZZ\"\n",
    "\n",
    "for future_type in ZZ_future_type_list:\n",
    "    #大商所\n",
    "    #SQL_INSERT(DL[future_type],DATA_DIR,future_type)\n",
    "    \n",
    "    #上期所\n",
    "    #SQL_INSERT(future_type.lower(),DATA_DIR,future_type) \n",
    "    #SQL_INSERT(\"sq_o\",DATA_DIR,future_type)\n",
    "    \n",
    "    #鄭商所\n",
    "    SQL_INSERT(ZZ[future_type],DATA_DIR,future_type)"
   ]
  },
  {
   "cell_type": "code",
   "execution_count": 7,
   "metadata": {},
   "outputs": [],
   "source": [
    "def SQL_INSERT(dbname,DATA_DIR,future_type):    \n",
    "    for filename in os.listdir(DATA_DIR): \n",
    "        cursor = db.cursor()\n",
    "\n",
    "        sql = \"CREATE DATABASE IF NOT EXISTS \" + dbname\n",
    "        cursor.execute(sql)\n",
    "\n",
    "        get_name = filename.split(\".csv\")[0]\n",
    "        get_contract_name = get_name.split(\"ZZ\")[1]\n",
    "\n",
    "        if(get_contract_name.find(future_type) == 0):\n",
    "            print(get_contract_name)\n",
    "            sql = \"CREATE TABLE IF NOT EXISTS \" + dbname +\".\"+ get_contract_name + \\\n",
    "                  \" (Date DATE,\\\n",
    "                    Time TIME(5),\\\n",
    "                    Open FLOAT(5),\\\n",
    "                    High FLOAT(5),\\\n",
    "                    Low FLOAT(5),\\\n",
    "                    Clos FLOAT(5),\\\n",
    "                    Volume FLOAT(5),\\\n",
    "                    OI FLOAT(5),\\\n",
    "                    primary key(Date,Time))\"\n",
    "            cursor.execute(sql)\n",
    "            data = pd.read_csv(DATA_DIR+\"/\"+filename,header=None,engine='python')\n",
    "\n",
    "            values = []\n",
    "            delete_values = []\n",
    "            for i in range(len(data)):\n",
    "                values.append((data.iloc[i][0],data.iloc[i][1],data.iloc[i][2],data.iloc[i][3],data.iloc[i][4],\n",
    "                                data.iloc[i][5],data.iloc[i][6],data.iloc[i][7]))\n",
    "                delete_values.append((data.iloc[i][0],data.iloc[i][1]))\n",
    "                \n",
    "            #sql = \"DELETE FROM \" + dbname + \".\" + get_contract_name + \" WHERE Date = %s and Time = %s\"\n",
    "            #cursor.executemany(sql,delete_values)\n",
    "            #db.commit()\n",
    "            \n",
    "            sql = \"INSERT INTO \" + dbname + \".\" + get_contract_name + \" VALUES (%s,%s,%s,%s,%s,%s,%s,%s)\"\n",
    "            cursor.executemany(sql,values)\n",
    "            db.commit()\n",
    "        cursor.close()"
   ]
  },
  {
   "cell_type": "markdown",
   "metadata": {},
   "source": [
    "# 大商所資料更新"
   ]
  },
  {
   "cell_type": "code",
   "execution_count": 29,
   "metadata": {
    "collapsed": true
   },
   "outputs": [
    {
     "ename": "FileNotFoundError",
     "evalue": "[Errno 2] No such file or directory: '../min data/DCE MIN DATA/~$ACA.xlsx'",
     "output_type": "error",
     "traceback": [
      "\u001b[1;31m---------------------------------------------------------------------------\u001b[0m",
      "\u001b[1;31mFileNotFoundError\u001b[0m                         Traceback (most recent call last)",
      "\u001b[1;32m<ipython-input-29-cbb2f5a44b9c>\u001b[0m in \u001b[0;36m<module>\u001b[1;34m()\u001b[0m\n\u001b[0;32m      2\u001b[0m \u001b[1;32mfor\u001b[0m \u001b[0mfilename\u001b[0m \u001b[1;32min\u001b[0m \u001b[0mos\u001b[0m\u001b[1;33m.\u001b[0m\u001b[0mlistdir\u001b[0m\u001b[1;33m(\u001b[0m\u001b[0mDATA_DIR\u001b[0m\u001b[1;33m)\u001b[0m\u001b[1;33m:\u001b[0m\u001b[1;33m\u001b[0m\u001b[0m\n\u001b[0;32m      3\u001b[0m \u001b[1;33m\u001b[0m\u001b[0m\n\u001b[1;32m----> 4\u001b[1;33m     \u001b[0mdata\u001b[0m \u001b[1;33m=\u001b[0m \u001b[0mpd\u001b[0m\u001b[1;33m.\u001b[0m\u001b[0mread_excel\u001b[0m\u001b[1;33m(\u001b[0m\u001b[0mDATA_DIR\u001b[0m\u001b[1;33m+\u001b[0m\u001b[1;34m\"/\"\u001b[0m\u001b[1;33m+\u001b[0m\u001b[0mfilename\u001b[0m\u001b[1;33m,\u001b[0m\u001b[0mheader\u001b[0m\u001b[1;33m=\u001b[0m\u001b[1;32mNone\u001b[0m\u001b[1;33m)\u001b[0m\u001b[1;33m\u001b[0m\u001b[0m\n\u001b[0m\u001b[0;32m      5\u001b[0m \u001b[1;33m\u001b[0m\u001b[0m\n\u001b[0;32m      6\u001b[0m     \u001b[0mfolderName\u001b[0m \u001b[1;33m=\u001b[0m \u001b[0mfilename\u001b[0m\u001b[1;33m.\u001b[0m\u001b[0msplit\u001b[0m\u001b[1;33m(\u001b[0m\u001b[1;34m\".xlsx\"\u001b[0m\u001b[1;33m)\u001b[0m\u001b[1;33m[\u001b[0m\u001b[1;36m0\u001b[0m\u001b[1;33m]\u001b[0m\u001b[1;33m\u001b[0m\u001b[0m\n",
      "\u001b[1;32m~\\Anaconda3\\lib\\site-packages\\pandas\\io\\excel.py\u001b[0m in \u001b[0;36mread_excel\u001b[1;34m(io, sheetname, header, skiprows, skip_footer, index_col, names, parse_cols, parse_dates, date_parser, na_values, thousands, convert_float, has_index_names, converters, dtype, true_values, false_values, engine, squeeze, **kwds)\u001b[0m\n\u001b[0;32m    201\u001b[0m \u001b[1;33m\u001b[0m\u001b[0m\n\u001b[0;32m    202\u001b[0m     \u001b[1;32mif\u001b[0m \u001b[1;32mnot\u001b[0m \u001b[0misinstance\u001b[0m\u001b[1;33m(\u001b[0m\u001b[0mio\u001b[0m\u001b[1;33m,\u001b[0m \u001b[0mExcelFile\u001b[0m\u001b[1;33m)\u001b[0m\u001b[1;33m:\u001b[0m\u001b[1;33m\u001b[0m\u001b[0m\n\u001b[1;32m--> 203\u001b[1;33m         \u001b[0mio\u001b[0m \u001b[1;33m=\u001b[0m \u001b[0mExcelFile\u001b[0m\u001b[1;33m(\u001b[0m\u001b[0mio\u001b[0m\u001b[1;33m,\u001b[0m \u001b[0mengine\u001b[0m\u001b[1;33m=\u001b[0m\u001b[0mengine\u001b[0m\u001b[1;33m)\u001b[0m\u001b[1;33m\u001b[0m\u001b[0m\n\u001b[0m\u001b[0;32m    204\u001b[0m \u001b[1;33m\u001b[0m\u001b[0m\n\u001b[0;32m    205\u001b[0m     return io._parse_excel(\n",
      "\u001b[1;32m~\\Anaconda3\\lib\\site-packages\\pandas\\io\\excel.py\u001b[0m in \u001b[0;36m__init__\u001b[1;34m(self, io, **kwds)\u001b[0m\n\u001b[0;32m    258\u001b[0m             \u001b[0mself\u001b[0m\u001b[1;33m.\u001b[0m\u001b[0mbook\u001b[0m \u001b[1;33m=\u001b[0m \u001b[0mxlrd\u001b[0m\u001b[1;33m.\u001b[0m\u001b[0mopen_workbook\u001b[0m\u001b[1;33m(\u001b[0m\u001b[0mfile_contents\u001b[0m\u001b[1;33m=\u001b[0m\u001b[0mdata\u001b[0m\u001b[1;33m)\u001b[0m\u001b[1;33m\u001b[0m\u001b[0m\n\u001b[0;32m    259\u001b[0m         \u001b[1;32melif\u001b[0m \u001b[0misinstance\u001b[0m\u001b[1;33m(\u001b[0m\u001b[0mio\u001b[0m\u001b[1;33m,\u001b[0m \u001b[0mcompat\u001b[0m\u001b[1;33m.\u001b[0m\u001b[0mstring_types\u001b[0m\u001b[1;33m)\u001b[0m\u001b[1;33m:\u001b[0m\u001b[1;33m\u001b[0m\u001b[0m\n\u001b[1;32m--> 260\u001b[1;33m             \u001b[0mself\u001b[0m\u001b[1;33m.\u001b[0m\u001b[0mbook\u001b[0m \u001b[1;33m=\u001b[0m \u001b[0mxlrd\u001b[0m\u001b[1;33m.\u001b[0m\u001b[0mopen_workbook\u001b[0m\u001b[1;33m(\u001b[0m\u001b[0mio\u001b[0m\u001b[1;33m)\u001b[0m\u001b[1;33m\u001b[0m\u001b[0m\n\u001b[0m\u001b[0;32m    261\u001b[0m         \u001b[1;32melse\u001b[0m\u001b[1;33m:\u001b[0m\u001b[1;33m\u001b[0m\u001b[0m\n\u001b[0;32m    262\u001b[0m             raise ValueError('Must explicitly set engine if not passing in'\n",
      "\u001b[1;32m~\\Anaconda3\\lib\\site-packages\\xlrd\\__init__.py\u001b[0m in \u001b[0;36mopen_workbook\u001b[1;34m(filename, logfile, verbosity, use_mmap, file_contents, encoding_override, formatting_info, on_demand, ragged_rows)\u001b[0m\n\u001b[0;32m    114\u001b[0m         \u001b[0mpeek\u001b[0m \u001b[1;33m=\u001b[0m \u001b[0mfile_contents\u001b[0m\u001b[1;33m[\u001b[0m\u001b[1;33m:\u001b[0m\u001b[0mpeeksz\u001b[0m\u001b[1;33m]\u001b[0m\u001b[1;33m\u001b[0m\u001b[0m\n\u001b[0;32m    115\u001b[0m     \u001b[1;32melse\u001b[0m\u001b[1;33m:\u001b[0m\u001b[1;33m\u001b[0m\u001b[0m\n\u001b[1;32m--> 116\u001b[1;33m         \u001b[1;32mwith\u001b[0m \u001b[0mopen\u001b[0m\u001b[1;33m(\u001b[0m\u001b[0mfilename\u001b[0m\u001b[1;33m,\u001b[0m \u001b[1;34m\"rb\"\u001b[0m\u001b[1;33m)\u001b[0m \u001b[1;32mas\u001b[0m \u001b[0mf\u001b[0m\u001b[1;33m:\u001b[0m\u001b[1;33m\u001b[0m\u001b[0m\n\u001b[0m\u001b[0;32m    117\u001b[0m             \u001b[0mpeek\u001b[0m \u001b[1;33m=\u001b[0m \u001b[0mf\u001b[0m\u001b[1;33m.\u001b[0m\u001b[0mread\u001b[0m\u001b[1;33m(\u001b[0m\u001b[0mpeeksz\u001b[0m\u001b[1;33m)\u001b[0m\u001b[1;33m\u001b[0m\u001b[0m\n\u001b[0;32m    118\u001b[0m     \u001b[1;32mif\u001b[0m \u001b[0mpeek\u001b[0m \u001b[1;33m==\u001b[0m \u001b[1;34mb\"PK\\x03\\x04\"\u001b[0m\u001b[1;33m:\u001b[0m \u001b[1;31m# a ZIP file\u001b[0m\u001b[1;33m\u001b[0m\u001b[0m\n",
      "\u001b[1;31mFileNotFoundError\u001b[0m: [Errno 2] No such file or directory: '../min data/DCE MIN DATA/~$ACA.xlsx'"
     ]
    }
   ],
   "source": [
    "DATA_DIR = \"../min data/DCE MIN DATA\"\n",
    "for filename in os.listdir(DATA_DIR):\n",
    "    \n",
    "    data = pd.read_excel(DATA_DIR+\"/\"+filename,header=None)\n",
    "    \n",
    "    folderName = filename.split(\".xlsx\")[0]\n",
    "    \n",
    "    name_column = 0\n",
    "    column = 0\n",
    "    next_column = 8\n",
    "    while column < len(data.loc[0]):\n",
    "        name = data.iloc[0][name_column]\n",
    "        split_data = data.iloc[2::,column:next_column]\n",
    "        \n",
    "        split_data = split_data.drop([3])       \n",
    "        split_data = split_data.dropna(how='all')\n",
    "        \n",
    "        split_data.to_csv(\"../DCE min/\" + folderName + \"/\" + name.strip() + \".csv\",header=None,index=None)\n",
    "        \n",
    "        name_column += 8\n",
    "        column += 8\n",
    "        next_column += 8\n",
    "    "
   ]
  },
  {
   "cell_type": "code",
   "execution_count": null,
   "metadata": {
    "collapsed": true
   },
   "outputs": [],
   "source": [
    "DATA_DIR = \"../DCE min/ACA\"\n",
    "for filename in os.listdir(DATA_DIR):\n",
    "    data = pd.read_csv(DATA_DIR+\"/\"+filename,header=None) "
   ]
  }
 ],
 "metadata": {
  "kernelspec": {
   "display_name": "Python 3",
   "language": "python",
   "name": "python3"
  },
  "language_info": {
   "codemirror_mode": {
    "name": "ipython",
    "version": 3
   },
   "file_extension": ".py",
   "mimetype": "text/x-python",
   "name": "python",
   "nbconvert_exporter": "python",
   "pygments_lexer": "ipython3",
   "version": "3.6.3"
  }
 },
 "nbformat": 4,
 "nbformat_minor": 2
}
