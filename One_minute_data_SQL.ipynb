{
 "cells": [
  {
   "cell_type": "code",
   "execution_count": 2,
   "metadata": {
    "collapsed": true
   },
   "outputs": [],
   "source": [
    "import pandas as pd\n",
    "import MySQLdb\n",
    "import os\n",
    "import re"
   ]
  },
  {
   "cell_type": "code",
   "execution_count": 51,
   "metadata": {
    "collapsed": true
   },
   "outputs": [],
   "source": [
    "db = MySQLdb.connect(\"localhost\",\"root\",\"0136\")\n",
    "db.set_character_set(\"utf8\")"
   ]
  },
  {
   "cell_type": "code",
   "execution_count": 53,
   "metadata": {
    "scrolled": true
   },
   "outputs": [
    {
     "name": "stderr",
     "output_type": "stream",
     "text": [
      "d:\\Program Files\\Anaconda2\\envs\\py36\\lib\\site-packages\\ipykernel\\__main__.py:7: Warning: (1007, \"Can't create database 'ay'; database exists\")\n",
      "d:\\Program Files\\Anaconda2\\envs\\py36\\lib\\site-packages\\ipykernel\\__main__.py:19: Warning: (1050, \"Table 'ay01' already exists\")\n"
     ]
    },
    {
     "name": "stdout",
     "output_type": "stream",
     "text": [
      "list index out of range\n",
      "list index out of range\n",
      "list index out of range\n",
      "list index out of range\n",
      "list index out of range\n"
     ]
    },
    {
     "name": "stderr",
     "output_type": "stream",
     "text": [
      "d:\\Program Files\\Anaconda2\\envs\\py36\\lib\\site-packages\\ipykernel\\__main__.py:19: Warning: (1050, \"Table 'ay03' already exists\")\n",
      "d:\\Program Files\\Anaconda2\\envs\\py36\\lib\\site-packages\\ipykernel\\__main__.py:19: Warning: (1050, \"Table 'ay05' already exists\")\n",
      "d:\\Program Files\\Anaconda2\\envs\\py36\\lib\\site-packages\\ipykernel\\__main__.py:19: Warning: (1050, \"Table 'ay07' already exists\")\n",
      "d:\\Program Files\\Anaconda2\\envs\\py36\\lib\\site-packages\\ipykernel\\__main__.py:19: Warning: (1050, \"Table 'ay09' already exists\")\n",
      "d:\\Program Files\\Anaconda2\\envs\\py36\\lib\\site-packages\\ipykernel\\__main__.py:19: Warning: (1050, \"Table 'ay11' already exists\")\n"
     ]
    }
   ],
   "source": [
    "future_type_list = [\"AY\"]\n",
    "DATA_DIR = \"../1分钟 商品期货/TEST\"\n",
    "for filename in os.listdir(DATA_DIR):\n",
    "    for future_type in future_type_list:\n",
    "        cursor = db.cursor()\n",
    "        sql = \"CREATE DATABASE IF NOT EXISTS \" + future_type\n",
    "        cursor.execute(sql)\n",
    "        \n",
    "        get_name = filename.split(\".csv\")[0]\n",
    "        \n",
    "        database_name = future_type + \".\" + future_type\n",
    "        \n",
    "        try:\n",
    "            get_contract_number = get_name.split(future_type)[1]\n",
    "            sql = \"CREATE TABLE IF NOT EXISTS \" + database_name + get_contract_number + \\\n",
    "                  \" (Date DATE,\\\n",
    "                    Time TIME(5),\\\n",
    "                    Open INT,\\\n",
    "                    High INT,\\\n",
    "                    Low INT,\\\n",
    "                    Clos INT,\\\n",
    "                    Volume INT,\\\n",
    "                    OI INT)\"\n",
    "            cursor.execute(sql)\n",
    "                \n",
    "            data = pd.read_csv(DATA_DIR+\"/\"+filename,header=None,engine='python')\n",
    "            \n",
    "            for i in range(len(data)):\n",
    "                sql = \"INSERT INTO \" + database_name + get_contract_number + \" VALUES (%s,%s,%s,%s,%s,%s,%s,%s)\"\n",
    "                cursor.execute(sql.format(),(data.iloc[i][0],data.iloc[i][1],data.iloc[i][2],data.iloc[i][3],data.iloc[i][4],\n",
    "                                    data.iloc[i][5],data.iloc[i][6],data.iloc[i][7]))\n",
    "                \n",
    "        except BaseException as e:\n",
    "            print (e)\n",
    "            continue\n",
    "    cursor.close()"
   ]
  },
  {
   "cell_type": "code",
   "execution_count": 49,
   "metadata": {
    "collapsed": true
   },
   "outputs": [
    {
     "data": {
      "text/html": [
       "<div>\n",
       "<style>\n",
       "    .dataframe thead tr:only-child th {\n",
       "        text-align: right;\n",
       "    }\n",
       "\n",
       "    .dataframe thead th {\n",
       "        text-align: left;\n",
       "    }\n",
       "\n",
       "    .dataframe tbody tr th {\n",
       "        vertical-align: top;\n",
       "    }\n",
       "</style>\n",
       "<table border=\"1\" class=\"dataframe\">\n",
       "  <thead>\n",
       "    <tr style=\"text-align: right;\">\n",
       "      <th></th>\n",
       "      <th>0</th>\n",
       "      <th>1</th>\n",
       "      <th>2</th>\n",
       "      <th>3</th>\n",
       "      <th>4</th>\n",
       "      <th>5</th>\n",
       "      <th>6</th>\n",
       "      <th>7</th>\n",
       "    </tr>\n",
       "  </thead>\n",
       "  <tbody>\n",
       "    <tr>\n",
       "      <th>0</th>\n",
       "      <td>2016-11-11</td>\n",
       "      <td>09:52</td>\n",
       "      <td>4060.0</td>\n",
       "      <td>4060.0</td>\n",
       "      <td>4060.0</td>\n",
       "      <td>4060.0</td>\n",
       "      <td>2</td>\n",
       "      <td>12</td>\n",
       "    </tr>\n",
       "    <tr>\n",
       "      <th>1</th>\n",
       "      <td>2016-11-11</td>\n",
       "      <td>09:53</td>\n",
       "      <td>4060.0</td>\n",
       "      <td>4060.0</td>\n",
       "      <td>4060.0</td>\n",
       "      <td>4060.0</td>\n",
       "      <td>28</td>\n",
       "      <td>38</td>\n",
       "    </tr>\n",
       "    <tr>\n",
       "      <th>2</th>\n",
       "      <td>2016-11-11</td>\n",
       "      <td>13:55</td>\n",
       "      <td>4044.0</td>\n",
       "      <td>4044.0</td>\n",
       "      <td>4044.0</td>\n",
       "      <td>4044.0</td>\n",
       "      <td>2</td>\n",
       "      <td>38</td>\n",
       "    </tr>\n",
       "    <tr>\n",
       "      <th>3</th>\n",
       "      <td>2016-11-11</td>\n",
       "      <td>21:32</td>\n",
       "      <td>4022.0</td>\n",
       "      <td>4022.0</td>\n",
       "      <td>4022.0</td>\n",
       "      <td>4022.0</td>\n",
       "      <td>2</td>\n",
       "      <td>36</td>\n",
       "    </tr>\n",
       "    <tr>\n",
       "      <th>4</th>\n",
       "      <td>2016-11-14</td>\n",
       "      <td>09:14</td>\n",
       "      <td>3931.0</td>\n",
       "      <td>3931.0</td>\n",
       "      <td>3931.0</td>\n",
       "      <td>3931.0</td>\n",
       "      <td>2</td>\n",
       "      <td>36</td>\n",
       "    </tr>\n",
       "    <tr>\n",
       "      <th>5</th>\n",
       "      <td>2016-11-16</td>\n",
       "      <td>23:29</td>\n",
       "      <td>3925.0</td>\n",
       "      <td>3925.0</td>\n",
       "      <td>3925.0</td>\n",
       "      <td>3925.0</td>\n",
       "      <td>4</td>\n",
       "      <td>40</td>\n",
       "    </tr>\n",
       "    <tr>\n",
       "      <th>6</th>\n",
       "      <td>2016-11-17</td>\n",
       "      <td>10:47</td>\n",
       "      <td>3846.0</td>\n",
       "      <td>3846.0</td>\n",
       "      <td>3846.0</td>\n",
       "      <td>3846.0</td>\n",
       "      <td>2</td>\n",
       "      <td>42</td>\n",
       "    </tr>\n",
       "    <tr>\n",
       "      <th>7</th>\n",
       "      <td>2016-11-17</td>\n",
       "      <td>10:50</td>\n",
       "      <td>3866.0</td>\n",
       "      <td>3866.0</td>\n",
       "      <td>3866.0</td>\n",
       "      <td>3866.0</td>\n",
       "      <td>2</td>\n",
       "      <td>40</td>\n",
       "    </tr>\n",
       "    <tr>\n",
       "      <th>8</th>\n",
       "      <td>2016-11-17</td>\n",
       "      <td>11:23</td>\n",
       "      <td>3878.0</td>\n",
       "      <td>3878.0</td>\n",
       "      <td>3878.0</td>\n",
       "      <td>3878.0</td>\n",
       "      <td>2</td>\n",
       "      <td>40</td>\n",
       "    </tr>\n",
       "    <tr>\n",
       "      <th>9</th>\n",
       "      <td>2016-11-17</td>\n",
       "      <td>13:51</td>\n",
       "      <td>3891.0</td>\n",
       "      <td>3891.0</td>\n",
       "      <td>3891.0</td>\n",
       "      <td>3891.0</td>\n",
       "      <td>2</td>\n",
       "      <td>38</td>\n",
       "    </tr>\n",
       "    <tr>\n",
       "      <th>10</th>\n",
       "      <td>2016-11-17</td>\n",
       "      <td>13:56</td>\n",
       "      <td>3873.0</td>\n",
       "      <td>3873.0</td>\n",
       "      <td>3873.0</td>\n",
       "      <td>3873.0</td>\n",
       "      <td>2</td>\n",
       "      <td>36</td>\n",
       "    </tr>\n",
       "    <tr>\n",
       "      <th>11</th>\n",
       "      <td>2016-11-25</td>\n",
       "      <td>09:31</td>\n",
       "      <td>3923.0</td>\n",
       "      <td>3923.0</td>\n",
       "      <td>3923.0</td>\n",
       "      <td>3923.0</td>\n",
       "      <td>14</td>\n",
       "      <td>32</td>\n",
       "    </tr>\n",
       "    <tr>\n",
       "      <th>12</th>\n",
       "      <td>2016-11-25</td>\n",
       "      <td>09:32</td>\n",
       "      <td>3923.0</td>\n",
       "      <td>3923.0</td>\n",
       "      <td>3923.0</td>\n",
       "      <td>3923.0</td>\n",
       "      <td>2</td>\n",
       "      <td>32</td>\n",
       "    </tr>\n",
       "    <tr>\n",
       "      <th>13</th>\n",
       "      <td>2016-11-25</td>\n",
       "      <td>09:33</td>\n",
       "      <td>3893.0</td>\n",
       "      <td>3893.0</td>\n",
       "      <td>3893.0</td>\n",
       "      <td>3893.0</td>\n",
       "      <td>14</td>\n",
       "      <td>32</td>\n",
       "    </tr>\n",
       "    <tr>\n",
       "      <th>14</th>\n",
       "      <td>2016-11-25</td>\n",
       "      <td>10:06</td>\n",
       "      <td>3920.0</td>\n",
       "      <td>3920.0</td>\n",
       "      <td>3920.0</td>\n",
       "      <td>3920.0</td>\n",
       "      <td>6</td>\n",
       "      <td>26</td>\n",
       "    </tr>\n",
       "    <tr>\n",
       "      <th>15</th>\n",
       "      <td>2016-11-25</td>\n",
       "      <td>10:07</td>\n",
       "      <td>3924.0</td>\n",
       "      <td>3924.0</td>\n",
       "      <td>3924.0</td>\n",
       "      <td>3924.0</td>\n",
       "      <td>6</td>\n",
       "      <td>20</td>\n",
       "    </tr>\n",
       "    <tr>\n",
       "      <th>16</th>\n",
       "      <td>2016-11-25</td>\n",
       "      <td>10:09</td>\n",
       "      <td>3924.0</td>\n",
       "      <td>3924.0</td>\n",
       "      <td>3924.0</td>\n",
       "      <td>3924.0</td>\n",
       "      <td>2</td>\n",
       "      <td>18</td>\n",
       "    </tr>\n",
       "    <tr>\n",
       "      <th>17</th>\n",
       "      <td>2016-11-25</td>\n",
       "      <td>22:07</td>\n",
       "      <td>3957.0</td>\n",
       "      <td>3958.0</td>\n",
       "      <td>3957.0</td>\n",
       "      <td>3958.0</td>\n",
       "      <td>4</td>\n",
       "      <td>14</td>\n",
       "    </tr>\n",
       "    <tr>\n",
       "      <th>18</th>\n",
       "      <td>2016-11-25</td>\n",
       "      <td>22:11</td>\n",
       "      <td>3959.0</td>\n",
       "      <td>3959.0</td>\n",
       "      <td>3959.0</td>\n",
       "      <td>3959.0</td>\n",
       "      <td>2</td>\n",
       "      <td>14</td>\n",
       "    </tr>\n",
       "    <tr>\n",
       "      <th>19</th>\n",
       "      <td>2016-11-25</td>\n",
       "      <td>22:18</td>\n",
       "      <td>3946.0</td>\n",
       "      <td>3946.0</td>\n",
       "      <td>3946.0</td>\n",
       "      <td>3946.0</td>\n",
       "      <td>4</td>\n",
       "      <td>10</td>\n",
       "    </tr>\n",
       "  </tbody>\n",
       "</table>\n",
       "</div>"
      ],
      "text/plain": [
       "             0      1       2       3       4       5   6   7\n",
       "0   2016-11-11  09:52  4060.0  4060.0  4060.0  4060.0   2  12\n",
       "1   2016-11-11  09:53  4060.0  4060.0  4060.0  4060.0  28  38\n",
       "2   2016-11-11  13:55  4044.0  4044.0  4044.0  4044.0   2  38\n",
       "3   2016-11-11  21:32  4022.0  4022.0  4022.0  4022.0   2  36\n",
       "4   2016-11-14  09:14  3931.0  3931.0  3931.0  3931.0   2  36\n",
       "5   2016-11-16  23:29  3925.0  3925.0  3925.0  3925.0   4  40\n",
       "6   2016-11-17  10:47  3846.0  3846.0  3846.0  3846.0   2  42\n",
       "7   2016-11-17  10:50  3866.0  3866.0  3866.0  3866.0   2  40\n",
       "8   2016-11-17  11:23  3878.0  3878.0  3878.0  3878.0   2  40\n",
       "9   2016-11-17  13:51  3891.0  3891.0  3891.0  3891.0   2  38\n",
       "10  2016-11-17  13:56  3873.0  3873.0  3873.0  3873.0   2  36\n",
       "11  2016-11-25  09:31  3923.0  3923.0  3923.0  3923.0  14  32\n",
       "12  2016-11-25  09:32  3923.0  3923.0  3923.0  3923.0   2  32\n",
       "13  2016-11-25  09:33  3893.0  3893.0  3893.0  3893.0  14  32\n",
       "14  2016-11-25  10:06  3920.0  3920.0  3920.0  3920.0   6  26\n",
       "15  2016-11-25  10:07  3924.0  3924.0  3924.0  3924.0   6  20\n",
       "16  2016-11-25  10:09  3924.0  3924.0  3924.0  3924.0   2  18\n",
       "17  2016-11-25  22:07  3957.0  3958.0  3957.0  3958.0   4  14\n",
       "18  2016-11-25  22:11  3959.0  3959.0  3959.0  3959.0   2  14\n",
       "19  2016-11-25  22:18  3946.0  3946.0  3946.0  3946.0   4  10"
      ]
     },
     "execution_count": 49,
     "metadata": {},
     "output_type": "execute_result"
    }
   ],
   "source": [
    "data"
   ]
  },
  {
   "cell_type": "code",
   "execution_count": 12,
   "metadata": {},
   "outputs": [
    {
     "data": {
      "text/plain": [
       "'11'"
      ]
     },
     "execution_count": 12,
     "metadata": {},
     "output_type": "execute_result"
    }
   ],
   "source": [
    "get_name.split(\"AY\")[1]"
   ]
  },
  {
   "cell_type": "code",
   "execution_count": 94,
   "metadata": {},
   "outputs": [
    {
     "data": {
      "text/plain": [
       "'11'"
      ]
     },
     "execution_count": 94,
     "metadata": {},
     "output_type": "execute_result"
    }
   ],
   "source": [
    "A[1]"
   ]
  },
  {
   "cell_type": "code",
   "execution_count": 65,
   "metadata": {
    "collapsed": true
   },
   "outputs": [],
   "source": [
    "a = test.split(\".csv\")"
   ]
  },
  {
   "cell_type": "code",
   "execution_count": 67,
   "metadata": {},
   "outputs": [
    {
     "data": {
      "text/plain": [
       "'DLCS03'"
      ]
     },
     "execution_count": 67,
     "metadata": {},
     "output_type": "execute_result"
    }
   ],
   "source": [
    "a[0]"
   ]
  },
  {
   "cell_type": "code",
   "execution_count": 68,
   "metadata": {
    "collapsed": true
   },
   "outputs": [],
   "source": [
    "b = a[0].split(\"CS\")"
   ]
  },
  {
   "cell_type": "code",
   "execution_count": 70,
   "metadata": {},
   "outputs": [
    {
     "data": {
      "text/plain": [
       "'03'"
      ]
     },
     "execution_count": 70,
     "metadata": {},
     "output_type": "execute_result"
    }
   ],
   "source": [
    "b[1]"
   ]
  },
  {
   "cell_type": "code",
   "execution_count": null,
   "metadata": {
    "collapsed": true
   },
   "outputs": [],
   "source": []
  }
 ],
 "metadata": {
  "kernelspec": {
   "display_name": "Python [conda env:py36]",
   "language": "python",
   "name": "conda-env-py36-py"
  },
  "language_info": {
   "codemirror_mode": {
    "name": "ipython",
    "version": 3
   },
   "file_extension": ".py",
   "mimetype": "text/x-python",
   "name": "python",
   "nbconvert_exporter": "python",
   "pygments_lexer": "ipython3",
   "version": "3.6.2"
  }
 },
 "nbformat": 4,
 "nbformat_minor": 2
}
