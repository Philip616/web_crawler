{
 "cells": [
  {
   "cell_type": "code",
   "execution_count": 1,
   "metadata": {
    "collapsed": true
   },
   "outputs": [],
   "source": [
    "import pandas as pd\n",
    "import MySQLdb\n",
    "import os"
   ]
  },
  {
   "cell_type": "code",
   "execution_count": 2,
   "metadata": {
    "collapsed": true
   },
   "outputs": [],
   "source": [
    "db = MySQLdb.connect(\"localhost\",\"root\",\"123456\")\n",
    "db.set_character_set(\"gbk\")"
   ]
  },
  {
   "cell_type": "code",
   "execution_count": 3,
   "metadata": {
    "collapsed": true
   },
   "outputs": [],
   "source": [
    "db = MySQLdb.connect(\"47.100.14.137\",\"hyps44413\",\"Nanhua\")\n",
    "db.set_character_set('gbk')"
   ]
  },
  {
   "cell_type": "markdown",
   "metadata": {},
   "source": [
    "# 大商所一分鐘資料"
   ]
  },
  {
   "cell_type": "code",
   "execution_count": 3,
   "metadata": {
    "collapsed": true
   },
   "outputs": [],
   "source": [
    "#2013以后\n",
    "DL = {'AY':'A_1','AM':'A_1','AX':'A_1','CS':'CS','FB':'FB','I':'I','JD':'JD','JM':'JM','L':'L',\\\n",
    "      'BB':'BB','M':'M','PP':'PP','V':'V','Y':'Y','BM':'A_2','CM':'C','PM':'P','JMI':'J'}\n",
    "\n",
    "#2013以前\n",
    "#DL = {\"aY\":'A_1','aM':'A_1','aX':'A_1','fb':'FB','i':'I','jd':'JD','jM':'JM','l':'L',\\\n",
    "#      'bb':'BB','m':'M','v':'V','y':'Y','bM':'A_2','cM':'C','pM':'P','jMI':'J'}"
   ]
  },
  {
   "cell_type": "code",
   "execution_count": 7,
   "metadata": {
    "collapsed": true,
    "scrolled": true
   },
   "outputs": [],
   "source": [
    "future_type_list = [\"aM\",\"aX\",\"aY\",\"bb\",\"bM\",\"cM\",\"fb\",\"i\",\"jM\",\"jd\",\"l\",\"m\",\"pM\",\"v\",\"y\"]\n",
    "DATA_DIR = \"../1分钟 商品期货/商品期货1分钟2010/DL\"\n",
    "for future_type in future_type_list:\n",
    "    for filename in os.listdir(DATA_DIR): \n",
    "        cursor = db.cursor()\n",
    "        dbname = DL[future_type]\n",
    "        \n",
    "        #sql = \"CREATE DATABASE IF NOT EXISTS \" + dbname\n",
    "        #cursor.execute(sql)\n",
    "        \n",
    "        get_name = filename.split(\".csv\")[0]\n",
    "        get_contract_name = get_name.split(\"DL\")[1]\n",
    "        \n",
    "        try:\n",
    "            if(get_contract_name.find(future_type) == 0):\n",
    "                '''sql = \"CREATE TABLE IF NOT EXISTS \" + dbname +\".\"+ get_contract_name + \\\n",
    "                      \" (Date DATE,\\\n",
    "                        Time TIME(5),\\\n",
    "                        Open FLOAT,\\\n",
    "                        High FLOAT,\\\n",
    "                        Low FLOAT,\\\n",
    "                        Clos FLOAT,\\\n",
    "                        Volume FLOAT,\\\n",
    "                        OI FLOAT,\\\n",
    "                        primary key(Date,Time))\"\n",
    "                cursor.execute(sql)'''\n",
    "                \n",
    "                data = pd.read_csv(DATA_DIR+\"/\"+filename,header=None,engine='python')\n",
    "            \n",
    "                for i in range(len(data)):\n",
    "                    sql = \"INSERT INTO \" + dbname + \".\" + get_contract_name + \" VALUES (%s,%s,%s,%s,%s,%s,%s,%s)\"\n",
    "                    cursor.execute(sql.format(),(data.iloc[i][0],data.iloc[i][1],data.iloc[i][2],data.iloc[i][3],data.iloc[i][4],\n",
    "                                   data.iloc[i][5],data.iloc[i][6],data.iloc[i][7]))\n",
    "           \n",
    "        except BaseException as e:          \n",
    "            continue\n",
    "        cursor.close()\n",
    "    db.commit()"
   ]
  },
  {
   "cell_type": "markdown",
   "metadata": {},
   "source": [
    "# 大商所代碼分不出來的"
   ]
  },
  {
   "cell_type": "code",
   "execution_count": 5,
   "metadata": {
    "collapsed": true
   },
   "outputs": [],
   "source": [
    "#2013以后\n",
    "#DL_O = {'B':'A_2','C':'C','J':'J','P':'P'}\n",
    "\n",
    "#2013以前\n",
    "DL_O = {'b':'A_2','c':'C','j':'J','p':'P'}"
   ]
  },
  {
   "cell_type": "code",
   "execution_count": 6,
   "metadata": {
    "collapsed": true
   },
   "outputs": [],
   "source": [
    "future_type_list = [\"b\",\"c\",\"j\",\"p\"]\n",
    "DATA_DIR = \"../1分钟 商品期货/商品期货1分钟2011/DL_O\"\n",
    "for future_type in future_type_list:\n",
    "    for filename in os.listdir(DATA_DIR): \n",
    "        cursor = db.cursor()\n",
    "        dbname = DL_O[future_type]\n",
    "        \n",
    "        #sql = \"CREATE DATABASE IF NOT EXISTS \" + dbname\n",
    "        #cursor.execute(sql)\n",
    "        \n",
    "        get_name = filename.split(\".csv\")[0]\n",
    "        get_contract_name = get_name.split(\"DL\")[1]\n",
    "        \n",
    "        try:\n",
    "            if(get_contract_name.find(future_type) == 0):\n",
    "                '''sql = \"CREATE TABLE IF NOT EXISTS \" + dbname +\".\"+ get_contract_name + \\\n",
    "                      \" (Date DATE,\\\n",
    "                        Time TIME(5),\\\n",
    "                        Open FLOAT,\\\n",
    "                        High FLOAT,\\\n",
    "                        Low FLOAT,\\\n",
    "                        Clos FLOAT,\\\n",
    "                        Volume FLOAT,\\\n",
    "                        OI FLOAT,\\\n",
    "                        primary key(Date,Time))\"\n",
    "                cursor.execute(sql)'''\n",
    "                \n",
    "                data = pd.read_csv(DATA_DIR+\"/\"+filename,header=None,engine='python')\n",
    "            \n",
    "                for i in range(len(data)):\n",
    "                    sql = \"INSERT INTO \" + dbname + \".\" + get_contract_name + \" VALUES (%s,%s,%s,%s,%s,%s,%s,%s)\"\n",
    "                    cursor.execute(sql.format(),(data.iloc[i][0],data.iloc[i][1],data.iloc[i][2],data.iloc[i][3],data.iloc[i][4],\n",
    "                                   data.iloc[i][5],data.iloc[i][6],data.iloc[i][7]))\n",
    "           \n",
    "        except BaseException as e:         \n",
    "            continue\n",
    "        cursor.close()\n",
    "    db.commit()"
   ]
  },
  {
   "cell_type": "markdown",
   "metadata": {},
   "source": [
    "# 大商所資料更新"
   ]
  },
  {
   "cell_type": "code",
   "execution_count": 29,
   "metadata": {
    "collapsed": true
   },
   "outputs": [
    {
     "ename": "FileNotFoundError",
     "evalue": "[Errno 2] No such file or directory: '../min data/DCE MIN DATA/~$ACA.xlsx'",
     "output_type": "error",
     "traceback": [
      "\u001b[1;31m---------------------------------------------------------------------------\u001b[0m",
      "\u001b[1;31mFileNotFoundError\u001b[0m                         Traceback (most recent call last)",
      "\u001b[1;32m<ipython-input-29-cbb2f5a44b9c>\u001b[0m in \u001b[0;36m<module>\u001b[1;34m()\u001b[0m\n\u001b[0;32m      2\u001b[0m \u001b[1;32mfor\u001b[0m \u001b[0mfilename\u001b[0m \u001b[1;32min\u001b[0m \u001b[0mos\u001b[0m\u001b[1;33m.\u001b[0m\u001b[0mlistdir\u001b[0m\u001b[1;33m(\u001b[0m\u001b[0mDATA_DIR\u001b[0m\u001b[1;33m)\u001b[0m\u001b[1;33m:\u001b[0m\u001b[1;33m\u001b[0m\u001b[0m\n\u001b[0;32m      3\u001b[0m \u001b[1;33m\u001b[0m\u001b[0m\n\u001b[1;32m----> 4\u001b[1;33m     \u001b[0mdata\u001b[0m \u001b[1;33m=\u001b[0m \u001b[0mpd\u001b[0m\u001b[1;33m.\u001b[0m\u001b[0mread_excel\u001b[0m\u001b[1;33m(\u001b[0m\u001b[0mDATA_DIR\u001b[0m\u001b[1;33m+\u001b[0m\u001b[1;34m\"/\"\u001b[0m\u001b[1;33m+\u001b[0m\u001b[0mfilename\u001b[0m\u001b[1;33m,\u001b[0m\u001b[0mheader\u001b[0m\u001b[1;33m=\u001b[0m\u001b[1;32mNone\u001b[0m\u001b[1;33m)\u001b[0m\u001b[1;33m\u001b[0m\u001b[0m\n\u001b[0m\u001b[0;32m      5\u001b[0m \u001b[1;33m\u001b[0m\u001b[0m\n\u001b[0;32m      6\u001b[0m     \u001b[0mfolderName\u001b[0m \u001b[1;33m=\u001b[0m \u001b[0mfilename\u001b[0m\u001b[1;33m.\u001b[0m\u001b[0msplit\u001b[0m\u001b[1;33m(\u001b[0m\u001b[1;34m\".xlsx\"\u001b[0m\u001b[1;33m)\u001b[0m\u001b[1;33m[\u001b[0m\u001b[1;36m0\u001b[0m\u001b[1;33m]\u001b[0m\u001b[1;33m\u001b[0m\u001b[0m\n",
      "\u001b[1;32m~\\Anaconda3\\lib\\site-packages\\pandas\\io\\excel.py\u001b[0m in \u001b[0;36mread_excel\u001b[1;34m(io, sheetname, header, skiprows, skip_footer, index_col, names, parse_cols, parse_dates, date_parser, na_values, thousands, convert_float, has_index_names, converters, dtype, true_values, false_values, engine, squeeze, **kwds)\u001b[0m\n\u001b[0;32m    201\u001b[0m \u001b[1;33m\u001b[0m\u001b[0m\n\u001b[0;32m    202\u001b[0m     \u001b[1;32mif\u001b[0m \u001b[1;32mnot\u001b[0m \u001b[0misinstance\u001b[0m\u001b[1;33m(\u001b[0m\u001b[0mio\u001b[0m\u001b[1;33m,\u001b[0m \u001b[0mExcelFile\u001b[0m\u001b[1;33m)\u001b[0m\u001b[1;33m:\u001b[0m\u001b[1;33m\u001b[0m\u001b[0m\n\u001b[1;32m--> 203\u001b[1;33m         \u001b[0mio\u001b[0m \u001b[1;33m=\u001b[0m \u001b[0mExcelFile\u001b[0m\u001b[1;33m(\u001b[0m\u001b[0mio\u001b[0m\u001b[1;33m,\u001b[0m \u001b[0mengine\u001b[0m\u001b[1;33m=\u001b[0m\u001b[0mengine\u001b[0m\u001b[1;33m)\u001b[0m\u001b[1;33m\u001b[0m\u001b[0m\n\u001b[0m\u001b[0;32m    204\u001b[0m \u001b[1;33m\u001b[0m\u001b[0m\n\u001b[0;32m    205\u001b[0m     return io._parse_excel(\n",
      "\u001b[1;32m~\\Anaconda3\\lib\\site-packages\\pandas\\io\\excel.py\u001b[0m in \u001b[0;36m__init__\u001b[1;34m(self, io, **kwds)\u001b[0m\n\u001b[0;32m    258\u001b[0m             \u001b[0mself\u001b[0m\u001b[1;33m.\u001b[0m\u001b[0mbook\u001b[0m \u001b[1;33m=\u001b[0m \u001b[0mxlrd\u001b[0m\u001b[1;33m.\u001b[0m\u001b[0mopen_workbook\u001b[0m\u001b[1;33m(\u001b[0m\u001b[0mfile_contents\u001b[0m\u001b[1;33m=\u001b[0m\u001b[0mdata\u001b[0m\u001b[1;33m)\u001b[0m\u001b[1;33m\u001b[0m\u001b[0m\n\u001b[0;32m    259\u001b[0m         \u001b[1;32melif\u001b[0m \u001b[0misinstance\u001b[0m\u001b[1;33m(\u001b[0m\u001b[0mio\u001b[0m\u001b[1;33m,\u001b[0m \u001b[0mcompat\u001b[0m\u001b[1;33m.\u001b[0m\u001b[0mstring_types\u001b[0m\u001b[1;33m)\u001b[0m\u001b[1;33m:\u001b[0m\u001b[1;33m\u001b[0m\u001b[0m\n\u001b[1;32m--> 260\u001b[1;33m             \u001b[0mself\u001b[0m\u001b[1;33m.\u001b[0m\u001b[0mbook\u001b[0m \u001b[1;33m=\u001b[0m \u001b[0mxlrd\u001b[0m\u001b[1;33m.\u001b[0m\u001b[0mopen_workbook\u001b[0m\u001b[1;33m(\u001b[0m\u001b[0mio\u001b[0m\u001b[1;33m)\u001b[0m\u001b[1;33m\u001b[0m\u001b[0m\n\u001b[0m\u001b[0;32m    261\u001b[0m         \u001b[1;32melse\u001b[0m\u001b[1;33m:\u001b[0m\u001b[1;33m\u001b[0m\u001b[0m\n\u001b[0;32m    262\u001b[0m             raise ValueError('Must explicitly set engine if not passing in'\n",
      "\u001b[1;32m~\\Anaconda3\\lib\\site-packages\\xlrd\\__init__.py\u001b[0m in \u001b[0;36mopen_workbook\u001b[1;34m(filename, logfile, verbosity, use_mmap, file_contents, encoding_override, formatting_info, on_demand, ragged_rows)\u001b[0m\n\u001b[0;32m    114\u001b[0m         \u001b[0mpeek\u001b[0m \u001b[1;33m=\u001b[0m \u001b[0mfile_contents\u001b[0m\u001b[1;33m[\u001b[0m\u001b[1;33m:\u001b[0m\u001b[0mpeeksz\u001b[0m\u001b[1;33m]\u001b[0m\u001b[1;33m\u001b[0m\u001b[0m\n\u001b[0;32m    115\u001b[0m     \u001b[1;32melse\u001b[0m\u001b[1;33m:\u001b[0m\u001b[1;33m\u001b[0m\u001b[0m\n\u001b[1;32m--> 116\u001b[1;33m         \u001b[1;32mwith\u001b[0m \u001b[0mopen\u001b[0m\u001b[1;33m(\u001b[0m\u001b[0mfilename\u001b[0m\u001b[1;33m,\u001b[0m \u001b[1;34m\"rb\"\u001b[0m\u001b[1;33m)\u001b[0m \u001b[1;32mas\u001b[0m \u001b[0mf\u001b[0m\u001b[1;33m:\u001b[0m\u001b[1;33m\u001b[0m\u001b[0m\n\u001b[0m\u001b[0;32m    117\u001b[0m             \u001b[0mpeek\u001b[0m \u001b[1;33m=\u001b[0m \u001b[0mf\u001b[0m\u001b[1;33m.\u001b[0m\u001b[0mread\u001b[0m\u001b[1;33m(\u001b[0m\u001b[0mpeeksz\u001b[0m\u001b[1;33m)\u001b[0m\u001b[1;33m\u001b[0m\u001b[0m\n\u001b[0;32m    118\u001b[0m     \u001b[1;32mif\u001b[0m \u001b[0mpeek\u001b[0m \u001b[1;33m==\u001b[0m \u001b[1;34mb\"PK\\x03\\x04\"\u001b[0m\u001b[1;33m:\u001b[0m \u001b[1;31m# a ZIP file\u001b[0m\u001b[1;33m\u001b[0m\u001b[0m\n",
      "\u001b[1;31mFileNotFoundError\u001b[0m: [Errno 2] No such file or directory: '../min data/DCE MIN DATA/~$ACA.xlsx'"
     ]
    }
   ],
   "source": [
    "DATA_DIR = \"../min data/DCE MIN DATA\"\n",
    "for filename in os.listdir(DATA_DIR):\n",
    "    \n",
    "    data = pd.read_excel(DATA_DIR+\"/\"+filename,header=None)\n",
    "    \n",
    "    folderName = filename.split(\".xlsx\")[0]\n",
    "    \n",
    "    name_column = 0\n",
    "    column = 0\n",
    "    next_column = 8\n",
    "    while column < len(data.loc[0]):\n",
    "        name = data.iloc[0][name_column]\n",
    "        split_data = data.iloc[2::,column:next_column]\n",
    "        \n",
    "        split_data = split_data.drop([3])       \n",
    "        split_data = split_data.dropna(how='all')\n",
    "        \n",
    "        split_data.to_csv(\"../DCE min/\" + folderName + \"/\" + name.strip() + \".csv\",header=None,index=None)\n",
    "        \n",
    "        name_column += 8\n",
    "        column += 8\n",
    "        next_column += 8\n",
    "    "
   ]
  },
  {
   "cell_type": "code",
   "execution_count": null,
   "metadata": {
    "collapsed": true
   },
   "outputs": [],
   "source": [
    "DATA_DIR = \"../DCE min/ACA\"\n",
    "for filename in os.listdir(DATA_DIR):\n",
    "    data = pd.read_csv(DATA_DIR+\"/\"+filename,header=None) \n",
    "    \n",
    "    "
   ]
  },
  {
   "cell_type": "markdown",
   "metadata": {},
   "source": [
    "# 上期所"
   ]
  },
  {
   "cell_type": "code",
   "execution_count": 5,
   "metadata": {
    "collapsed": true
   },
   "outputs": [],
   "source": [
    "#2013以前\n",
    "#SQ = ['au','bu','fu','hc','rb','ru','wr','ag','al','cu','pb','zn','ni','sn']\n",
    "\n",
    "#2013以後\n",
    "SQ = ['AU','BU','FU','HC','RB','RU','WR','AG','AL','CU','PB','ZN','NI','SN']"
   ]
  },
  {
   "cell_type": "code",
   "execution_count": null,
   "metadata": {},
   "outputs": [
    {
     "name": "stderr",
     "output_type": "stream",
     "text": [
      "C:\\Users\\Philip\\Anaconda3\\lib\\site-packages\\ipykernel_launcher.py:10: Warning: (1007, \"Can't create database 'sq_o'; database exists\")\n",
      "  # Remove the CWD from sys.path while we load stuff.\n"
     ]
    }
   ],
   "source": [
    "DATA_DIR = \"../1分钟 商品期货/商品期货1分钟2017/SQ_O\"\n",
    "for future_type in SQ:\n",
    "    for filename in os.listdir(DATA_DIR):\n",
    "        cursor = db.cursor()\n",
    "        \n",
    "        #dbname = future_type.lower()\n",
    "        dbname = \"sq_o\"\n",
    "\n",
    "        sql = \"CREATE DATABASE IF NOT EXISTS \" + dbname\n",
    "        cursor.execute(sql)\n",
    "\n",
    "        get_name = filename.split(\".csv\")[0]\n",
    "        get_contract_name = get_name.split(\"SQ\")[1]\n",
    "        \n",
    "        try:\n",
    "            if(get_contract_name.find(future_type) == 0):\n",
    "                '''sql = \"CREATE TABLE IF NOT EXISTS \" + dbname +\".\"+ get_contract_name + \\\n",
    "                      \" (Date DATE,\\\n",
    "                        Time TIME(5),\\\n",
    "                        Open FLOAT(5),\\\n",
    "                        High FLOAT(5),\\\n",
    "                        Low FLOAT(5),\\\n",
    "                        Clos FLOAT(5),\\\n",
    "                        Volume FLOAT(5),\\\n",
    "                        OI FLOAT(5),\\\n",
    "                        primary key(Date,Time))\"\n",
    "                cursor.execute(sql)'''\n",
    "                \n",
    "                data = pd.read_csv(DATA_DIR+\"/\"+filename,header=None,engine='python')\n",
    "                \n",
    "                values=[]\n",
    "            \n",
    "                for i in range(len(data)):                   \n",
    "                    values.append((data.iloc[i][0],data.iloc[i][1],data.iloc[i][2],data.iloc[i][3],data.iloc[i][4],\n",
    "                                   data.iloc[i][5],data.iloc[i][6],data.iloc[i][7]))\n",
    "                    \n",
    "                sql = \"INSERT INTO \" + dbname + \".\" + get_contract_name + \" VALUES (%s,%s,%s,%s,%s,%s,%s,%s)\"\n",
    "                cursor.executemany(sql,values)\n",
    "           \n",
    "        except BaseException as e:         \n",
    "            continue\n",
    "        cursor.close()\n",
    "    db.commit()"
   ]
  },
  {
   "cell_type": "code",
   "execution_count": null,
   "metadata": {
    "collapsed": true
   },
   "outputs": [],
   "source": [
    ".\n"
   ]
  }
 ],
 "metadata": {
  "kernelspec": {
   "display_name": "Python 3",
   "language": "python",
   "name": "python3"
  },
  "language_info": {
   "codemirror_mode": {
    "name": "ipython",
    "version": 3
   },
   "file_extension": ".py",
   "mimetype": "text/x-python",
   "name": "python",
   "nbconvert_exporter": "python",
   "pygments_lexer": "ipython3",
   "version": "3.6.3"
  }
 },
 "nbformat": 4,
 "nbformat_minor": 2
}
