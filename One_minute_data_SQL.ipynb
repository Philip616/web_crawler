{
 "cells": [
  {
   "cell_type": "code",
   "execution_count": 1,
   "metadata": {
    "collapsed": true
   },
   "outputs": [],
   "source": [
    "import pandas as pd\n",
    "import MySQLdb\n",
    "import os"
   ]
  },
  {
   "cell_type": "code",
   "execution_count": 2,
   "metadata": {
    "collapsed": true
   },
   "outputs": [],
   "source": [
    "db = MySQLdb.connect(\"localhost\",\"root\",\"123456\")\n",
    "db.set_character_set(\"gbk\")"
   ]
  },
  {
   "cell_type": "markdown",
   "metadata": {},
   "source": [
    "# 各交易所一分鐘資料"
   ]
  },
  {
   "cell_type": "code",
   "execution_count": 3,
   "metadata": {
    "collapsed": true
   },
   "outputs": [],
   "source": [
    "#2013以后\n",
    "#DL = {'AY':'A_1','AM':'A_1','AX':'A_1','CS':'CS','FB':'FB','I':'I','JD':'JD','JM':'JM','L':'L',\\\n",
    "#      'BB':'BB','M':'M','PP':'PP','V':'V','Y':'Y','BM':'A_2','CM':'C','PM':'P','JMI':'J'}\n",
    "\n",
    "#2013以前\n",
    "DL = {\"aY\":'A_1','aM':'A_1','aX':'A_1','fb':'FB','i':'I','jd':'JD','jM':'JM','l':'L',\\\n",
    "      'bb':'BB','m':'M','v':'V','y':'Y','bM':'A_2','cM':'C','pM':'P','jMI':'J'}"
   ]
  },
  {
   "cell_type": "code",
   "execution_count": 7,
   "metadata": {
    "scrolled": true
   },
   "outputs": [],
   "source": [
    "future_type_list = [\"aM\",\"aX\",\"aY\",\"bb\",\"bM\",\"cM\",\"fb\",\"i\",\"jM\",\"jd\",\"l\",\"m\",\"pM\",\"v\",\"y\"]\n",
    "DATA_DIR = \"../1分钟 商品期货/商品期货1分钟2010/DL\"\n",
    "for future_type in future_type_list:\n",
    "    for filename in os.listdir(DATA_DIR): \n",
    "        cursor = db.cursor()\n",
    "        dbname = DL[future_type]\n",
    "        \n",
    "        #sql = \"CREATE DATABASE IF NOT EXISTS \" + dbname\n",
    "        #cursor.execute(sql)\n",
    "        \n",
    "        get_name = filename.split(\".csv\")[0]\n",
    "        get_contract_name = get_name.split(\"DL\")[1]\n",
    "        \n",
    "        try:\n",
    "            if(get_contract_name.find(future_type) == 0):\n",
    "                '''sql = \"CREATE TABLE IF NOT EXISTS \" + dbname +\".\"+ get_contract_name + \\\n",
    "                      \" (Date DATE,\\\n",
    "                        Time TIME(5),\\\n",
    "                        Open FLOAT,\\\n",
    "                        High FLOAT,\\\n",
    "                        Low FLOAT,\\\n",
    "                        Clos FLOAT,\\\n",
    "                        Volume FLOAT,\\\n",
    "                        OI FLOAT,\\\n",
    "                        primary key(Date,Time))\"\n",
    "                cursor.execute(sql)'''\n",
    "                \n",
    "                data = pd.read_csv(DATA_DIR+\"/\"+filename,header=None,engine='python')\n",
    "            \n",
    "                for i in range(len(data)):\n",
    "                    sql = \"INSERT INTO \" + dbname + \".\" + get_contract_name + \" VALUES (%s,%s,%s,%s,%s,%s,%s,%s)\"\n",
    "                    cursor.execute(sql.format(),(data.iloc[i][0],data.iloc[i][1],data.iloc[i][2],data.iloc[i][3],data.iloc[i][4],\n",
    "                                   data.iloc[i][5],data.iloc[i][6],data.iloc[i][7]))\n",
    "           \n",
    "        except BaseException as e:          \n",
    "            continue\n",
    "        cursor.close()\n",
    "    db.commit()"
   ]
  },
  {
   "cell_type": "markdown",
   "metadata": {},
   "source": [
    "# 大商所代碼分不出來的"
   ]
  },
  {
   "cell_type": "code",
   "execution_count": 5,
   "metadata": {
    "collapsed": true
   },
   "outputs": [],
   "source": [
    "#2013以后\n",
    "#DL_O = {'B':'A_2','C':'C','J':'J','P':'P'}\n",
    "\n",
    "#2013以前\n",
    "DL_O = {'b':'A_2','c':'C','j':'J','p':'P'}"
   ]
  },
  {
   "cell_type": "code",
   "execution_count": 6,
   "metadata": {
    "collapsed": true
   },
   "outputs": [],
   "source": [
    "future_type_list = [\"b\",\"c\",\"j\",\"p\"]\n",
    "DATA_DIR = \"../1分钟 商品期货/商品期货1分钟2011/DL_O\"\n",
    "for future_type in future_type_list:\n",
    "    for filename in os.listdir(DATA_DIR): \n",
    "        cursor = db.cursor()\n",
    "        dbname = DL_O[future_type]\n",
    "        \n",
    "        #sql = \"CREATE DATABASE IF NOT EXISTS \" + dbname\n",
    "        #cursor.execute(sql)\n",
    "        \n",
    "        get_name = filename.split(\".csv\")[0]\n",
    "        get_contract_name = get_name.split(\"DL\")[1]\n",
    "        \n",
    "        try:\n",
    "            if(get_contract_name.find(future_type) == 0):\n",
    "                '''sql = \"CREATE TABLE IF NOT EXISTS \" + dbname +\".\"+ get_contract_name + \\\n",
    "                      \" (Date DATE,\\\n",
    "                        Time TIME(5),\\\n",
    "                        Open FLOAT,\\\n",
    "                        High FLOAT,\\\n",
    "                        Low FLOAT,\\\n",
    "                        Clos FLOAT,\\\n",
    "                        Volume FLOAT,\\\n",
    "                        OI FLOAT,\\\n",
    "                        primary key(Date,Time))\"\n",
    "                cursor.execute(sql)'''\n",
    "                \n",
    "                data = pd.read_csv(DATA_DIR+\"/\"+filename,header=None,engine='python')\n",
    "            \n",
    "                for i in range(len(data)):\n",
    "                    sql = \"INSERT INTO \" + dbname + \".\" + get_contract_name + \" VALUES (%s,%s,%s,%s,%s,%s,%s,%s)\"\n",
    "                    cursor.execute(sql.format(),(data.iloc[i][0],data.iloc[i][1],data.iloc[i][2],data.iloc[i][3],data.iloc[i][4],\n",
    "                                   data.iloc[i][5],data.iloc[i][6],data.iloc[i][7]))\n",
    "           \n",
    "        except BaseException as e:         \n",
    "            continue\n",
    "        cursor.close()\n",
    "    db.commit()"
   ]
  },
  {
   "cell_type": "code",
   "execution_count": null,
   "metadata": {
    "collapsed": true
   },
   "outputs": [],
   "source": []
  }
 ],
 "metadata": {
  "kernelspec": {
   "display_name": "Python 3",
   "language": "python",
   "name": "python3"
  },
  "language_info": {
   "codemirror_mode": {
    "name": "ipython",
    "version": 3
   },
   "file_extension": ".py",
   "mimetype": "text/x-python",
   "name": "python",
   "nbconvert_exporter": "python",
   "pygments_lexer": "ipython3",
   "version": "3.6.3"
  }
 },
 "nbformat": 4,
 "nbformat_minor": 2
}
